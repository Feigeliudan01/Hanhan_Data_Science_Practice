{
 "cells": [
  {
   "cell_type": "code",
   "execution_count": 8,
   "metadata": {},
   "outputs": [],
   "source": [
    "# Read local image files, instead of reading image urls\n",
    "\n",
    "import os\n",
    "import numpy as np\n",
    "import pandas as pd\n",
    "import scipy\n",
    "import sklearn\n",
    "import keras\n",
    "from keras.models import Sequential\n",
    "from keras.layers import Dense, Activation, Dropout, Convolution2D, Flatten, MaxPooling2D, Reshape, InputLayer\n",
    "import cv2\n",
    "from skimage import io\n",
    "\n",
    "%matplotlib inline"
   ]
  },
  {
   "cell_type": "code",
   "execution_count": 4,
   "metadata": {},
   "outputs": [],
   "source": [
    "rose_images = os.listdir(\"rose_images\")\n",
    "sunflower_images = os.listdir(\"sunflower_images\")\n",
    "rosepath = \"rose_images/\"\n",
    "sfpath = \"sunflower_images/\""
   ]
  },
  {
   "cell_type": "code",
   "execution_count": 6,
   "metadata": {
    "collapsed": true
   },
   "outputs": [],
   "source": [
    "images=[]\n",
    "label = []\n",
    "\n",
    "for rose in rose_images:\n",
    "    image = scipy.misc.imread(rosepath+rose)\n",
    "    images.append(image)\n",
    "    label.append(0)  #for rose images\n",
    "\n",
    "for sunflower in sunflower_images:\n",
    "    image = scipy.misc.imread(sfpath+sunflower)\n",
    "    images.append(image)\n",
    "    label.append(1) #for sunflower images"
   ]
  },
  {
   "cell_type": "code",
   "execution_count": 9,
   "metadata": {},
   "outputs": [],
   "source": [
    "image_backup = images"
   ]
  },
  {
   "cell_type": "code",
   "execution_count": 10,
   "metadata": {
    "collapsed": true
   },
   "outputs": [],
   "source": [
    "for i in range(len(images)):\n",
    "    images[i]=cv2.resize(images[i],(300,300))"
   ]
  },
  {
   "cell_type": "code",
   "execution_count": 11,
   "metadata": {
    "collapsed": true
   },
   "outputs": [],
   "source": [
    "images=np.array(images)\n",
    "label=np.array(label)"
   ]
  },
  {
   "cell_type": "code",
   "execution_count": 12,
   "metadata": {
    "collapsed": true
   },
   "outputs": [],
   "source": [
    "filters=10\n",
    "filtersize=(5,5)\n",
    "epochs =7\n",
    "batchsize=128\n",
    "input_shape=(300,300,3)"
   ]
  },
  {
   "cell_type": "code",
   "execution_count": 13,
   "metadata": {
    "collapsed": true
   },
   "outputs": [],
   "source": [
    "from keras.utils.np_utils import to_categorical\n",
    "\n",
    "label = to_categorical(label)"
   ]
  },
  {
   "cell_type": "code",
   "execution_count": 14,
   "metadata": {},
   "outputs": [
    {
     "name": "stdout",
     "output_type": "stream",
     "text": [
      "Train on 69 samples, validate on 30 samples\n",
      "Epoch 1/7\n",
      "69/69 [==============================] - 7s - loss: 5.3747 - acc: 0.6522 - val_loss: 1.1921e-07 - val_acc: 1.0000\n",
      "Epoch 2/7\n",
      "69/69 [==============================] - 6s - loss: 11.6798 - acc: 0.2754 - val_loss: 1.1921e-07 - val_acc: 1.0000\n",
      "Epoch 3/7\n",
      "69/69 [==============================] - 5s - loss: 11.6798 - acc: 0.2754 - val_loss: 1.1921e-07 - val_acc: 1.0000\n",
      "Epoch 4/7\n",
      "69/69 [==============================] - 5s - loss: 11.6798 - acc: 0.2754 - val_loss: 1.1921e-07 - val_acc: 1.0000\n",
      "Epoch 5/7\n",
      "69/69 [==============================] - 6s - loss: 11.6798 - acc: 0.2754 - val_loss: 1.1921e-07 - val_acc: 1.0000\n",
      "Epoch 6/7\n",
      "69/69 [==============================] - 5s - loss: 11.6798 - acc: 0.2754 - val_loss: 1.1921e-07 - val_acc: 1.0000\n",
      "Epoch 7/7\n",
      "69/69 [==============================] - 5s - loss: 11.6798 - acc: 0.2754 - val_loss: 1.1921e-07 - val_acc: 1.0000\n",
      "_________________________________________________________________\n",
      "Layer (type)                 Output Shape              Param #   \n",
      "=================================================================\n",
      "input_1 (InputLayer)         (None, 300, 300, 3)       0         \n",
      "_________________________________________________________________\n",
      "conv2d_1 (Conv2D)            (None, 296, 296, 10)      760       \n",
      "_________________________________________________________________\n",
      "max_pooling2d_1 (MaxPooling2 (None, 148, 148, 10)      0         \n",
      "_________________________________________________________________\n",
      "flatten_1 (Flatten)          (None, 219040)            0         \n",
      "_________________________________________________________________\n",
      "dense_1 (Dense)              (None, 2)                 438082    \n",
      "=================================================================\n",
      "Total params: 438,842\n",
      "Trainable params: 438,842\n",
      "Non-trainable params: 0\n",
      "_________________________________________________________________\n"
     ]
    }
   ],
   "source": [
    "model = Sequential()\n",
    "\n",
    "model.add(keras.layers.InputLayer(input_shape=input_shape))\n",
    "\n",
    "model.add(keras.layers.convolutional.Conv2D(filters, filtersize, strides=(1, 1), \n",
    "                                            padding='valid', data_format=\"channels_last\", activation='relu'))\n",
    "model.add(keras.layers.MaxPooling2D(pool_size=(2, 2)))\n",
    "model.add(keras.layers.Flatten())\n",
    "\n",
    "model.add(keras.layers.Dense(units=2, input_dim=50,activation='softmax'))\n",
    "\n",
    "model.compile(loss='categorical_crossentropy', optimizer='adam', metrics=['accuracy'])\n",
    "model.fit(images, label, epochs=epochs, batch_size=batchsize,validation_split=0.3)\n",
    "\n",
    "model.summary()"
   ]
  }
 ],
 "metadata": {
  "kernelspec": {
   "display_name": "Python2 conda_env",
   "language": "python",
   "name": "testenv"
  },
  "language_info": {
   "codemirror_mode": {
    "name": "ipython",
    "version": 2
   },
   "file_extension": ".py",
   "mimetype": "text/x-python",
   "name": "python",
   "nbconvert_exporter": "python",
   "pygments_lexer": "ipython2",
   "version": "2.7.13"
  }
 },
 "nbformat": 4,
 "nbformat_minor": 2
}
