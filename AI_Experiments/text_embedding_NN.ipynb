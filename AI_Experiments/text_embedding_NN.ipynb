{
 "cells": [
  {
   "cell_type": "code",
   "execution_count": 1,
   "metadata": {
    "collapsed": true
   },
   "outputs": [],
   "source": [
    "# movie review dataset homepage: http://www.cs.cornell.edu/people/pabo/movie-review-data/\n",
    "# Download the dataset used here: http://www.cs.cornell.edu/people/pabo/movie-review-data/review_polarity.tar.gz\n",
    "\n",
    "# In this code\n",
    "## Step1 - Generate vocabulary from the raw text data\n",
    "## Step2 - basic data preprocessing + neural network"
   ]
  },
  {
   "cell_type": "code",
   "execution_count": null,
   "metadata": {
    "collapsed": true
   },
   "outputs": [],
   "source": [
    "import nltk\n",
    "\n",
    "nltk.download('stopwords')\n",
    "stopwords = nltk.corpus.stopwords.words('english')"
   ]
  },
  {
   "cell_type": "code",
   "execution_count": 15,
   "metadata": {},
   "outputs": [],
   "source": [
    "# STEP 1 - Generate Vocabulary (word, count)\n",
    "\n",
    "import string\n",
    "from collections import Counter\n",
    "from os import listdir\n",
    "\n",
    "neg_reviews_folder = \"review_polarity/txt_sentoken/neg/\"\n",
    "pos_reviews_folder = \"review_polarity/txt_sentoken/pos/\"\n",
    "\n",
    "# convert each raw text to cleaned token list\n",
    "def clean_text(raw_text_path):\n",
    "    with open(raw_text_path) as text_in:\n",
    "        raw_text = text_in.read()\n",
    "        tokens = raw_text.split()\n",
    "        # remove punctuation\n",
    "        tokens = [w.strip(string.punctuation) for w in tokens]\n",
    "        # only keep alphabetic non-stop words\n",
    "        tokens = [w for w in tokens if w.isalpha()==True and w not in stopwords]\n",
    "        # remove short words\n",
    "        tokens = [w for w in tokens if len(w) >= 3]\n",
    "    return tokens\n",
    "\n",
    "vocabCounter = Counter()\n",
    "\n",
    "for f_name in listdir(neg_reviews_folder):\n",
    "    if f_name.startswith('cv7'):\n",
    "        neg_tokens = clean_text(neg_reviews_folder + f_name)\n",
    "        vocabCounter.update(neg_tokens)\n",
    "           \n",
    "for f_name in listdir(pos_reviews_folder):\n",
    "    if f_name.startswith('cv9'):\n",
    "        pos_tokens = clean_text(pos_reviews_folder + f_name)\n",
    "        vocabCounter.update(pos_tokens)"
   ]
  },
  {
   "cell_type": "code",
   "execution_count": 17,
   "metadata": {},
   "outputs": [
    {
     "name": "stdout",
     "output_type": "stream",
     "text": [
      "13153\n",
      "[('film', 944), ('movie', 646), ('one', 541), ('like', 337), ('even', 269), ('good', 242), ('time', 235), ('story', 215), ('also', 214), ('would', 209), ('much', 204), ('get', 202), ('characters', 195), ('character', 191), ('see', 188), ('two', 188), ('well', 187), ('films', 184), ('way', 173), ('could', 169), ('really', 166), ('make', 166), ('first', 165), ('people', 162), ('plot', 160), ('little', 154), ('movies', 149), ('bad', 148), ('life', 141), ('many', 137), ('scene', 137), ('scenes', 134), ('another', 133), ('action', 132), ('new', 132), ('best', 128), ('never', 125), ('know', 123), ('director', 119), ('great', 117), ('something', 114), ('original', 111), ('man', 111), ('enough', 110), ('end', 110), ('back', 109), ('makes', 109), ('better', 109), ('however', 108), ('made', 108), ('world', 104), ('john', 104), ('going', 103), ('star', 101), ('love', 98), ('still', 98), ('things', 96), ('audience', 95), ('nothing', 94), ('say', 93), ('actually', 93), ('seems', 93), ('work', 92), ('find', 92), ('acting', 91), ('point', 91), ('big', 91), ('every', 91), ('take', 90), ('real', 88), ('think', 88), ('guy', 87), ('almost', 87), ('though', 87), ('look', 86), ('around', 85), ('performance', 85), ('series', 84), ('thing', 84)]\n"
     ]
    }
   ],
   "source": [
    "print len(vocabCounter)\n",
    "print vocabCounter.most_common(79)"
   ]
  }
 ],
 "metadata": {
  "kernelspec": {
   "display_name": "Python2 conda_virtualenv",
   "language": "python",
   "name": "testenv"
  },
  "language_info": {
   "codemirror_mode": {
    "name": "ipython",
    "version": 2
   },
   "file_extension": ".py",
   "mimetype": "text/x-python",
   "name": "python",
   "nbconvert_exporter": "python",
   "pygments_lexer": "ipython2",
   "version": "2.7.13"
  }
 },
 "nbformat": 4,
 "nbformat_minor": 2
}
