{
 "cells": [
  {
   "cell_type": "code",
   "execution_count": null,
   "metadata": {
    "collapsed": true
   },
   "outputs": [],
   "source": [
    "# In this file, trying lightGBM with cross validation\n",
    "# try the package in scikit-learn too\n",
    "# single thread\n",
    "\n",
    "# lgb document: http://lightgbm.readthedocs.io/en/latest/python/lightgbm.html#lightgbm-package\n",
    "# xgb document: http://xgboost.readthedocs.io/en/latest/python/python_api.html\n",
    "\n",
    "# LightGBM scikit-learn API: http://lightgbm.readthedocs.io/en/latest/python/lightgbm.html#scikit-learn-api\n",
    "# XGBoost scikit-learn API: http://xgboost.readthedocs.io/en/latest/python/python_api.html#module-xgboost.sklearn\n",
    "# both scikit-learn lightGBM, Xgboost provide regressor and classifier"
   ]
  },
  {
   "cell_type": "code",
   "execution_count": 13,
   "metadata": {},
   "outputs": [],
   "source": [
    "import numpy as np \n",
    "import pandas as pd \n",
    "from pandas import Series, DataFrame \n",
    "import lightgbm as lgb \n",
    "import xgboost as xgb \n",
    "from datetime import datetime \n",
    "from sklearn.preprocessing import LabelEncoder,OneHotEncoder\n",
    "from sklearn.metrics import accuracy_score, confusion_matrix, roc_auc_score\n",
    "from sklearn.model_selection import train_test_split \n",
    "\n",
    "from lightgbm.sklearn import LGBMClassifier\n",
    "from xgboost.sklearn import XGBClassifier\n",
    "from sklearn.grid_search import GridSearchCV \n",
    "from xgboost import plot_importance\n",
    "from lightgbm import plot_importance as lgb_plot_importance\n",
    "%matplotlib inline"
   ]
  },
  {
   "cell_type": "code",
   "execution_count": 2,
   "metadata": {},
   "outputs": [
    {
     "data": {
      "text/html": [
       "<div>\n",
       "<style>\n",
       "    .dataframe thead tr:only-child th {\n",
       "        text-align: right;\n",
       "    }\n",
       "\n",
       "    .dataframe thead th {\n",
       "        text-align: left;\n",
       "    }\n",
       "\n",
       "    .dataframe tbody tr th {\n",
       "        vertical-align: top;\n",
       "    }\n",
       "</style>\n",
       "<table border=\"1\" class=\"dataframe\">\n",
       "  <thead>\n",
       "    <tr style=\"text-align: right;\">\n",
       "      <th></th>\n",
       "      <th>age</th>\n",
       "      <th>workclass</th>\n",
       "      <th>fnlwgt</th>\n",
       "      <th>education</th>\n",
       "      <th>education-num</th>\n",
       "      <th>marital_Status</th>\n",
       "      <th>occupation</th>\n",
       "      <th>relationship</th>\n",
       "      <th>race</th>\n",
       "      <th>sex</th>\n",
       "      <th>capital_gain</th>\n",
       "      <th>capital_loss</th>\n",
       "      <th>hours_per_week</th>\n",
       "      <th>native_country</th>\n",
       "      <th>Income</th>\n",
       "    </tr>\n",
       "  </thead>\n",
       "  <tbody>\n",
       "    <tr>\n",
       "      <th>0</th>\n",
       "      <td>39</td>\n",
       "      <td>State-gov</td>\n",
       "      <td>77516</td>\n",
       "      <td>Bachelors</td>\n",
       "      <td>13</td>\n",
       "      <td>Never-married</td>\n",
       "      <td>Adm-clerical</td>\n",
       "      <td>Not-in-family</td>\n",
       "      <td>White</td>\n",
       "      <td>Male</td>\n",
       "      <td>2174</td>\n",
       "      <td>0</td>\n",
       "      <td>40</td>\n",
       "      <td>United-States</td>\n",
       "      <td>&lt;=50K</td>\n",
       "    </tr>\n",
       "    <tr>\n",
       "      <th>1</th>\n",
       "      <td>50</td>\n",
       "      <td>Self-emp-not-inc</td>\n",
       "      <td>83311</td>\n",
       "      <td>Bachelors</td>\n",
       "      <td>13</td>\n",
       "      <td>Married-civ-spouse</td>\n",
       "      <td>Exec-managerial</td>\n",
       "      <td>Husband</td>\n",
       "      <td>White</td>\n",
       "      <td>Male</td>\n",
       "      <td>0</td>\n",
       "      <td>0</td>\n",
       "      <td>13</td>\n",
       "      <td>United-States</td>\n",
       "      <td>&lt;=50K</td>\n",
       "    </tr>\n",
       "    <tr>\n",
       "      <th>2</th>\n",
       "      <td>38</td>\n",
       "      <td>Private</td>\n",
       "      <td>215646</td>\n",
       "      <td>HS-grad</td>\n",
       "      <td>9</td>\n",
       "      <td>Divorced</td>\n",
       "      <td>Handlers-cleaners</td>\n",
       "      <td>Not-in-family</td>\n",
       "      <td>White</td>\n",
       "      <td>Male</td>\n",
       "      <td>0</td>\n",
       "      <td>0</td>\n",
       "      <td>40</td>\n",
       "      <td>United-States</td>\n",
       "      <td>&lt;=50K</td>\n",
       "    </tr>\n",
       "    <tr>\n",
       "      <th>3</th>\n",
       "      <td>53</td>\n",
       "      <td>Private</td>\n",
       "      <td>234721</td>\n",
       "      <td>11th</td>\n",
       "      <td>7</td>\n",
       "      <td>Married-civ-spouse</td>\n",
       "      <td>Handlers-cleaners</td>\n",
       "      <td>Husband</td>\n",
       "      <td>Black</td>\n",
       "      <td>Male</td>\n",
       "      <td>0</td>\n",
       "      <td>0</td>\n",
       "      <td>40</td>\n",
       "      <td>United-States</td>\n",
       "      <td>&lt;=50K</td>\n",
       "    </tr>\n",
       "    <tr>\n",
       "      <th>4</th>\n",
       "      <td>28</td>\n",
       "      <td>Private</td>\n",
       "      <td>338409</td>\n",
       "      <td>Bachelors</td>\n",
       "      <td>13</td>\n",
       "      <td>Married-civ-spouse</td>\n",
       "      <td>Prof-specialty</td>\n",
       "      <td>Wife</td>\n",
       "      <td>Black</td>\n",
       "      <td>Female</td>\n",
       "      <td>0</td>\n",
       "      <td>0</td>\n",
       "      <td>40</td>\n",
       "      <td>Cuba</td>\n",
       "      <td>&lt;=50K</td>\n",
       "    </tr>\n",
       "  </tbody>\n",
       "</table>\n",
       "</div>"
      ],
      "text/plain": [
       "   age          workclass  fnlwgt   education  education-num  \\\n",
       "0   39          State-gov   77516   Bachelors             13   \n",
       "1   50   Self-emp-not-inc   83311   Bachelors             13   \n",
       "2   38            Private  215646     HS-grad              9   \n",
       "3   53            Private  234721        11th              7   \n",
       "4   28            Private  338409   Bachelors             13   \n",
       "\n",
       "        marital_Status          occupation    relationship    race      sex  \\\n",
       "0        Never-married        Adm-clerical   Not-in-family   White     Male   \n",
       "1   Married-civ-spouse     Exec-managerial         Husband   White     Male   \n",
       "2             Divorced   Handlers-cleaners   Not-in-family   White     Male   \n",
       "3   Married-civ-spouse   Handlers-cleaners         Husband   Black     Male   \n",
       "4   Married-civ-spouse      Prof-specialty            Wife   Black   Female   \n",
       "\n",
       "   capital_gain  capital_loss  hours_per_week  native_country  Income  \n",
       "0          2174             0              40   United-States   <=50K  \n",
       "1             0             0              13   United-States   <=50K  \n",
       "2             0             0              40   United-States   <=50K  \n",
       "3             0             0              40   United-States   <=50K  \n",
       "4             0             0              40            Cuba   <=50K  "
      ]
     },
     "execution_count": 2,
     "metadata": {},
     "output_type": "execute_result"
    }
   ],
   "source": [
    "data=pd.read_csv('adult.csv',header=None) \n",
    "# assign column names to the data\n",
    "data.columns=['age','workclass','fnlwgt','education','education-num','marital_Status','occupation','relationship','race','sex','capital_gain','capital_loss','hours_per_week','native_country','Income'] \n",
    "data.head()"
   ]
  },
  {
   "cell_type": "code",
   "execution_count": 3,
   "metadata": {},
   "outputs": [
    {
     "data": {
      "text/plain": [
       "0    24720\n",
       "1     7841\n",
       "Name: Income, dtype: int64"
      ]
     },
     "execution_count": 3,
     "metadata": {},
     "output_type": "execute_result"
    }
   ],
   "source": [
    "# data preprocessing\n",
    "\n",
    "## encode label\n",
    "l=LabelEncoder() \n",
    "l.fit(data.Income) \n",
    "l.classes_ \n",
    "data.Income=Series(l.transform(data.Income))\n",
    "data.Income.value_counts()"
   ]
  },
  {
   "cell_type": "code",
   "execution_count": 4,
   "metadata": {
    "collapsed": true
   },
   "outputs": [],
   "source": [
    "## convert categorical data into one-hot, and drop original categorical data\n",
    "one_hot_workclass=pd.get_dummies(data.workclass) \n",
    "one_hot_education=pd.get_dummies(data.education) \n",
    "one_hot_marital_Status=pd.get_dummies(data.marital_Status) \n",
    "one_hot_occupation=pd.get_dummies(data.occupation)\n",
    "one_hot_relationship=pd.get_dummies(data.relationship) \n",
    "one_hot_race=pd.get_dummies(data.race) \n",
    "one_hot_sex=pd.get_dummies(data.sex) \n",
    "one_hot_native_country=pd.get_dummies(data.native_country) \n",
    "\n",
    "data.drop(['workclass','education','marital_Status','occupation','relationship','race','sex','native_country'],axis=1,inplace=True) "
   ]
  },
  {
   "cell_type": "code",
   "execution_count": 5,
   "metadata": {},
   "outputs": [
    {
     "data": {
      "text/html": [
       "<div>\n",
       "<style>\n",
       "    .dataframe thead tr:only-child th {\n",
       "        text-align: right;\n",
       "    }\n",
       "\n",
       "    .dataframe thead th {\n",
       "        text-align: left;\n",
       "    }\n",
       "\n",
       "    .dataframe tbody tr th {\n",
       "        vertical-align: top;\n",
       "    }\n",
       "</style>\n",
       "<table border=\"1\" class=\"dataframe\">\n",
       "  <thead>\n",
       "    <tr style=\"text-align: right;\">\n",
       "      <th></th>\n",
       "      <th>10th</th>\n",
       "      <th>11th</th>\n",
       "      <th>12th</th>\n",
       "      <th>1st-4th</th>\n",
       "      <th>5th-6th</th>\n",
       "      <th>7th-8th</th>\n",
       "      <th>9th</th>\n",
       "      <th>?</th>\n",
       "      <th>Adm-clerical</th>\n",
       "      <th>Amer-Indian-Eskimo</th>\n",
       "      <th>...</th>\n",
       "      <th>Wife</th>\n",
       "      <th>Without-pay</th>\n",
       "      <th>Yugoslavia</th>\n",
       "      <th>Income</th>\n",
       "      <th>age</th>\n",
       "      <th>capital_gain</th>\n",
       "      <th>capital_loss</th>\n",
       "      <th>education-num</th>\n",
       "      <th>fnlwgt</th>\n",
       "      <th>hours_per_week</th>\n",
       "    </tr>\n",
       "  </thead>\n",
       "  <tbody>\n",
       "    <tr>\n",
       "      <th>0</th>\n",
       "      <td>0</td>\n",
       "      <td>0</td>\n",
       "      <td>0</td>\n",
       "      <td>0</td>\n",
       "      <td>0</td>\n",
       "      <td>0</td>\n",
       "      <td>0</td>\n",
       "      <td>0</td>\n",
       "      <td>1</td>\n",
       "      <td>0</td>\n",
       "      <td>...</td>\n",
       "      <td>0</td>\n",
       "      <td>0</td>\n",
       "      <td>0</td>\n",
       "      <td>0</td>\n",
       "      <td>39</td>\n",
       "      <td>2174</td>\n",
       "      <td>0</td>\n",
       "      <td>13</td>\n",
       "      <td>77516</td>\n",
       "      <td>40</td>\n",
       "    </tr>\n",
       "    <tr>\n",
       "      <th>1</th>\n",
       "      <td>0</td>\n",
       "      <td>0</td>\n",
       "      <td>0</td>\n",
       "      <td>0</td>\n",
       "      <td>0</td>\n",
       "      <td>0</td>\n",
       "      <td>0</td>\n",
       "      <td>0</td>\n",
       "      <td>0</td>\n",
       "      <td>0</td>\n",
       "      <td>...</td>\n",
       "      <td>0</td>\n",
       "      <td>0</td>\n",
       "      <td>0</td>\n",
       "      <td>0</td>\n",
       "      <td>50</td>\n",
       "      <td>0</td>\n",
       "      <td>0</td>\n",
       "      <td>13</td>\n",
       "      <td>83311</td>\n",
       "      <td>13</td>\n",
       "    </tr>\n",
       "    <tr>\n",
       "      <th>2</th>\n",
       "      <td>0</td>\n",
       "      <td>0</td>\n",
       "      <td>0</td>\n",
       "      <td>0</td>\n",
       "      <td>0</td>\n",
       "      <td>0</td>\n",
       "      <td>0</td>\n",
       "      <td>0</td>\n",
       "      <td>0</td>\n",
       "      <td>0</td>\n",
       "      <td>...</td>\n",
       "      <td>0</td>\n",
       "      <td>0</td>\n",
       "      <td>0</td>\n",
       "      <td>0</td>\n",
       "      <td>38</td>\n",
       "      <td>0</td>\n",
       "      <td>0</td>\n",
       "      <td>9</td>\n",
       "      <td>215646</td>\n",
       "      <td>40</td>\n",
       "    </tr>\n",
       "    <tr>\n",
       "      <th>3</th>\n",
       "      <td>0</td>\n",
       "      <td>1</td>\n",
       "      <td>0</td>\n",
       "      <td>0</td>\n",
       "      <td>0</td>\n",
       "      <td>0</td>\n",
       "      <td>0</td>\n",
       "      <td>0</td>\n",
       "      <td>0</td>\n",
       "      <td>0</td>\n",
       "      <td>...</td>\n",
       "      <td>0</td>\n",
       "      <td>0</td>\n",
       "      <td>0</td>\n",
       "      <td>0</td>\n",
       "      <td>53</td>\n",
       "      <td>0</td>\n",
       "      <td>0</td>\n",
       "      <td>7</td>\n",
       "      <td>234721</td>\n",
       "      <td>40</td>\n",
       "    </tr>\n",
       "    <tr>\n",
       "      <th>4</th>\n",
       "      <td>0</td>\n",
       "      <td>0</td>\n",
       "      <td>0</td>\n",
       "      <td>0</td>\n",
       "      <td>0</td>\n",
       "      <td>0</td>\n",
       "      <td>0</td>\n",
       "      <td>0</td>\n",
       "      <td>0</td>\n",
       "      <td>0</td>\n",
       "      <td>...</td>\n",
       "      <td>1</td>\n",
       "      <td>0</td>\n",
       "      <td>0</td>\n",
       "      <td>0</td>\n",
       "      <td>28</td>\n",
       "      <td>0</td>\n",
       "      <td>0</td>\n",
       "      <td>13</td>\n",
       "      <td>338409</td>\n",
       "      <td>40</td>\n",
       "    </tr>\n",
       "  </tbody>\n",
       "</table>\n",
       "<p>5 rows × 107 columns</p>\n",
       "</div>"
      ],
      "text/plain": [
       "    10th   11th   12th   1st-4th   5th-6th   7th-8th   9th   ?   Adm-clerical  \\\n",
       "0      0      0      0         0         0         0     0   0              1   \n",
       "1      0      0      0         0         0         0     0   0              0   \n",
       "2      0      0      0         0         0         0     0   0              0   \n",
       "3      0      1      0         0         0         0     0   0              0   \n",
       "4      0      0      0         0         0         0     0   0              0   \n",
       "\n",
       "    Amer-Indian-Eskimo       ...         Wife   Without-pay   Yugoslavia  \\\n",
       "0                    0       ...            0             0            0   \n",
       "1                    0       ...            0             0            0   \n",
       "2                    0       ...            0             0            0   \n",
       "3                    0       ...            0             0            0   \n",
       "4                    0       ...            1             0            0   \n",
       "\n",
       "   Income  age  capital_gain  capital_loss  education-num  fnlwgt  \\\n",
       "0       0   39          2174             0             13   77516   \n",
       "1       0   50             0             0             13   83311   \n",
       "2       0   38             0             0              9  215646   \n",
       "3       0   53             0             0              7  234721   \n",
       "4       0   28             0             0             13  338409   \n",
       "\n",
       "   hours_per_week  \n",
       "0              40  \n",
       "1              13  \n",
       "2              40  \n",
       "3              40  \n",
       "4              40  \n",
       "\n",
       "[5 rows x 107 columns]"
      ]
     },
     "execution_count": 5,
     "metadata": {},
     "output_type": "execute_result"
    }
   ],
   "source": [
    "data=pd.concat([data,one_hot_workclass,one_hot_education,one_hot_marital_Status,one_hot_occupation,one_hot_relationship,one_hot_race,one_hot_sex,one_hot_native_country],axis=1) \n",
    "## remove dulpicate columns \n",
    "i = np.unique(data.columns, return_index=True) \n",
    "data=data.iloc[:, i[1]]  # use the index of unique columns\n",
    "data.head()"
   ]
  },
  {
   "cell_type": "code",
   "execution_count": 6,
   "metadata": {
    "collapsed": true
   },
   "outputs": [],
   "source": [
    "features = data.drop('Income',axis=1) \n",
    "label = data.Income"
   ]
  },
  {
   "cell_type": "code",
   "execution_count": 7,
   "metadata": {
    "collapsed": true
   },
   "outputs": [],
   "source": [
    "label.mode()[0]\n",
    "label.fillna(label.mode()[0],inplace=True)  # impute missing data with mode"
   ]
  },
  {
   "cell_type": "code",
   "execution_count": 8,
   "metadata": {},
   "outputs": [
    {
     "data": {
      "text/plain": [
       "0    24720\n",
       "1     7841\n",
       "Name: Income, dtype: int64"
      ]
     },
     "execution_count": 8,
     "metadata": {},
     "output_type": "execute_result"
    }
   ],
   "source": [
    "label.value_counts()"
   ]
  },
  {
   "cell_type": "code",
   "execution_count": 9,
   "metadata": {
    "collapsed": true
   },
   "outputs": [],
   "source": [
    "features_train,features_test,label_train,label_test=train_test_split(features,label,test_size=.3)"
   ]
  },
  {
   "cell_type": "code",
   "execution_count": 95,
   "metadata": {
    "collapsed": true
   },
   "outputs": [],
   "source": [
    "# method 1 - xgboost, with cross validation\n",
    "\n",
    "dtrain=xgb.DMatrix(features_train,label=label_train)\n",
    "dtest=xgb.DMatrix(features_test)\n",
    "## booster params\n",
    "booster_params = {'max_depth':7, 'eta':1, 'silent':1,'objective':'binary:logistic','eval_metric':'auc','learning_rate':.05}"
   ]
  },
  {
   "cell_type": "code",
   "execution_count": 49,
   "metadata": {},
   "outputs": [
    {
     "name": "stdout",
     "output_type": "stream",
     "text": [
      "(50, 4)\n"
     ]
    }
   ],
   "source": [
    "num_boost_round = 50\n",
    "nfold = 5\n",
    "metrics = ('auc', 'logloss')\n",
    "seed = 410\n",
    "\n",
    "xgb_cv = xgb.cv(booster_params, dtrain, num_boost_round, nfold, metrics, seed)\n",
    "print(xgb_cv.shape)"
   ]
  },
  {
   "cell_type": "code",
   "execution_count": 48,
   "metadata": {},
   "outputs": [
    {
     "data": {
      "text/html": [
       "<div>\n",
       "<style>\n",
       "    .dataframe thead tr:only-child th {\n",
       "        text-align: right;\n",
       "    }\n",
       "\n",
       "    .dataframe thead th {\n",
       "        text-align: left;\n",
       "    }\n",
       "\n",
       "    .dataframe tbody tr th {\n",
       "        vertical-align: top;\n",
       "    }\n",
       "</style>\n",
       "<table border=\"1\" class=\"dataframe\">\n",
       "  <thead>\n",
       "    <tr style=\"text-align: right;\">\n",
       "      <th></th>\n",
       "      <th>test-auc-mean</th>\n",
       "      <th>test-auc-std</th>\n",
       "      <th>train-auc-mean</th>\n",
       "      <th>train-auc-std</th>\n",
       "    </tr>\n",
       "  </thead>\n",
       "  <tbody>\n",
       "    <tr>\n",
       "      <th>0</th>\n",
       "      <td>0.850824</td>\n",
       "      <td>0.003935</td>\n",
       "      <td>0.859200</td>\n",
       "      <td>0.001329</td>\n",
       "    </tr>\n",
       "    <tr>\n",
       "      <th>1</th>\n",
       "      <td>0.852598</td>\n",
       "      <td>0.003079</td>\n",
       "      <td>0.861530</td>\n",
       "      <td>0.001734</td>\n",
       "    </tr>\n",
       "    <tr>\n",
       "      <th>2</th>\n",
       "      <td>0.853106</td>\n",
       "      <td>0.003554</td>\n",
       "      <td>0.862625</td>\n",
       "      <td>0.001434</td>\n",
       "    </tr>\n",
       "    <tr>\n",
       "      <th>3</th>\n",
       "      <td>0.854285</td>\n",
       "      <td>0.004212</td>\n",
       "      <td>0.863689</td>\n",
       "      <td>0.001647</td>\n",
       "    </tr>\n",
       "    <tr>\n",
       "      <th>4</th>\n",
       "      <td>0.855042</td>\n",
       "      <td>0.004495</td>\n",
       "      <td>0.864591</td>\n",
       "      <td>0.000981</td>\n",
       "    </tr>\n",
       "    <tr>\n",
       "      <th>5</th>\n",
       "      <td>0.855559</td>\n",
       "      <td>0.004038</td>\n",
       "      <td>0.865549</td>\n",
       "      <td>0.000874</td>\n",
       "    </tr>\n",
       "    <tr>\n",
       "      <th>6</th>\n",
       "      <td>0.856063</td>\n",
       "      <td>0.003676</td>\n",
       "      <td>0.866360</td>\n",
       "      <td>0.001218</td>\n",
       "    </tr>\n",
       "    <tr>\n",
       "      <th>7</th>\n",
       "      <td>0.856301</td>\n",
       "      <td>0.003618</td>\n",
       "      <td>0.866771</td>\n",
       "      <td>0.001364</td>\n",
       "    </tr>\n",
       "    <tr>\n",
       "      <th>8</th>\n",
       "      <td>0.856692</td>\n",
       "      <td>0.003609</td>\n",
       "      <td>0.867315</td>\n",
       "      <td>0.001473</td>\n",
       "    </tr>\n",
       "    <tr>\n",
       "      <th>9</th>\n",
       "      <td>0.857321</td>\n",
       "      <td>0.003379</td>\n",
       "      <td>0.867708</td>\n",
       "      <td>0.001699</td>\n",
       "    </tr>\n",
       "    <tr>\n",
       "      <th>10</th>\n",
       "      <td>0.857595</td>\n",
       "      <td>0.003271</td>\n",
       "      <td>0.868208</td>\n",
       "      <td>0.001508</td>\n",
       "    </tr>\n",
       "    <tr>\n",
       "      <th>11</th>\n",
       "      <td>0.858033</td>\n",
       "      <td>0.003339</td>\n",
       "      <td>0.868602</td>\n",
       "      <td>0.001401</td>\n",
       "    </tr>\n",
       "    <tr>\n",
       "      <th>12</th>\n",
       "      <td>0.857986</td>\n",
       "      <td>0.003347</td>\n",
       "      <td>0.868967</td>\n",
       "      <td>0.001425</td>\n",
       "    </tr>\n",
       "    <tr>\n",
       "      <th>13</th>\n",
       "      <td>0.858467</td>\n",
       "      <td>0.003098</td>\n",
       "      <td>0.869444</td>\n",
       "      <td>0.001435</td>\n",
       "    </tr>\n",
       "    <tr>\n",
       "      <th>14</th>\n",
       "      <td>0.858670</td>\n",
       "      <td>0.003110</td>\n",
       "      <td>0.869718</td>\n",
       "      <td>0.001458</td>\n",
       "    </tr>\n",
       "    <tr>\n",
       "      <th>15</th>\n",
       "      <td>0.858907</td>\n",
       "      <td>0.003026</td>\n",
       "      <td>0.870040</td>\n",
       "      <td>0.001409</td>\n",
       "    </tr>\n",
       "    <tr>\n",
       "      <th>16</th>\n",
       "      <td>0.859236</td>\n",
       "      <td>0.002819</td>\n",
       "      <td>0.870416</td>\n",
       "      <td>0.001384</td>\n",
       "    </tr>\n",
       "    <tr>\n",
       "      <th>17</th>\n",
       "      <td>0.859557</td>\n",
       "      <td>0.002853</td>\n",
       "      <td>0.870786</td>\n",
       "      <td>0.001360</td>\n",
       "    </tr>\n",
       "    <tr>\n",
       "      <th>18</th>\n",
       "      <td>0.859745</td>\n",
       "      <td>0.002837</td>\n",
       "      <td>0.871000</td>\n",
       "      <td>0.001378</td>\n",
       "    </tr>\n",
       "    <tr>\n",
       "      <th>19</th>\n",
       "      <td>0.859865</td>\n",
       "      <td>0.002767</td>\n",
       "      <td>0.871256</td>\n",
       "      <td>0.001235</td>\n",
       "    </tr>\n",
       "    <tr>\n",
       "      <th>20</th>\n",
       "      <td>0.860032</td>\n",
       "      <td>0.002827</td>\n",
       "      <td>0.871565</td>\n",
       "      <td>0.001147</td>\n",
       "    </tr>\n",
       "    <tr>\n",
       "      <th>21</th>\n",
       "      <td>0.860121</td>\n",
       "      <td>0.002718</td>\n",
       "      <td>0.871807</td>\n",
       "      <td>0.001133</td>\n",
       "    </tr>\n",
       "    <tr>\n",
       "      <th>22</th>\n",
       "      <td>0.860308</td>\n",
       "      <td>0.002820</td>\n",
       "      <td>0.872097</td>\n",
       "      <td>0.001162</td>\n",
       "    </tr>\n",
       "    <tr>\n",
       "      <th>23</th>\n",
       "      <td>0.860543</td>\n",
       "      <td>0.002749</td>\n",
       "      <td>0.872397</td>\n",
       "      <td>0.001250</td>\n",
       "    </tr>\n",
       "    <tr>\n",
       "      <th>24</th>\n",
       "      <td>0.860661</td>\n",
       "      <td>0.002844</td>\n",
       "      <td>0.872634</td>\n",
       "      <td>0.001264</td>\n",
       "    </tr>\n",
       "    <tr>\n",
       "      <th>25</th>\n",
       "      <td>0.860790</td>\n",
       "      <td>0.002815</td>\n",
       "      <td>0.872966</td>\n",
       "      <td>0.001300</td>\n",
       "    </tr>\n",
       "    <tr>\n",
       "      <th>26</th>\n",
       "      <td>0.860901</td>\n",
       "      <td>0.002739</td>\n",
       "      <td>0.873108</td>\n",
       "      <td>0.001322</td>\n",
       "    </tr>\n",
       "    <tr>\n",
       "      <th>27</th>\n",
       "      <td>0.861142</td>\n",
       "      <td>0.002940</td>\n",
       "      <td>0.873382</td>\n",
       "      <td>0.001251</td>\n",
       "    </tr>\n",
       "    <tr>\n",
       "      <th>28</th>\n",
       "      <td>0.861207</td>\n",
       "      <td>0.002992</td>\n",
       "      <td>0.873566</td>\n",
       "      <td>0.001238</td>\n",
       "    </tr>\n",
       "    <tr>\n",
       "      <th>29</th>\n",
       "      <td>0.861276</td>\n",
       "      <td>0.002998</td>\n",
       "      <td>0.873715</td>\n",
       "      <td>0.001296</td>\n",
       "    </tr>\n",
       "    <tr>\n",
       "      <th>30</th>\n",
       "      <td>0.861481</td>\n",
       "      <td>0.002920</td>\n",
       "      <td>0.873968</td>\n",
       "      <td>0.001331</td>\n",
       "    </tr>\n",
       "    <tr>\n",
       "      <th>31</th>\n",
       "      <td>0.861652</td>\n",
       "      <td>0.002933</td>\n",
       "      <td>0.874128</td>\n",
       "      <td>0.001312</td>\n",
       "    </tr>\n",
       "    <tr>\n",
       "      <th>32</th>\n",
       "      <td>0.861803</td>\n",
       "      <td>0.002908</td>\n",
       "      <td>0.874265</td>\n",
       "      <td>0.001294</td>\n",
       "    </tr>\n",
       "    <tr>\n",
       "      <th>33</th>\n",
       "      <td>0.861846</td>\n",
       "      <td>0.002971</td>\n",
       "      <td>0.874481</td>\n",
       "      <td>0.001257</td>\n",
       "    </tr>\n",
       "    <tr>\n",
       "      <th>34</th>\n",
       "      <td>0.862016</td>\n",
       "      <td>0.003034</td>\n",
       "      <td>0.874637</td>\n",
       "      <td>0.001257</td>\n",
       "    </tr>\n",
       "    <tr>\n",
       "      <th>35</th>\n",
       "      <td>0.862111</td>\n",
       "      <td>0.003053</td>\n",
       "      <td>0.874782</td>\n",
       "      <td>0.001250</td>\n",
       "    </tr>\n",
       "    <tr>\n",
       "      <th>36</th>\n",
       "      <td>0.862213</td>\n",
       "      <td>0.003033</td>\n",
       "      <td>0.874917</td>\n",
       "      <td>0.001270</td>\n",
       "    </tr>\n",
       "    <tr>\n",
       "      <th>37</th>\n",
       "      <td>0.862422</td>\n",
       "      <td>0.003093</td>\n",
       "      <td>0.875222</td>\n",
       "      <td>0.001211</td>\n",
       "    </tr>\n",
       "    <tr>\n",
       "      <th>38</th>\n",
       "      <td>0.862444</td>\n",
       "      <td>0.003076</td>\n",
       "      <td>0.875392</td>\n",
       "      <td>0.001263</td>\n",
       "    </tr>\n",
       "    <tr>\n",
       "      <th>39</th>\n",
       "      <td>0.862572</td>\n",
       "      <td>0.003047</td>\n",
       "      <td>0.875608</td>\n",
       "      <td>0.001146</td>\n",
       "    </tr>\n",
       "    <tr>\n",
       "      <th>40</th>\n",
       "      <td>0.862571</td>\n",
       "      <td>0.002961</td>\n",
       "      <td>0.875778</td>\n",
       "      <td>0.001214</td>\n",
       "    </tr>\n",
       "    <tr>\n",
       "      <th>41</th>\n",
       "      <td>0.862615</td>\n",
       "      <td>0.003033</td>\n",
       "      <td>0.875890</td>\n",
       "      <td>0.001225</td>\n",
       "    </tr>\n",
       "    <tr>\n",
       "      <th>42</th>\n",
       "      <td>0.862888</td>\n",
       "      <td>0.002804</td>\n",
       "      <td>0.876348</td>\n",
       "      <td>0.001343</td>\n",
       "    </tr>\n",
       "    <tr>\n",
       "      <th>43</th>\n",
       "      <td>0.862918</td>\n",
       "      <td>0.002783</td>\n",
       "      <td>0.876573</td>\n",
       "      <td>0.001368</td>\n",
       "    </tr>\n",
       "    <tr>\n",
       "      <th>44</th>\n",
       "      <td>0.863141</td>\n",
       "      <td>0.002715</td>\n",
       "      <td>0.876803</td>\n",
       "      <td>0.001531</td>\n",
       "    </tr>\n",
       "    <tr>\n",
       "      <th>45</th>\n",
       "      <td>0.863329</td>\n",
       "      <td>0.002631</td>\n",
       "      <td>0.877183</td>\n",
       "      <td>0.001699</td>\n",
       "    </tr>\n",
       "    <tr>\n",
       "      <th>46</th>\n",
       "      <td>0.863452</td>\n",
       "      <td>0.002623</td>\n",
       "      <td>0.877366</td>\n",
       "      <td>0.001735</td>\n",
       "    </tr>\n",
       "    <tr>\n",
       "      <th>47</th>\n",
       "      <td>0.863598</td>\n",
       "      <td>0.002637</td>\n",
       "      <td>0.877624</td>\n",
       "      <td>0.001805</td>\n",
       "    </tr>\n",
       "    <tr>\n",
       "      <th>48</th>\n",
       "      <td>0.863634</td>\n",
       "      <td>0.002599</td>\n",
       "      <td>0.877831</td>\n",
       "      <td>0.001784</td>\n",
       "    </tr>\n",
       "    <tr>\n",
       "      <th>49</th>\n",
       "      <td>0.863773</td>\n",
       "      <td>0.002626</td>\n",
       "      <td>0.878078</td>\n",
       "      <td>0.001795</td>\n",
       "    </tr>\n",
       "  </tbody>\n",
       "</table>\n",
       "</div>"
      ],
      "text/plain": [
       "    test-auc-mean  test-auc-std  train-auc-mean  train-auc-std\n",
       "0        0.850824      0.003935        0.859200       0.001329\n",
       "1        0.852598      0.003079        0.861530       0.001734\n",
       "2        0.853106      0.003554        0.862625       0.001434\n",
       "3        0.854285      0.004212        0.863689       0.001647\n",
       "4        0.855042      0.004495        0.864591       0.000981\n",
       "5        0.855559      0.004038        0.865549       0.000874\n",
       "6        0.856063      0.003676        0.866360       0.001218\n",
       "7        0.856301      0.003618        0.866771       0.001364\n",
       "8        0.856692      0.003609        0.867315       0.001473\n",
       "9        0.857321      0.003379        0.867708       0.001699\n",
       "10       0.857595      0.003271        0.868208       0.001508\n",
       "11       0.858033      0.003339        0.868602       0.001401\n",
       "12       0.857986      0.003347        0.868967       0.001425\n",
       "13       0.858467      0.003098        0.869444       0.001435\n",
       "14       0.858670      0.003110        0.869718       0.001458\n",
       "15       0.858907      0.003026        0.870040       0.001409\n",
       "16       0.859236      0.002819        0.870416       0.001384\n",
       "17       0.859557      0.002853        0.870786       0.001360\n",
       "18       0.859745      0.002837        0.871000       0.001378\n",
       "19       0.859865      0.002767        0.871256       0.001235\n",
       "20       0.860032      0.002827        0.871565       0.001147\n",
       "21       0.860121      0.002718        0.871807       0.001133\n",
       "22       0.860308      0.002820        0.872097       0.001162\n",
       "23       0.860543      0.002749        0.872397       0.001250\n",
       "24       0.860661      0.002844        0.872634       0.001264\n",
       "25       0.860790      0.002815        0.872966       0.001300\n",
       "26       0.860901      0.002739        0.873108       0.001322\n",
       "27       0.861142      0.002940        0.873382       0.001251\n",
       "28       0.861207      0.002992        0.873566       0.001238\n",
       "29       0.861276      0.002998        0.873715       0.001296\n",
       "30       0.861481      0.002920        0.873968       0.001331\n",
       "31       0.861652      0.002933        0.874128       0.001312\n",
       "32       0.861803      0.002908        0.874265       0.001294\n",
       "33       0.861846      0.002971        0.874481       0.001257\n",
       "34       0.862016      0.003034        0.874637       0.001257\n",
       "35       0.862111      0.003053        0.874782       0.001250\n",
       "36       0.862213      0.003033        0.874917       0.001270\n",
       "37       0.862422      0.003093        0.875222       0.001211\n",
       "38       0.862444      0.003076        0.875392       0.001263\n",
       "39       0.862572      0.003047        0.875608       0.001146\n",
       "40       0.862571      0.002961        0.875778       0.001214\n",
       "41       0.862615      0.003033        0.875890       0.001225\n",
       "42       0.862888      0.002804        0.876348       0.001343\n",
       "43       0.862918      0.002783        0.876573       0.001368\n",
       "44       0.863141      0.002715        0.876803       0.001531\n",
       "45       0.863329      0.002631        0.877183       0.001699\n",
       "46       0.863452      0.002623        0.877366       0.001735\n",
       "47       0.863598      0.002637        0.877624       0.001805\n",
       "48       0.863634      0.002599        0.877831       0.001784\n",
       "49       0.863773      0.002626        0.878078       0.001795"
      ]
     },
     "execution_count": 48,
     "metadata": {},
     "output_type": "execute_result"
    }
   ],
   "source": [
    "xgb_cv   # it returns the optimum number of trees required (n_estimators)"
   ]
  },
  {
   "cell_type": "code",
   "execution_count": 92,
   "metadata": {
    "collapsed": true
   },
   "outputs": [],
   "source": [
    "# CV method 1 - xgboost cv() method\n",
    "\n",
    "def modelfit(alg, dtrain, predictors, useTrainCV=True, cv_folds=10, early_stopping_rounds=50):\n",
    "    \n",
    "    if useTrainCV:\n",
    "        xgb_param = alg.get_xgb_params()\n",
    "        xgtrain = dtrain\n",
    "        cvresult = xgb.cv(xgb_param, xgtrain, num_boost_round=alg.get_params()['n_estimators'], nfold=cv_folds,\n",
    "            metrics=('auc'), early_stopping_rounds=early_stopping_rounds, seed = 410)\n",
    "        alg.set_params(n_estimators=cvresult.shape[0])\n",
    "    \n",
    "    #Fit the algorithm on the data\n",
    "    alg_fit = alg.fit(features_train, label_train, eval_metric='auc')\n",
    "        \n",
    "    #Predict training set:\n",
    "    dtrain_predictions = alg.predict(features_train)\n",
    "    dtrain_predprob = alg.predict_proba(features_train)[:,1]\n",
    "        \n",
    "    #Print model report:\n",
    "    print(\"\\nModel Report\")\n",
    "    print(\"Accuracy : %.4g\" % accuracy_score(label_train, dtrain_predictions))\n",
    "    print(\"AUC Score (Train): %f\" % roc_auc_score(label_train, dtrain_predprob))\n",
    "                    \n",
    "    plot_importance(alg_fit, ax=None, height=0.2, xlim=None, ylim=None, title='Feature importance', xlabel='F score', ylabel='Features', importance_type='weight', max_num_features=7, grid=True,)\n",
    "    \n",
    "    return alg_fit"
   ]
  },
  {
   "cell_type": "code",
   "execution_count": 93,
   "metadata": {},
   "outputs": [
    {
     "name": "stdout",
     "output_type": "stream",
     "text": [
      "\n",
      "Model Report\n",
      "Accuracy : 0.8522\n",
      "AUC Score (Train): 0.894681\n",
      "0:00:20.832283\n"
     ]
    },
    {
     "data": {
      "image/png": "[encoded data removed]",
      "text/plain": [
       "<matplotlib.figure.Figure at 0x10dd132e8>"
      ]
     },
     "metadata": {},
     "output_type": "display_data"
    }
   ],
   "source": [
    "start=datetime.now()\n",
    "\n",
    "xgb1 = XGBClassifier(\n",
    " learning_rate =0.1,\n",
    " n_estimators=1000,  # default value here, will be changed by cvresult\n",
    " max_depth=5,\n",
    " min_child_weight=1,\n",
    " gamma=0,\n",
    " subsample=0.8,\n",
    " colsample_bytree=0.8,\n",
    " objective= 'binary:logistic',\n",
    " nthread=4,\n",
    " scale_pos_weight=1,\n",
    " seed=410)\n",
    "xgb_model = modelfit(xgb1, dtrain, features_train)\n",
    "\n",
    "stop=datetime.now()\n",
    "execution_time_lgbm = stop-start\n",
    "print(execution_time_lgbm)  # 0:00:20.234687"
   ]
  },
  {
   "cell_type": "code",
   "execution_count": 99,
   "metadata": {},
   "outputs": [
    {
     "name": "stdout",
     "output_type": "stream",
     "text": [
      "[0 0 0 ..., 0 1 0]\n"
     ]
    }
   ],
   "source": [
    "ypred = xgb_model.predict(features_test) \n",
    "print(ypred)"
   ]
  },
  {
   "cell_type": "code",
   "execution_count": 102,
   "metadata": {},
   "outputs": [
    {
     "name": "stdout",
     "output_type": "stream",
     "text": [
      "sklearn accuracy 0.847476712048\n",
      "accuracy:  0.847476712048\n",
      "AUC:  0.722712689445\n",
      "Precision:  0.957236402512\n",
      "Specificity:  0.777158774373\n",
      "Recall:  0.859594383775\n"
     ]
    }
   ],
   "source": [
    "accuracy_xgb = accuracy_score(label_test,ypred) \n",
    "print(\"sklearn accuracy\", accuracy_xgb)\n",
    "\n",
    "cm = confusion_matrix(label_test, ypred)\n",
    "TP = cm[0][0]\n",
    "FP = cm[0][1]\n",
    "FN = cm[1][0]\n",
    "TN = cm[1][1]\n",
    "\n",
    "accuracy_xgb = (TP + TN)/(TP+FP+FN+TN)   \n",
    "auc_score_xgb = roc_auc_score(label_test, ypred)   \n",
    "precision_xgb = TP/(TP+FP)  \n",
    "specificity_xgb = TN/(TN+FP) \n",
    "recall_xgb = TP/(TP+FN)   \n",
    "print(\"accuracy: \", accuracy_xgb)\n",
    "print(\"AUC: \", auc_score_xgb)\n",
    "print(\"Precision: \", precision_xgb)\n",
    "print(\"Specificity: \", specificity_xgb)\n",
    "print(\"Recall: \", recall_xgb)"
   ]
  },
  {
   "cell_type": "code",
   "execution_count": 109,
   "metadata": {
    "collapsed": true
   },
   "outputs": [],
   "source": [
    "# CV method 2 - GridSearchCV() method\n",
    "## GridSearchCV params: http://scikit-learn.org/stable/modules/generated/sklearn.model_selection.GridSearchCV.html\n",
    "\n",
    "param_set = {\n",
    " 'max_depth':[3,5,7,9],\n",
    " 'min_child_weight':[1,3,5]  # smaller min_child_weight can handle smaller class in inbalanced dataset\n",
    "}\n",
    "gsearch = GridSearchCV(estimator = XGBClassifier( learning_rate =0.1, n_estimators=100, max_depth=5,\n",
    " min_child_weight=1, gamma=0, subsample=0.8, colsample_bytree=0.8, nthread=7,\n",
    " objective= 'binary:logistic', scale_pos_weight=1, seed=410), \n",
    " param_grid = param_set, scoring='roc_auc',n_jobs=7,iid=False, cv=10)"
   ]
  },
  {
   "cell_type": "code",
   "execution_count": 110,
   "metadata": {},
   "outputs": [
    {
     "data": {
      "text/plain": [
       "([mean: 0.86903, std: 0.00681, params: {'max_depth': 3, 'min_child_weight': 1},\n",
       "  mean: 0.86902, std: 0.00695, params: {'max_depth': 3, 'min_child_weight': 3},\n",
       "  mean: 0.86865, std: 0.00690, params: {'max_depth': 3, 'min_child_weight': 5},\n",
       "  mean: 0.87415, std: 0.00686, params: {'max_depth': 5, 'min_child_weight': 1},\n",
       "  mean: 0.87371, std: 0.00721, params: {'max_depth': 5, 'min_child_weight': 3},\n",
       "  mean: 0.87281, std: 0.00723, params: {'max_depth': 5, 'min_child_weight': 5},\n",
       "  mean: 0.87421, std: 0.00724, params: {'max_depth': 7, 'min_child_weight': 1},\n",
       "  mean: 0.87388, std: 0.00693, params: {'max_depth': 7, 'min_child_weight': 3},\n",
       "  mean: 0.87271, std: 0.00696, params: {'max_depth': 7, 'min_child_weight': 5},\n",
       "  mean: 0.87298, std: 0.00649, params: {'max_depth': 9, 'min_child_weight': 1},\n",
       "  mean: 0.87169, std: 0.00657, params: {'max_depth': 9, 'min_child_weight': 3},\n",
       "  mean: 0.87116, std: 0.00658, params: {'max_depth': 9, 'min_child_weight': 5}],\n",
       " {'max_depth': 7, 'min_child_weight': 1},\n",
       " 0.8742110207880858)"
      ]
     },
     "execution_count": 110,
     "metadata": {},
     "output_type": "execute_result"
    }
   ],
   "source": [
    "xgb_model2 = gsearch.fit(features_train, label_train)\n",
    "xgb_model2.grid_scores_, xgb_model2.best_params_, xgb_model2.best_score_"
   ]
  },
  {
   "cell_type": "code",
   "execution_count": 111,
   "metadata": {},
   "outputs": [
    {
     "data": {
      "text/plain": [
       "([mean: 0.87421, std: 0.00724, params: {'gamma': 0.0},\n",
       "  mean: 0.87483, std: 0.00685, params: {'gamma': 0.1},\n",
       "  mean: 0.87472, std: 0.00677, params: {'gamma': 0.2},\n",
       "  mean: 0.87498, std: 0.00677, params: {'gamma': 0.3},\n",
       "  mean: 0.87459, std: 0.00688, params: {'gamma': 0.4}],\n",
       " {'gamma': 0.3},\n",
       " 0.8749824643981604)"
      ]
     },
     "execution_count": 111,
     "metadata": {},
     "output_type": "execute_result"
    }
   ],
   "source": [
    "# modify values with optimum values and tune other params\n",
    "\n",
    "param_set = {\n",
    " 'gamma':[i/10.0 for i in range(0,5)]\n",
    "}\n",
    "gsearch = GridSearchCV(estimator = XGBClassifier( learning_rate =0.1, n_estimators=100, max_depth=7,\n",
    " min_child_weight=1, gamma=0, subsample=0.8, colsample_bytree=0.8, nthread=7,\n",
    " objective= 'binary:logistic', scale_pos_weight=1, seed=410), \n",
    " param_grid = param_set, scoring='roc_auc',n_jobs=7,iid=False, cv=10)\n",
    "\n",
    "xgb_model2 = gsearch.fit(features_train, label_train)\n",
    "xgb_model2.grid_scores_, xgb_model2.best_params_, xgb_model2.best_score_"
   ]
  },
  {
   "cell_type": "code",
   "execution_count": 112,
   "metadata": {},
   "outputs": [
    {
     "data": {
      "text/plain": [
       "([mean: 0.87401, std: 0.00714, params: {'colsample_bytree': 0.6, 'subsample': 0.6},\n",
       "  mean: 0.87436, std: 0.00757, params: {'colsample_bytree': 0.6, 'subsample': 0.7},\n",
       "  mean: 0.87529, std: 0.00698, params: {'colsample_bytree': 0.6, 'subsample': 0.8},\n",
       "  mean: 0.87563, std: 0.00686, params: {'colsample_bytree': 0.6, 'subsample': 0.9},\n",
       "  mean: 0.87269, std: 0.00743, params: {'colsample_bytree': 0.7, 'subsample': 0.6},\n",
       "  mean: 0.87321, std: 0.00703, params: {'colsample_bytree': 0.7, 'subsample': 0.7},\n",
       "  mean: 0.87498, std: 0.00677, params: {'colsample_bytree': 0.7, 'subsample': 0.8},\n",
       "  mean: 0.87539, std: 0.00634, params: {'colsample_bytree': 0.7, 'subsample': 0.9},\n",
       "  mean: 0.87269, std: 0.00743, params: {'colsample_bytree': 0.8, 'subsample': 0.6},\n",
       "  mean: 0.87321, std: 0.00703, params: {'colsample_bytree': 0.8, 'subsample': 0.7},\n",
       "  mean: 0.87498, std: 0.00677, params: {'colsample_bytree': 0.8, 'subsample': 0.8},\n",
       "  mean: 0.87539, std: 0.00634, params: {'colsample_bytree': 0.8, 'subsample': 0.9},\n",
       "  mean: 0.87201, std: 0.00715, params: {'colsample_bytree': 0.9, 'subsample': 0.6},\n",
       "  mean: 0.87258, std: 0.00667, params: {'colsample_bytree': 0.9, 'subsample': 0.7},\n",
       "  mean: 0.87378, std: 0.00724, params: {'colsample_bytree': 0.9, 'subsample': 0.8},\n",
       "  mean: 0.87453, std: 0.00683, params: {'colsample_bytree': 0.9, 'subsample': 0.9}],\n",
       " {'colsample_bytree': 0.6, 'subsample': 0.9},\n",
       " 0.8756275516740821)"
      ]
     },
     "execution_count": 112,
     "metadata": {},
     "output_type": "execute_result"
    }
   ],
   "source": [
    "# modify values with optimum values and tune other params\n",
    "\n",
    "param_set = {\n",
    " 'subsample':[i/10.0 for i in range(6,10)],\n",
    " 'colsample_bytree':[i/10.0 for i in range(6,10)]\n",
    "}\n",
    "gsearch = GridSearchCV(estimator = XGBClassifier( learning_rate =0.1, n_estimators=100, max_depth=7,\n",
    " min_child_weight=1, gamma=0.3, subsample=0.8, colsample_bytree=0.8, nthread=7,\n",
    " objective= 'binary:logistic', scale_pos_weight=1, seed=410), \n",
    " param_grid = param_set, scoring='roc_auc',n_jobs=7,iid=False, cv=10)\n",
    "\n",
    "xgb_model2 = gsearch.fit(features_train, label_train)\n",
    "xgb_model2.grid_scores_, xgb_model2.best_params_, xgb_model2.best_score_"
   ]
  },
  {
   "cell_type": "code",
   "execution_count": 113,
   "metadata": {},
   "outputs": [
    {
     "data": {
      "text/plain": [
       "([mean: 0.87571, std: 0.00650, params: {'colsample_bytree': 0.1, 'subsample': 0.8},\n",
       "  mean: 0.87618, std: 0.00708, params: {'colsample_bytree': 0.1, 'subsample': 0.9},\n",
       "  mean: 0.87641, std: 0.00686, params: {'colsample_bytree': 0.1, 'subsample': 1.0},\n",
       "  mean: 0.87571, std: 0.00650, params: {'colsample_bytree': 0.2, 'subsample': 0.8},\n",
       "  mean: 0.87618, std: 0.00708, params: {'colsample_bytree': 0.2, 'subsample': 0.9},\n",
       "  mean: 0.87641, std: 0.00686, params: {'colsample_bytree': 0.2, 'subsample': 1.0},\n",
       "  mean: 0.87571, std: 0.00650, params: {'colsample_bytree': 0.3, 'subsample': 0.8},\n",
       "  mean: 0.87618, std: 0.00708, params: {'colsample_bytree': 0.3, 'subsample': 0.9},\n",
       "  mean: 0.87641, std: 0.00686, params: {'colsample_bytree': 0.3, 'subsample': 1.0},\n",
       "  mean: 0.87595, std: 0.00658, params: {'colsample_bytree': 0.4, 'subsample': 0.8},\n",
       "  mean: 0.87595, std: 0.00696, params: {'colsample_bytree': 0.4, 'subsample': 0.9},\n",
       "  mean: 0.87584, std: 0.00704, params: {'colsample_bytree': 0.4, 'subsample': 1.0},\n",
       "  mean: 0.87529, std: 0.00698, params: {'colsample_bytree': 0.5, 'subsample': 0.8},\n",
       "  mean: 0.87563, std: 0.00686, params: {'colsample_bytree': 0.5, 'subsample': 0.9},\n",
       "  mean: 0.87632, std: 0.00650, params: {'colsample_bytree': 0.5, 'subsample': 1.0},\n",
       "  mean: 0.87529, std: 0.00698, params: {'colsample_bytree': 0.6, 'subsample': 0.8},\n",
       "  mean: 0.87563, std: 0.00686, params: {'colsample_bytree': 0.6, 'subsample': 0.9},\n",
       "  mean: 0.87632, std: 0.00650, params: {'colsample_bytree': 0.6, 'subsample': 1.0}],\n",
       " {'colsample_bytree': 0.1, 'subsample': 1.0},\n",
       " 0.8764095331109016)"
      ]
     },
     "execution_count": 113,
     "metadata": {},
     "output_type": "execute_result"
    }
   ],
   "source": [
    "# subsample and colsample_bytree are choosing edge values, check in more detail\n",
    "\n",
    "param_set = {\n",
    " 'subsample':[0.8, 0.9, 1.0],\n",
    " 'colsample_bytree':[i/10.0 for i in range(1,7)]\n",
    "}\n",
    "gsearch = GridSearchCV(estimator = XGBClassifier( learning_rate =0.1, n_estimators=100, max_depth=7,\n",
    " min_child_weight=1, gamma=0.3, subsample=0.8, colsample_bytree=0.8, nthread=7,\n",
    " objective= 'binary:logistic', scale_pos_weight=1, seed=410), \n",
    " param_grid = param_set, scoring='roc_auc',n_jobs=7,iid=False, cv=10)\n",
    "\n",
    "xgb_model2 = gsearch.fit(features_train, label_train)\n",
    "xgb_model2.grid_scores_, xgb_model2.best_params_, xgb_model2.best_score_"
   ]
  },
  {
   "cell_type": "code",
   "execution_count": 119,
   "metadata": {},
   "outputs": [
    {
     "data": {
      "text/plain": [
       "([mean: 0.87571, std: 0.00650, params: {'colsample_bytree': 0.01, 'subsample': 0.8},\n",
       "  mean: 0.87618, std: 0.00708, params: {'colsample_bytree': 0.01, 'subsample': 0.9},\n",
       "  mean: 0.87641, std: 0.00686, params: {'colsample_bytree': 0.01, 'subsample': 1.0},\n",
       "  mean: 0.87571, std: 0.00650, params: {'colsample_bytree': 0.03, 'subsample': 0.8},\n",
       "  mean: 0.87618, std: 0.00708, params: {'colsample_bytree': 0.03, 'subsample': 0.9},\n",
       "  mean: 0.87641, std: 0.00686, params: {'colsample_bytree': 0.03, 'subsample': 1.0},\n",
       "  mean: 0.87571, std: 0.00650, params: {'colsample_bytree': 0.05, 'subsample': 0.8},\n",
       "  mean: 0.87618, std: 0.00708, params: {'colsample_bytree': 0.05, 'subsample': 0.9},\n",
       "  mean: 0.87641, std: 0.00686, params: {'colsample_bytree': 0.05, 'subsample': 1.0},\n",
       "  mean: 0.87571, std: 0.00650, params: {'colsample_bytree': 0.07, 'subsample': 0.8},\n",
       "  mean: 0.87618, std: 0.00708, params: {'colsample_bytree': 0.07, 'subsample': 0.9},\n",
       "  mean: 0.87641, std: 0.00686, params: {'colsample_bytree': 0.07, 'subsample': 1.0},\n",
       "  mean: 0.87571, std: 0.00650, params: {'colsample_bytree': 0.09, 'subsample': 0.8},\n",
       "  mean: 0.87618, std: 0.00708, params: {'colsample_bytree': 0.09, 'subsample': 0.9},\n",
       "  mean: 0.87641, std: 0.00686, params: {'colsample_bytree': 0.09, 'subsample': 1.0}],\n",
       " {'colsample_bytree': 0.01, 'subsample': 1.0},\n",
       " 0.8764095331109016)"
      ]
     },
     "execution_count": 119,
     "metadata": {},
     "output_type": "execute_result"
    }
   ],
   "source": [
    "# subsample and colsample_bytree are choosing edge\n",
    "\n",
    "param_set = {\n",
    " 'subsample':[0.8, 0.9, 1.0],\n",
    " 'colsample_bytree':[i/100.0 for i in range(1,10,2)]\n",
    "}\n",
    "gsearch = GridSearchCV(estimator = XGBClassifier( learning_rate =0.1, n_estimators=100, max_depth=7,\n",
    " min_child_weight=1, gamma=0.3, subsample=0.8, colsample_bytree=0.8, nthread=7,\n",
    " objective= 'binary:logistic', scale_pos_weight=1, seed=410), \n",
    " param_grid = param_set, scoring='roc_auc',n_jobs=7,iid=False, cv=10)\n",
    "\n",
    "xgb_model2 = gsearch.fit(features_train, label_train)\n",
    "xgb_model2.grid_scores_, xgb_model2.best_params_, xgb_model2.best_score_   # got the same accuracy in fact"
   ]
  },
  {
   "cell_type": "code",
   "execution_count": 120,
   "metadata": {},
   "outputs": [
    {
     "name": "stdout",
     "output_type": "stream",
     "text": [
      "\n",
      "Model Report\n",
      "Accuracy : 0.8452\n",
      "AUC Score (Train): 0.888306\n",
      "0:00:07.113186\n",
      "[0 0 0 ..., 0 1 0]\n"
     ]
    },
    {
     "data": {
      "image/png": "[encoded data removed]",
      "text/plain": [
       "<matplotlib.figure.Figure at 0x106a91828>"
      ]
     },
     "metadata": {},
     "output_type": "display_data"
    }
   ],
   "source": [
    "start=datetime.now()\n",
    "\n",
    "xgb2 = XGBClassifier(\n",
    " learning_rate =0.1,\n",
    " n_estimators=100,\n",
    " max_depth=7,\n",
    " min_child_weight=1,\n",
    " gamma=0.3,\n",
    " subsample=1.0,\n",
    " colsample_bytree=0.1,\n",
    " objective= 'binary:logistic',\n",
    " nthread=7,\n",
    " scale_pos_weight=1,\n",
    " seed=410)\n",
    "xgb_model2 = modelfit(xgb2, dtrain, features_train)\n",
    "\n",
    "stop=datetime.now()\n",
    "execution_time_lgbm = stop-start\n",
    "print(execution_time_lgbm)      # 0:00:07.11318\n",
    "\n",
    "ypred = xgb_model2.predict(features_test) \n",
    "print(ypred)"
   ]
  },
  {
   "cell_type": "code",
   "execution_count": 121,
   "metadata": {},
   "outputs": [
    {
     "data": {
      "text/plain": [
       "array([0, 0, 0, 0, 1])"
      ]
     },
     "execution_count": 121,
     "metadata": {},
     "output_type": "execute_result"
    }
   ],
   "source": [
    "ypred2=xgb_model2.predict(features_test)\n",
    "ypred2[0:5]"
   ]
  },
  {
   "cell_type": "code",
   "execution_count": 122,
   "metadata": {},
   "outputs": [
    {
     "name": "stdout",
     "output_type": "stream",
     "text": [
      "accuracy:  0.848397993653\n",
      "AUC:  0.709338834984\n",
      "Precision:  0.970733662969\n",
      "Specificity:  0.823813354787\n",
      "Recall:  0.851982172179\n"
     ]
    }
   ],
   "source": [
    "cm = confusion_matrix(label_test, ypred2)\n",
    "TP = cm[0][0]\n",
    "FP = cm[0][1]\n",
    "FN = cm[1][0]\n",
    "TN = cm[1][1]\n",
    "\n",
    "accuracy_xgb = (TP + TN)/(TP+FP+FN+TN)   \n",
    "auc_score_xgb = roc_auc_score(label_test, ypred)   \n",
    "precision_xgb = TP/(TP+FP)   \n",
    "specificity_xgb = TN/(TN+FP) \n",
    "recall_xgb = TP/(TP+FN)\n",
    "print(\"accuracy: \", accuracy_xgb)\n",
    "print(\"AUC: \", auc_score_xgb)\n",
    "print(\"Precision: \", precision_xgb)\n",
    "print(\"Specificity: \", specificity_xgb)\n",
    "print(\"Recall: \", recall_xgb)"
   ]
  },
  {
   "cell_type": "code",
   "execution_count": 132,
   "metadata": {},
   "outputs": [
    {
     "data": {
      "text/plain": [
       "([mean: 0.87641, std: 0.00686, params: {'reg_alpha': 1e-05},\n",
       "  mean: 0.87637, std: 0.00690, params: {'reg_alpha': 0.01},\n",
       "  mean: 0.87621, std: 0.00699, params: {'reg_alpha': 0.1},\n",
       "  mean: 0.87540, std: 0.00711, params: {'reg_alpha': 1},\n",
       "  mean: 0.85617, std: 0.00683, params: {'reg_alpha': 100}],\n",
       " {'reg_alpha': 1e-05},\n",
       " 0.8764095331109016)"
      ]
     },
     "execution_count": 132,
     "metadata": {},
     "output_type": "execute_result"
    }
   ],
   "source": [
    "# modify values with optimum values and tune other params\n",
    "\n",
    "param_set = {\n",
    " 'reg_alpha':[1e-5, 1e-2, 0.1, 1, 100]\n",
    "}\n",
    "gsearch = GridSearchCV(estimator = XGBClassifier( learning_rate =0.1, n_estimators=100, max_depth=7,\n",
    " min_child_weight=1, gamma=0.3, subsample=1.0, colsample_bytree=0.1, nthread=7,\n",
    " objective= 'binary:logistic', scale_pos_weight=1, seed=410), \n",
    " param_grid = param_set, scoring='roc_auc',n_jobs=7,iid=False, cv=10)\n",
    "\n",
    "xgb_model3 = gsearch.fit(features_train, label_train)\n",
    "xgb_model3.grid_scores_, xgb_model3.best_params_, xgb_model3.best_score_"
   ]
  },
  {
   "cell_type": "code",
   "execution_count": 133,
   "metadata": {},
   "outputs": [
    {
     "data": {
      "text/plain": [
       "([mean: 0.87641, std: 0.00686, params: {'reg_alpha': 0},\n",
       "  mean: 0.87640, std: 0.00687, params: {'reg_alpha': 0.001},\n",
       "  mean: 0.87640, std: 0.00688, params: {'reg_alpha': 0.005},\n",
       "  mean: 0.87637, std: 0.00690, params: {'reg_alpha': 0.01},\n",
       "  mean: 0.87634, std: 0.00704, params: {'reg_alpha': 0.05}],\n",
       " {'reg_alpha': 0},\n",
       " 0.8764095331109016)"
      ]
     },
     "execution_count": 133,
     "metadata": {},
     "output_type": "execute_result"
    }
   ],
   "source": [
    "# further tune reg_alpha value\n",
    "\n",
    "param_set = {\n",
    " 'reg_alpha':[0, 0.001, 0.005, 0.01, 0.05]\n",
    "}\n",
    "gsearch = GridSearchCV(estimator = XGBClassifier( learning_rate =0.1, n_estimators=100, max_depth=7,\n",
    " min_child_weight=1, gamma=0.3, subsample=1.0, colsample_bytree=0.1, nthread=7,\n",
    " objective= 'binary:logistic', scale_pos_weight=1, seed=410), \n",
    " param_grid = param_set, scoring='roc_auc',n_jobs=7,iid=False, cv=10)\n",
    "\n",
    "xgb_model3 = gsearch.fit(features_train, label_train)\n",
    "xgb_model3.grid_scores_, xgb_model3.best_params_, xgb_model3.best_score_"
   ]
  },
  {
   "cell_type": "code",
   "execution_count": 130,
   "metadata": {},
   "outputs": [
    {
     "name": "stdout",
     "output_type": "stream",
     "text": [
      "\n",
      "Model Report\n",
      "Accuracy : 0.8452\n",
      "AUC Score (Train): 0.888306\n",
      "0:00:07.100202\n",
      "[0 0 0 ..., 0 1 0]\n"
     ]
    },
    {
     "data": {
      "image/png": "[encoded data removed]",
      "text/plain": [
       "<matplotlib.figure.Figure at 0x10dc78588>"
      ]
     },
     "metadata": {},
     "output_type": "display_data"
    }
   ],
   "source": [
    "start=datetime.now()\n",
    "\n",
    "xgb3 = XGBClassifier(\n",
    " learning_rate =0.1,\n",
    " n_estimators=100,\n",
    " max_depth=7,\n",
    " min_child_weight=1,\n",
    " gamma=0.3,\n",
    " subsample=1.0,\n",
    " colsample_bytree=0.1,\n",
    " objective= 'binary:logistic',\n",
    " nthread=7,\n",
    " scale_pos_weight=1,\n",
    " reg_alpha = 0,\n",
    " seed=410)\n",
    "xgb_model3 = modelfit(xgb3, dtrain, features_train)\n",
    "\n",
    "stop=datetime.now()\n",
    "execution_time_lgbm = stop-start\n",
    "print(execution_time_lgbm)      # 0:00:07.100202\n",
    "\n",
    "ypred = xgb_model3.predict(features_test) \n",
    "print(ypred)"
   ]
  },
  {
   "cell_type": "code",
   "execution_count": 131,
   "metadata": {},
   "outputs": [
    {
     "name": "stdout",
     "output_type": "stream",
     "text": [
      "accuracy:  0.848397993653\n",
      "AUC:  0.709338834984\n",
      "Precision:  0.970733662969\n",
      "Specificity:  0.823813354787\n",
      "Recall:  0.851982172179\n"
     ]
    }
   ],
   "source": [
    "ypred3=xgb_model3.predict(features_test)\n",
    "\n",
    "cm = confusion_matrix(label_test, ypred3)\n",
    "TP = cm[0][0]\n",
    "FP = cm[0][1]\n",
    "FN = cm[1][0]\n",
    "TN = cm[1][1]\n",
    "\n",
    "accuracy_xgb = (TP + TN)/(TP+FP+FN+TN)  \n",
    "auc_score_xgb = roc_auc_score(label_test, ypred)   \n",
    "precision_xgb = TP/(TP+FP)  \n",
    "specificity_xgb = TN/(TN+FP)  \n",
    "recall_xgb = TP/(TP+FN)   \n",
    "print(\"accuracy: \", accuracy_xgb)\n",
    "print(\"AUC: \", auc_score_xgb)\n",
    "print(\"Precision: \", precision_xgb)\n",
    "print(\"Specificity: \", specificity_xgb)\n",
    "print(\"Recall: \", recall_xgb)"
   ]
  },
  {
   "cell_type": "code",
   "execution_count": 134,
   "metadata": {},
   "outputs": [
    {
     "data": {
      "text/plain": [
       "([mean: 0.50000, std: 0.00000, params: {'scale_pos_weight': 0.0},\n",
       "  mean: 0.87003, std: 0.00723, params: {'scale_pos_weight': 0.1},\n",
       "  mean: 0.87276, std: 0.00751, params: {'scale_pos_weight': 0.2},\n",
       "  mean: 0.87382, std: 0.00722, params: {'scale_pos_weight': 0.3},\n",
       "  mean: 0.87469, std: 0.00704, params: {'scale_pos_weight': 0.4},\n",
       "  mean: 0.87489, std: 0.00709, params: {'scale_pos_weight': 0.5},\n",
       "  mean: 0.87513, std: 0.00694, params: {'scale_pos_weight': 0.6},\n",
       "  mean: 0.87550, std: 0.00716, params: {'scale_pos_weight': 0.7},\n",
       "  mean: 0.87567, std: 0.00707, params: {'scale_pos_weight': 0.8},\n",
       "  mean: 0.87593, std: 0.00715, params: {'scale_pos_weight': 0.9},\n",
       "  mean: 0.87625, std: 0.00704, params: {'scale_pos_weight': 1.0}],\n",
       " {'scale_pos_weight': 1.0},\n",
       " 0.8762515651925522)"
      ]
     },
     "execution_count": 134,
     "metadata": {},
     "output_type": "execute_result"
    }
   ],
   "source": [
    "# tune scale_pos_weight\n",
    "## A value greater than 0 should be used in case of high class imbalance as it helps in faster convergence.\n",
    "\n",
    "# tune learning rate\n",
    "\n",
    "param_set = {\n",
    " 'scale_pos_weight':[i/10.0 for i in range(11)]\n",
    "}\n",
    "gsearch = GridSearchCV(estimator = XGBClassifier( learning_rate =0.1, n_estimators=100, max_depth=7,\n",
    " min_child_weight=1, gamma=0, subsample=1.0, colsample_bytree=0.1, nthread=7,\n",
    " objective= 'binary:logistic', scale_pos_weight=1, seed=410), \n",
    " param_grid = param_set, scoring='roc_auc',n_jobs=7,iid=False, cv=10)\n",
    "\n",
    "xgb_model4 = gsearch.fit(features_train, label_train)\n",
    "xgb_model4.grid_scores_, xgb_model4.best_params_, xgb_model4.best_score_"
   ]
  },
  {
   "cell_type": "code",
   "execution_count": 135,
   "metadata": {},
   "outputs": [
    {
     "data": {
      "text/plain": [
       "([mean: 0.86927, std: 0.00658, params: {'learning_rate': 0.01},\n",
       "  mean: 0.87395, std: 0.00670, params: {'learning_rate': 0.05},\n",
       "  mean: 0.87625, std: 0.00704, params: {'learning_rate': 0.1}],\n",
       " {'learning_rate': 0.1},\n",
       " 0.8762515651925522)"
      ]
     },
     "execution_count": 135,
     "metadata": {},
     "output_type": "execute_result"
    }
   ],
   "source": [
    "# tune learning rate\n",
    "\n",
    "param_set = {\n",
    " 'learning_rate':[0.01, 0.05, 0.1]\n",
    "}\n",
    "gsearch = GridSearchCV(estimator = XGBClassifier(learning_rate =0.1, n_estimators=100, max_depth=7,\n",
    " min_child_weight=1, gamma=0, subsample=1.0, colsample_bytree=0.1, nthread=7,\n",
    " objective= 'binary:logistic', scale_pos_weight=1, seed=410), \n",
    " param_grid = param_set, scoring='roc_auc',n_jobs=7,iid=False, cv=10)\n",
    "\n",
    "xgb_model4 = gsearch.fit(features_train, label_train)\n",
    "xgb_model4.grid_scores_, xgb_model4.best_params_, xgb_model4.best_score_"
   ]
  },
  {
   "cell_type": "code",
   "execution_count": 136,
   "metadata": {},
   "outputs": [
    {
     "data": {
      "text/plain": [
       "([mean: 0.87625, std: 0.00704, params: {'learning_rate': 0.1},\n",
       "  mean: 0.87670, std: 0.00762, params: {'learning_rate': 0.2},\n",
       "  mean: 0.87644, std: 0.00762, params: {'learning_rate': 0.3},\n",
       "  mean: 0.87536, std: 0.00778, params: {'learning_rate': 0.4},\n",
       "  mean: 0.87513, std: 0.00757, params: {'learning_rate': 0.5},\n",
       "  mean: 0.87383, std: 0.00772, params: {'learning_rate': 0.6},\n",
       "  mean: 0.87317, std: 0.00747, params: {'learning_rate': 0.7},\n",
       "  mean: 0.87159, std: 0.00714, params: {'learning_rate': 0.8},\n",
       "  mean: 0.87002, std: 0.00823, params: {'learning_rate': 0.9}],\n",
       " {'learning_rate': 0.2},\n",
       " 0.8766982733341692)"
      ]
     },
     "execution_count": 136,
     "metadata": {},
     "output_type": "execute_result"
    }
   ],
   "source": [
    "# tune learning rate\n",
    "\n",
    "param_set = {\n",
    " 'learning_rate':[i/10.0 for i in range(1,10)]\n",
    "}\n",
    "gsearch = GridSearchCV(estimator = XGBClassifier(learning_rate =0.1, n_estimators=100, max_depth=7,\n",
    " min_child_weight=1, gamma=0, subsample=1.0, colsample_bytree=0.1, nthread=7,\n",
    " objective= 'binary:logistic', scale_pos_weight=1, seed=410), \n",
    " param_grid = param_set, scoring='roc_auc',n_jobs=7,iid=False, cv=10)\n",
    "\n",
    "xgb_model4 = gsearch.fit(features_train, label_train)\n",
    "xgb_model4.grid_scores_, xgb_model4.best_params_, xgb_model4.best_score_"
   ]
  },
  {
   "cell_type": "code",
   "execution_count": 137,
   "metadata": {},
   "outputs": [
    {
     "data": {
      "text/plain": [
       "([mean: 0.87494, std: 0.00658, params: {'n_estimators': 50},\n",
       "  mean: 0.87670, std: 0.00762, params: {'n_estimators': 100},\n",
       "  mean: 0.87334, std: 0.00810, params: {'n_estimators': 500},\n",
       "  mean: 0.87127, std: 0.00784, params: {'n_estimators': 1000}],\n",
       " {'n_estimators': 100},\n",
       " 0.8766982733341692)"
      ]
     },
     "execution_count": 137,
     "metadata": {},
     "output_type": "execute_result"
    }
   ],
   "source": [
    "# tune n_estimators\n",
    "\n",
    "param_set = {\n",
    " 'n_estimators':[50, 100, 500, 1000]\n",
    "}\n",
    "gsearch = GridSearchCV(estimator = XGBClassifier(learning_rate =0.2, n_estimators=100, max_depth=7,\n",
    " min_child_weight=1, gamma=0, subsample=1.0, colsample_bytree=0.1, nthread=7,\n",
    " objective= 'binary:logistic', scale_pos_weight=1, seed=410), \n",
    " param_grid = param_set, scoring='roc_auc',n_jobs=7,iid=False, cv=10)\n",
    "\n",
    "xgb_model4 = gsearch.fit(features_train, label_train)\n",
    "xgb_model4.grid_scores_, xgb_model4.best_params_, xgb_model4.best_score_"
   ]
  },
  {
   "cell_type": "code",
   "execution_count": 138,
   "metadata": {},
   "outputs": [
    {
     "name": "stdout",
     "output_type": "stream",
     "text": [
      "\n",
      "Model Report\n",
      "Accuracy : 0.8499\n",
      "AUC Score (Train): 0.893772\n",
      "0:00:07.033940\n",
      "[0 0 0 ..., 0 1 0]\n"
     ]
    },
    {
     "data": {
      "image/png": "[encoded data removed]",
      "text/plain": [
       "<matplotlib.figure.Figure at 0x1108f7908>"
      ]
     },
     "metadata": {},
     "output_type": "display_data"
    }
   ],
   "source": [
    "start=datetime.now()\n",
    "\n",
    "xgb4 = XGBClassifier(\n",
    " learning_rate =0.2,\n",
    " n_estimators=100,\n",
    " max_depth=7,\n",
    " min_child_weight=1,\n",
    " gamma=0,\n",
    " subsample=1.0,\n",
    " colsample_bytree=0.1,\n",
    " objective= 'binary:logistic',\n",
    " nthread=7,\n",
    " scale_pos_weight=1,\n",
    " reg_alpha = 0,\n",
    " seed=410)\n",
    "xgb_model4 = modelfit(xgb4, dtrain, features_train)\n",
    "\n",
    "stop=datetime.now()\n",
    "execution_time_lgbm = stop-start\n",
    "print(execution_time_lgbm)      # 0:00:07.033940\n",
    "\n",
    "ypred = xgb_model4.predict(features_test) \n",
    "print(ypred)"
   ]
  },
  {
   "cell_type": "code",
   "execution_count": 139,
   "metadata": {},
   "outputs": [
    {
     "name": "stdout",
     "output_type": "stream",
     "text": [
      "accuracy:  0.848807452145\n",
      "AUC:  0.721758470556\n",
      "Precision:  0.960577308566\n",
      "Specificity:  0.789135096497\n",
      "Recall:  0.858781362007\n"
     ]
    }
   ],
   "source": [
    "ypred4=xgb_model4.predict(features_test)\n",
    "\n",
    "cm = confusion_matrix(label_test, ypred4)\n",
    "TP = cm[0][0]\n",
    "FP = cm[0][1]\n",
    "FN = cm[1][0]\n",
    "TN = cm[1][1]\n",
    "\n",
    "accuracy_xgb = (TP + TN)/(TP+FP+FN+TN)  \n",
    "auc_score_xgb = roc_auc_score(label_test, ypred) \n",
    "precision_xgb = TP/(TP+FP)   \n",
    "specificity_xgb = TN/(TN+FP)  \n",
    "recall_xgb = TP/(TP+FN)  \n",
    "print(\"accuracy: \", accuracy_xgb)\n",
    "print(\"AUC: \", auc_score_xgb)\n",
    "print(\"Precision: \", precision_xgb)\n",
    "print(\"Specificity: \", specificity_xgb)\n",
    "print(\"Recall: \", recall_xgb)\n",
    "\n",
    "# both precision and specificity dropped, while accuracy, AUC, recall increased"
   ]
  },
  {
   "cell_type": "code",
   "execution_count": 146,
   "metadata": {
    "collapsed": true
   },
   "outputs": [],
   "source": [
    "# LightGBM Cross Validation method 1 - cv()\n",
    "\n",
    "dtrain = lgb.Dataset(features_train,label=label_train)\n",
    "booster_params = {'num_leaves':150, 'objective':'binary','max_depth':7,'learning_rate':.05,'max_bin':200,'metric':['auc', 'binary_logloss']}\n",
    "\n",
    "lgb_cv = lgb.cv(booster_params, dtrain, num_boost_round=50, folds=None, nfold=10, stratified=False, shuffle=True, metrics=['auc', 'binary_logloss'], fobj=None, feval=None, init_model=None, feature_name='auto', categorical_feature='auto', early_stopping_rounds=50, fpreproc=None, verbose_eval=None, show_stdv=True, seed=410, callbacks=None)"
   ]
  },
  {
   "cell_type": "code",
   "execution_count": 147,
   "metadata": {},
   "outputs": [
    {
     "name": "stdout",
     "output_type": "stream",
     "text": [
      "binary_logloss-mean [0.67123043924063652, 0.65139968652314162, 0.6334090478646146, 0.61707393158234103, 0.60215633642897981, 0.5885687788400743, 0.57610061703434745, 0.56467321606002818, 0.55417778915667226, 0.54450406048468047, 0.53553570548339169, 0.52730612541052102, 0.51968403600165969, 0.51267157222319426, 0.50617885097847459, 0.50014533314886511, 0.49460702398684375, 0.48948487277231267, 0.48469406532938153, 0.48025269710269292, 0.47617989978364833, 0.47234428603754636, 0.46881724622918242, 0.46551140746888803, 0.46245355762753454, 0.45960002455070337, 0.45692524360681536, 0.45443107998963528, 0.45211543968501233, 0.44994298121316423, 0.44793565266358382, 0.44611660787129714, 0.44442305567494955, 0.44286426433432757, 0.4413440483923905, 0.43996959424570337, 0.43870635611908615, 0.43753499439706739, 0.4364244665259906, 0.43542838650051524, 0.43451267423777812, 0.43364357440729079, 0.4327928037506229, 0.43202529020641878, 0.43130508771746312, 0.43063571054875716, 0.4300286995532745, 0.42946387780903894, 0.42890551049528386, 0.42843782610392706] 50\n",
      "binary_logloss-stdv [0.00028328415358737759, 0.00053453826379939735, 0.00078273000176618706, 0.00099004927796002219, 0.0011890605770262018, 0.0013851512215012781, 0.0015438002478981433, 0.0017378630963558578, 0.0018775944425257287, 0.002038401861414507, 0.0022153506379341686, 0.0023864482853251587, 0.002576625706973543, 0.0027085075647671885, 0.0028768501900448555, 0.0030310704474634125, 0.0031790748825465194, 0.0032579681854906085, 0.0033880032857064759, 0.003520168011572151, 0.003651640236408322, 0.0037653554081151877, 0.0038760086969752048, 0.0039991625526483304, 0.0041139619237711995, 0.0042407715640244772, 0.0043170593412428741, 0.0043615486732495332, 0.0043993086354767582, 0.0044691780321400813, 0.0045674273819397895, 0.0046378723619901127, 0.0046758395999124706, 0.0047504892012108961, 0.0047762705961793168, 0.0048147805506848391, 0.004866706742645375, 0.0049290749926675023, 0.0049702237463248988, 0.0050160481262567658, 0.0050496869965718375, 0.0051138065958710576, 0.0051464597208532928, 0.0051283182689431097, 0.0051480175465320769, 0.0051751341732229773, 0.0051823743260890186, 0.0051782150663452521, 0.0052263352756093673, 0.0052443400379229132] 50\n",
      "auc-mean [0.81339606743162829, 0.81475886095027161, 0.81548401963504646, 0.81625707121070401, 0.81686530621553055, 0.81720483570644331, 0.81735173740080769, 0.81779391293975645, 0.81782637119449808, 0.81806613077747348, 0.81853884108480612, 0.81868891054513837, 0.81895149858964122, 0.81893291637630905, 0.81917124735909685, 0.81934045839226854, 0.81947252556870076, 0.81938197431018234, 0.81978402227620806, 0.81976436162072164, 0.81987189696682683, 0.82000740836535857, 0.81995952193766164, 0.82002691264527583, 0.82014216453154309, 0.82019804607193547, 0.82025746325464099, 0.82039939370981452, 0.82049623681637818, 0.82058597574990222, 0.82066483296400494, 0.82070579468590876, 0.82070248890238207, 0.82066393560418072, 0.82075417305560028, 0.82075884765076912, 0.82079559537730729, 0.82079966825532868, 0.82078033355087765, 0.8207659293155235, 0.82071666749476047, 0.82069120742533708, 0.8207183540553501, 0.82073451622519822, 0.82075899421417442, 0.82078810661120727, 0.82077745355985032, 0.82075831972200974, 0.82078127468408424, 0.82078758025374299] 50\n",
      "auc-stdv [0.0053101366538244946, 0.0051285332357901671, 0.0047738055648903739, 0.0044506601644646307, 0.0046896045828230077, 0.0045642336235625809, 0.0043489092791607186, 0.0042651665061733193, 0.0044274512151545268, 0.0044588809221426688, 0.0044686165884856915, 0.0045036152151627816, 0.0045892653705018344, 0.004286398888777969, 0.0042918669537105889, 0.0042683286420921269, 0.0045344466063449345, 0.00454920525589799, 0.0044341319191012569, 0.0045350402722859635, 0.0045184771930321752, 0.0045703987421040716, 0.0045166045865236999, 0.0045907802883623271, 0.0046316498838514771, 0.0046432893471499174, 0.0045361772140335736, 0.0044602001665305516, 0.0043596004863690916, 0.0043937795030907561, 0.0044663367905278008, 0.0044694783784131045, 0.0043899422563237391, 0.0043772163133232195, 0.0043942062629736059, 0.004339724559066443, 0.0043185446645616042, 0.0043334203917533487, 0.0043709245415575158, 0.0043686102826403653, 0.0043705181781421238, 0.0044045283100298538, 0.0044366052400509138, 0.0044436793658952306, 0.0043971001218842077, 0.0044095354027380391, 0.0044089525764597634, 0.0043918694058225211, 0.0044373247248406375, 0.0044218438981048439] 50\n"
     ]
    }
   ],
   "source": [
    "for k, v in lgb_cv.items():\n",
    "    print(k,v, len(v))\n",
    "    \n",
    "# It seems that the results are becomming better and better till 50 rounds, elts's choose 50 as n_estimators"
   ]
  },
  {
   "cell_type": "code",
   "execution_count": 174,
   "metadata": {},
   "outputs": [
    {
     "name": "stdout",
     "output_type": "stream",
     "text": [
      "\n",
      "Model Report\n",
      "Accuracy : 0.8401\n",
      "AUC Score (Train): 0.877117\n",
      "0:00:00.408237\n"
     ]
    },
    {
     "data": {
      "image/png": "[encoded data removed]",
      "text/plain": [
       "<matplotlib.figure.Figure at 0x1016a92e8>"
      ]
     },
     "metadata": {},
     "output_type": "display_data"
    }
   ],
   "source": [
    "n_estimators = 50 \n",
    "\n",
    "start=datetime.now()\n",
    "\n",
    "lgb1 = LGBMClassifier(\n",
    " boosting_type='gbdt',\n",
    " num_leaves=30, \n",
    " max_depth=5, \n",
    " learning_rate=0.1, n_estimators=n_estimators, max_bin=255, \n",
    " subsample_for_bin=0.8, objective=None, min_split_gain=0, \n",
    " min_child_weight=5, min_child_samples=10, subsample=1, \n",
    " subsample_freq=1, colsample_bytree=1, reg_alpha=1, reg_lambda=0, seed=410, nthread=7, silent=True)\n",
    "\n",
    "#Fit the algorithm on the data\n",
    "lgb_fit = lgb1.fit(features_train, label_train, eval_metric='auc')\n",
    "        \n",
    "#Predict training set:\n",
    "dtrain_predictions = lgb1.predict(features_train)\n",
    "dtrain_predprob = lgb1.predict_proba(features_train)[:,1]\n",
    "#Print model report:\n",
    "print(\"\\nModel Report\")\n",
    "print(\"Accuracy : %.4g\" % accuracy_score(label_train, dtrain_predictions))\n",
    "print(\"AUC Score (Train): %f\" % roc_auc_score(label_train, dtrain_predprob))\n",
    "     \n",
    "lgb_plot_importance(lgb_fit, ax=None, height=0.2, xlim=None, ylim=None, title='Feature importance', xlabel='F score', ylabel='Features', importance_type='split', max_num_features=7, grid=True,)\n",
    "    \n",
    "stop=datetime.now()\n",
    "execution_time_lgbm = stop-start\n",
    "print(execution_time_lgbm)  # 0:00:00.381134, much faster. Lower accuracy, maybe because of the param tuning is limited with cv()"
   ]
  },
  {
   "cell_type": "code",
   "execution_count": 10,
   "metadata": {
    "collapsed": true
   },
   "outputs": [],
   "source": [
    "def lgb_model_fit(alg, features_train, label_train):\n",
    "    #Fit the algorithm on the data\n",
    "    alg_fit = alg.fit(features_train, label_train, eval_metric='auc')\n",
    "\n",
    "    #Predict training set:\n",
    "    dtrain_predictions = alg.predict(features_train)\n",
    "    dtrain_predprob = alg.predict_proba(features_train)[:,1]\n",
    "    #Print model report:\n",
    "    print(\"\\nModel Report\")\n",
    "    print(\"Accuracy : %.4g\" % accuracy_score(label_train, dtrain_predictions))\n",
    "    print(\"AUC Score (Train): %f\" % roc_auc_score(label_train, dtrain_predprob))\n",
    "\n",
    "    lgb_plot_importance(alg_fit, ax=None, height=0.2, xlim=None, ylim=None, title='Feature importance', xlabel='F score', ylabel='Features', importance_type='split', max_num_features=7, grid=True,)\n",
    "\n",
    "    return alg_fit"
   ]
  },
  {
   "cell_type": "code",
   "execution_count": 183,
   "metadata": {},
   "outputs": [
    {
     "data": {
      "text/plain": [
       "([mean: 0.85892, std: 0.00829, params: {'n_estimators': 20},\n",
       "  mean: 0.86448, std: 0.00804, params: {'n_estimators': 30},\n",
       "  mean: 0.86828, std: 0.00789, params: {'n_estimators': 40},\n",
       "  mean: 0.87092, std: 0.00725, params: {'n_estimators': 50},\n",
       "  mean: 0.87237, std: 0.00714, params: {'n_estimators': 60},\n",
       "  mean: 0.87354, std: 0.00721, params: {'n_estimators': 70}],\n",
       " {'n_estimators': 70},\n",
       " 0.8735423039713573)"
      ]
     },
     "execution_count": 183,
     "metadata": {},
     "output_type": "execute_result"
    }
   ],
   "source": [
    "# LightGBM cross validation method 2 - GridSearchCV()\n",
    "# the code here will be running forever\n",
    "\n",
    "param_set = {\n",
    " 'n_estimators':[20, 30, 40, 50, 60, 70]\n",
    "}\n",
    "\n",
    "gsearch = GridSearchCV(estimator = LGBMClassifier( boosting_type='gbdt', num_leaves=30, \n",
    " max_depth=5, learning_rate=0.1, n_estimators=50, max_bin=225, # choose a small values for bins to speed up\n",
    " subsample_for_bin=5000, objective=None, min_split_gain=0, min_child_weight=5, \n",
    " min_child_samples=10, subsample=1, subsample_freq=1, colsample_bytree=1, \n",
    " reg_alpha=1, reg_lambda=0, seed=410, nthread=7, silent=True), \n",
    " param_grid = param_set, scoring='roc_auc',n_jobs=1,iid=False, cv=10)\n",
    "\n",
    "lgb_model2 = gsearch.fit(features_train, label_train)\n",
    "lgb_model2.grid_scores_, lgb_model2.best_params_, lgb_model2.best_score_"
   ]
  },
  {
   "cell_type": "code",
   "execution_count": 182,
   "metadata": {},
   "outputs": [
    {
     "data": {
      "text/plain": [
       "([mean: 0.87354, std: 0.00721, params: {'n_estimators': 70},\n",
       "  mean: 0.87516, std: 0.00699, params: {'n_estimators': 100},\n",
       "  mean: 0.87364, std: 0.00720, params: {'n_estimators': 500},\n",
       "  mean: 0.86703, std: 0.00729, params: {'n_estimators': 1000}],\n",
       " {'n_estimators': 100},\n",
       " 0.8751582381381662)"
      ]
     },
     "execution_count": 182,
     "metadata": {},
     "output_type": "execute_result"
    }
   ],
   "source": [
    "param_set = {\n",
    " 'n_estimators':[70, 100, 500, 1000]\n",
    "}\n",
    "\n",
    "gsearch = GridSearchCV(estimator = LGBMClassifier( boosting_type='gbdt', num_leaves=30, \n",
    " max_depth=5, learning_rate=0.1, n_estimators=50, max_bin=225, # choose a small values for bins to speed up\n",
    " subsample_for_bin=5000, objective=None, min_split_gain=0, min_child_weight=5, \n",
    " min_child_samples=10, subsample=1, subsample_freq=1, colsample_bytree=1, \n",
    " reg_alpha=1, reg_lambda=0, seed=410, nthread=7, silent=True), \n",
    " param_grid = param_set, scoring='roc_auc',n_jobs=1,iid=False, cv=10)\n",
    "\n",
    "lgb_model2 = gsearch.fit(features_train, label_train)\n",
    "lgb_model2.grid_scores_, lgb_model2.best_params_, lgb_model2.best_score_"
   ]
  },
  {
   "cell_type": "code",
   "execution_count": 185,
   "metadata": {},
   "outputs": [
    {
     "data": {
      "text/plain": [
       "([mean: 0.87516, std: 0.00699, params: {'max_depth': 5},\n",
       "  mean: 0.87438, std: 0.00711, params: {'max_depth': 7},\n",
       "  mean: 0.87445, std: 0.00713, params: {'max_depth': 9},\n",
       "  mean: 0.87347, std: 0.00713, params: {'max_depth': 11},\n",
       "  mean: 0.87316, std: 0.00696, params: {'max_depth': 13},\n",
       "  mean: 0.87306, std: 0.00728, params: {'max_depth': 15}],\n",
       " {'max_depth': 5},\n",
       " 0.8751582381381662)"
      ]
     },
     "execution_count": 185,
     "metadata": {},
     "output_type": "execute_result"
    }
   ],
   "source": [
    "param_set = {\n",
    " 'max_depth':[5,7,9,11,13,15]\n",
    "}\n",
    "\n",
    "gsearch = GridSearchCV(estimator = LGBMClassifier( boosting_type='gbdt', num_leaves=30, \n",
    " max_depth=5, learning_rate=0.1, n_estimators=100, max_bin=225,\n",
    " subsample_for_bin=5000, objective=None, min_split_gain=0, min_child_weight=5, \n",
    " min_child_samples=10, subsample=1, subsample_freq=1, colsample_bytree=1, \n",
    " reg_alpha=1, reg_lambda=0, seed=410, nthread=7, silent=True), \n",
    " param_grid = param_set, scoring='roc_auc',n_jobs=1,iid=False, cv=10)\n",
    "\n",
    "lgb_model2 = gsearch.fit(features_train, label_train)\n",
    "lgb_model2.grid_scores_, lgb_model2.best_params_, lgb_model2.best_score_"
   ]
  },
  {
   "cell_type": "code",
   "execution_count": 186,
   "metadata": {},
   "outputs": [
    {
     "data": {
      "text/plain": [
       "([mean: 0.85743, std: 0.00786, params: {'max_depth': 1},\n",
       "  mean: 0.86739, std: 0.00779, params: {'max_depth': 2},\n",
       "  mean: 0.87217, std: 0.00725, params: {'max_depth': 3},\n",
       "  mean: 0.87448, std: 0.00670, params: {'max_depth': 4},\n",
       "  mean: 0.87516, std: 0.00699, params: {'max_depth': 5}],\n",
       " {'max_depth': 5},\n",
       " 0.8751582381381662)"
      ]
     },
     "execution_count": 186,
     "metadata": {},
     "output_type": "execute_result"
    }
   ],
   "source": [
    "param_set = {\n",
    " 'max_depth':[1,2,3,4,5]\n",
    "}\n",
    "\n",
    "gsearch = GridSearchCV(estimator = LGBMClassifier( boosting_type='gbdt', num_leaves=30, \n",
    " max_depth=5, learning_rate=0.1, n_estimators=100, max_bin=225,\n",
    " subsample_for_bin=5000, objective=None, min_split_gain=0, min_child_weight=5, \n",
    " min_child_samples=10, subsample=1, subsample_freq=1, colsample_bytree=1, \n",
    " reg_alpha=1, reg_lambda=0, seed=410, nthread=7, silent=True), \n",
    " param_grid = param_set, scoring='roc_auc',n_jobs=1,iid=False, cv=10)\n",
    "\n",
    "lgb_model2 = gsearch.fit(features_train, label_train)\n",
    "lgb_model2.grid_scores_, lgb_model2.best_params_, lgb_model2.best_score_"
   ]
  },
  {
   "cell_type": "code",
   "execution_count": 187,
   "metadata": {},
   "outputs": [
    {
     "data": {
      "text/plain": [
       "([mean: 0.87502, std: 0.00698, params: {'num_leaves': 20},\n",
       "  mean: 0.87523, std: 0.00699, params: {'num_leaves': 25},\n",
       "  mean: 0.87516, std: 0.00699, params: {'num_leaves': 30},\n",
       "  mean: 0.87516, std: 0.00699, params: {'num_leaves': 35}],\n",
       " {'num_leaves': 25},\n",
       " 0.8752295970057501)"
      ]
     },
     "execution_count": 187,
     "metadata": {},
     "output_type": "execute_result"
    }
   ],
   "source": [
    "param_set = {\n",
    " 'num_leaves':[20, 25, 30, 35] # this value often starts with 2^max_depth\n",
    "}    \n",
    "    \n",
    "gsearch = GridSearchCV(estimator = LGBMClassifier( boosting_type='gbdt', num_leaves=30, \n",
    " max_depth=5, learning_rate=0.1, n_estimators=100, max_bin=225,\n",
    " subsample_for_bin=5000, objective=None, min_split_gain=0, min_child_weight=5, \n",
    " min_child_samples=10, subsample=1, subsample_freq=1, colsample_bytree=1, \n",
    " reg_alpha=1, reg_lambda=0, seed=410, nthread=7, silent=True), \n",
    " param_grid = param_set, scoring='roc_auc',n_jobs=1,iid=False, cv=10)\n",
    "\n",
    "lgb_model2 = gsearch.fit(features_train, label_train)\n",
    "lgb_model2.grid_scores_, lgb_model2.best_params_, lgb_model2.best_score_"
   ]
  },
  {
   "cell_type": "code",
   "execution_count": 188,
   "metadata": {},
   "outputs": [
    {
     "data": {
      "text/plain": [
       "([mean: 0.87516, std: 0.00699, params: {'min_child_samples': 10},\n",
       "  mean: 0.87376, std: 0.00697, params: {'min_child_samples': 50},\n",
       "  mean: 0.87151, std: 0.00712, params: {'min_child_samples': 100},\n",
       "  mean: 0.87151, std: 0.00712, params: {'min_child_samples': 100}],\n",
       " {'min_child_samples': 10},\n",
       " 0.8751582381381662)"
      ]
     },
     "execution_count": 188,
     "metadata": {},
     "output_type": "execute_result"
    }
   ],
   "source": [
    "param_set = {\n",
    " 'min_child_samples':[10, 50, 100, 100] # this depends on num_leaves the number of data records. \n",
    "    # large value to avoid overfitting, but may lead to underfitting\n",
    "}    \n",
    "    \n",
    "gsearch = GridSearchCV(estimator = LGBMClassifier( boosting_type='gbdt', num_leaves=30, \n",
    " max_depth=5, learning_rate=0.1, n_estimators=100, max_bin=225,\n",
    " subsample_for_bin=5000, objective=None, min_split_gain=0, min_child_weight=5, \n",
    " min_child_samples=10, subsample=1, subsample_freq=1, colsample_bytree=1, \n",
    " reg_alpha=1, reg_lambda=0, seed=410, nthread=7, silent=True), \n",
    " param_grid = param_set, scoring='roc_auc',n_jobs=1,iid=False, cv=10)\n",
    "\n",
    "lgb_model2 = gsearch.fit(features_train, label_train)\n",
    "lgb_model2.grid_scores_, lgb_model2.best_params_, lgb_model2.best_score_"
   ]
  },
  {
   "cell_type": "code",
   "execution_count": 189,
   "metadata": {},
   "outputs": [
    {
     "data": {
      "text/plain": [
       "([mean: 0.87516, std: 0.00699, params: {'min_child_samples': 1},\n",
       "  mean: 0.87516, std: 0.00699, params: {'min_child_samples': 3},\n",
       "  mean: 0.87516, std: 0.00699, params: {'min_child_samples': 5},\n",
       "  mean: 0.87516, std: 0.00699, params: {'min_child_samples': 7},\n",
       "  mean: 0.87516, std: 0.00699, params: {'min_child_samples': 9},\n",
       "  mean: 0.87516, std: 0.00699, params: {'min_child_samples': 10}],\n",
       " {'min_child_samples': 1},\n",
       " 0.8751582381381662)"
      ]
     },
     "execution_count": 189,
     "metadata": {},
     "output_type": "execute_result"
    }
   ],
   "source": [
    "param_set = {\n",
    " 'min_child_samples':[1, 3, 5, 7, 9, 10] # this depends on num_leaves the number of data records. \n",
    "    # large value to avoid overfitting, but may lead to underfitting\n",
    "}    \n",
    "    \n",
    "gsearch = GridSearchCV(estimator = LGBMClassifier( boosting_type='gbdt', num_leaves=30, \n",
    " max_depth=5, learning_rate=0.1, n_estimators=100, max_bin=225,\n",
    " subsample_for_bin=5000, objective=None, min_split_gain=0, min_child_weight=5, \n",
    " min_child_samples=10, subsample=1, subsample_freq=1, colsample_bytree=1, \n",
    " reg_alpha=1, reg_lambda=0, seed=410, nthread=7, silent=True), \n",
    " param_grid = param_set, scoring='roc_auc',n_jobs=1,iid=False, cv=10)\n",
    "\n",
    "lgb_model2 = gsearch.fit(features_train, label_train)\n",
    "lgb_model2.grid_scores_, lgb_model2.best_params_, lgb_model2.best_score_\n",
    "\n",
    "# in fact here, mean, std didn't change"
   ]
  },
  {
   "cell_type": "code",
   "execution_count": 190,
   "metadata": {},
   "outputs": [
    {
     "data": {
      "text/plain": [
       "([mean: 0.87516, std: 0.00699, params: {'min_child_samples': 10},\n",
       "  mean: 0.87516, std: 0.00699, params: {'min_child_samples': 11},\n",
       "  mean: 0.87516, std: 0.00699, params: {'min_child_samples': 12},\n",
       "  mean: 0.87516, std: 0.00699, params: {'min_child_samples': 13},\n",
       "  mean: 0.87516, std: 0.00699, params: {'min_child_samples': 14},\n",
       "  mean: 0.87516, std: 0.00699, params: {'min_child_samples': 15}],\n",
       " {'min_child_samples': 10},\n",
       " 0.8751582381381662)"
      ]
     },
     "execution_count": 190,
     "metadata": {},
     "output_type": "execute_result"
    }
   ],
   "source": [
    "param_set = {\n",
    " 'min_child_samples':[10, 11, 12, 13, 14, 15] # this depends on num_leaves the number of data records. \n",
    "    # large value to avoid overfitting, but may lead to underfitting\n",
    "}    \n",
    "    \n",
    "gsearch = GridSearchCV(estimator = LGBMClassifier(boosting_type='gbdt', num_leaves=30, \n",
    " max_depth=5, learning_rate=0.1, n_estimators=100, max_bin=225,\n",
    " subsample_for_bin=5000, objective=None, min_split_gain=0, min_child_weight=5, \n",
    " min_child_samples=10, subsample=1, subsample_freq=1, colsample_bytree=1, \n",
    " reg_alpha=1, reg_lambda=0, seed=410, nthread=7, silent=True), \n",
    " param_grid = param_set, scoring='roc_auc',n_jobs=1,iid=False, cv=10)\n",
    "\n",
    "lgb_model2 = gsearch.fit(features_train, label_train)\n",
    "lgb_model2.grid_scores_, lgb_model2.best_params_, lgb_model2.best_score_"
   ]
  },
  {
   "cell_type": "code",
   "execution_count": 193,
   "metadata": {},
   "outputs": [
    {
     "name": "stdout",
     "output_type": "stream",
     "text": [
      "\n",
      "Model Report\n",
      "Accuracy : 0.846\n",
      "AUC Score (Train): 0.885370\n",
      "0:00:00.635665\n",
      "[0 0 0 ..., 0 1 0]\n"
     ]
    },
    {
     "data": {
      "image/png": "[encoded data removed]",
      "text/plain": [
       "<matplotlib.figure.Figure at 0x1120d9b38>"
      ]
     },
     "metadata": {},
     "output_type": "display_data"
    }
   ],
   "source": [
    "start=datetime.now()\n",
    "\n",
    "lgb2 = LGBMClassifier(\n",
    " boosting_type='gbdt', \n",
    " num_leaves=30, \n",
    " max_depth=5, \n",
    " learning_rate=0.1, \n",
    " n_estimators=100, \n",
    " max_bin=225,\n",
    " subsample_for_bin=5000,\n",
    " min_split_gain=0, \n",
    " min_child_weight=5, \n",
    " min_child_samples=10, \n",
    " subsample=1, subsample_freq=1, colsample_bytree=1, \n",
    " reg_alpha=1, reg_lambda=0, seed=410, nthread=7\n",
    ")\n",
    "\n",
    "lgb_model2 = lgb_model_fit(lgb2, features_train, label_train)\n",
    "\n",
    "stop=datetime.now()\n",
    "execution_time_lgbm = stop-start\n",
    "print(execution_time_lgbm)        # 0:00:00.635665\n",
    "\n",
    "ypred = lgb_model2.predict(features_test) \n",
    "print(ypred)"
   ]
  },
  {
   "cell_type": "code",
   "execution_count": 195,
   "metadata": {},
   "outputs": [
    {
     "name": "stdout",
     "output_type": "stream",
     "text": [
      "accuracy:  0.848705087522\n",
      "AUC:  0.720628320665\n",
      "Precision:  0.961379126019\n",
      "Specificity:  0.791486291486\n",
      "Recall:  0.858165334606\n"
     ]
    }
   ],
   "source": [
    "ypred2=lgb_model2.predict(features_test)\n",
    "\n",
    "cm = confusion_matrix(label_test, ypred2)\n",
    "TP = cm[0][0]\n",
    "FP = cm[0][1]\n",
    "FN = cm[1][0]\n",
    "TN = cm[1][1]\n",
    "\n",
    "accuracy_lgb = (TP + TN)/(TP+FP+FN+TN)   \n",
    "auc_score_lgb = roc_auc_score(label_test, ypred)   \n",
    "precision_lgb = TP/(TP+FP)   \n",
    "specificity_lgb = TN/(TN+FP)  \n",
    "recall_lgb = TP/(TP+FN)   \n",
    "print(\"accuracy: \", accuracy_lgb)\n",
    "print(\"AUC: \", auc_score_lgb)\n",
    "print(\"Precision: \", precision_lgb)\n",
    "print(\"Specificity: \", specificity_lgb)\n",
    "print(\"Recall: \", recall_lgb)"
   ]
  },
  {
   "cell_type": "code",
   "execution_count": 196,
   "metadata": {},
   "outputs": [
    {
     "data": {
      "text/plain": [
       "([mean: 0.87539, std: 0.00713, params: {'max_bin': 50, 'subsample_for_bin': 100},\n",
       "  mean: 0.87539, std: 0.00713, params: {'max_bin': 50, 'subsample_for_bin': 500},\n",
       "  mean: 0.87539, std: 0.00713, params: {'max_bin': 50, 'subsample_for_bin': 1000},\n",
       "  mean: 0.87539, std: 0.00713, params: {'max_bin': 50, 'subsample_for_bin': 5000},\n",
       "  mean: 0.87539, std: 0.00713, params: {'max_bin': 50, 'subsample_for_bin': 10000},\n",
       "  mean: 0.87537, std: 0.00709, params: {'max_bin': 100, 'subsample_for_bin': 100},\n",
       "  mean: 0.87537, std: 0.00709, params: {'max_bin': 100, 'subsample_for_bin': 500},\n",
       "  mean: 0.87537, std: 0.00709, params: {'max_bin': 100, 'subsample_for_bin': 1000},\n",
       "  mean: 0.87537, std: 0.00709, params: {'max_bin': 100, 'subsample_for_bin': 5000},\n",
       "  mean: 0.87537, std: 0.00709, params: {'max_bin': 100, 'subsample_for_bin': 10000},\n",
       "  mean: 0.87495, std: 0.00723, params: {'max_bin': 200, 'subsample_for_bin': 100},\n",
       "  mean: 0.87495, std: 0.00723, params: {'max_bin': 200, 'subsample_for_bin': 500},\n",
       "  mean: 0.87495, std: 0.00723, params: {'max_bin': 200, 'subsample_for_bin': 1000},\n",
       "  mean: 0.87495, std: 0.00723, params: {'max_bin': 200, 'subsample_for_bin': 5000},\n",
       "  mean: 0.87495, std: 0.00723, params: {'max_bin': 200, 'subsample_for_bin': 10000},\n",
       "  mean: 0.87516, std: 0.00699, params: {'max_bin': 225, 'subsample_for_bin': 100},\n",
       "  mean: 0.87516, std: 0.00699, params: {'max_bin': 225, 'subsample_for_bin': 500},\n",
       "  mean: 0.87516, std: 0.00699, params: {'max_bin': 225, 'subsample_for_bin': 1000},\n",
       "  mean: 0.87516, std: 0.00699, params: {'max_bin': 225, 'subsample_for_bin': 5000},\n",
       "  mean: 0.87516, std: 0.00699, params: {'max_bin': 225, 'subsample_for_bin': 10000},\n",
       "  mean: 0.87489, std: 0.00704, params: {'max_bin': 300, 'subsample_for_bin': 100},\n",
       "  mean: 0.87489, std: 0.00704, params: {'max_bin': 300, 'subsample_for_bin': 500},\n",
       "  mean: 0.87489, std: 0.00704, params: {'max_bin': 300, 'subsample_for_bin': 1000},\n",
       "  mean: 0.87489, std: 0.00704, params: {'max_bin': 300, 'subsample_for_bin': 5000},\n",
       "  mean: 0.87489, std: 0.00704, params: {'max_bin': 300, 'subsample_for_bin': 10000},\n",
       "  mean: 0.87510, std: 0.00690, params: {'max_bin': 500, 'subsample_for_bin': 100},\n",
       "  mean: 0.87510, std: 0.00690, params: {'max_bin': 500, 'subsample_for_bin': 500},\n",
       "  mean: 0.87510, std: 0.00690, params: {'max_bin': 500, 'subsample_for_bin': 1000},\n",
       "  mean: 0.87510, std: 0.00690, params: {'max_bin': 500, 'subsample_for_bin': 5000},\n",
       "  mean: 0.87510, std: 0.00690, params: {'max_bin': 500, 'subsample_for_bin': 10000},\n",
       "  mean: 0.87508, std: 0.00702, params: {'max_bin': 1000, 'subsample_for_bin': 100},\n",
       "  mean: 0.87508, std: 0.00702, params: {'max_bin': 1000, 'subsample_for_bin': 500},\n",
       "  mean: 0.87508, std: 0.00702, params: {'max_bin': 1000, 'subsample_for_bin': 1000},\n",
       "  mean: 0.87508, std: 0.00702, params: {'max_bin': 1000, 'subsample_for_bin': 5000},\n",
       "  mean: 0.87508, std: 0.00702, params: {'max_bin': 1000, 'subsample_for_bin': 10000}],\n",
       " {'max_bin': 50, 'subsample_for_bin': 100},\n",
       " 0.8753941953241245)"
      ]
     },
     "execution_count": 196,
     "metadata": {},
     "output_type": "execute_result"
    }
   ],
   "source": [
    "param_set = {\n",
    " 'max_bin':[50, 100, 200, 225, 300, 500, 1000],\n",
    " 'subsample_for_bin':[100, 500, 1000, 5000, 10000]\n",
    "}    \n",
    "    \n",
    "gsearch = GridSearchCV(estimator = LGBMClassifier(boosting_type='gbdt', num_leaves=30, \n",
    " max_depth=5, learning_rate=0.1, n_estimators=100, max_bin=225,\n",
    " subsample_for_bin=5000, min_split_gain=0, min_child_weight=5, \n",
    " min_child_samples=10, subsample=1, subsample_freq=1, colsample_bytree=1, \n",
    " reg_alpha=1, reg_lambda=0, seed=410, nthread=7, silent=True), \n",
    " param_grid = param_set, scoring='roc_auc',n_jobs=1,iid=False, cv=10)\n",
    "\n",
    "lgb_model3 = gsearch.fit(features_train, label_train)\n",
    "lgb_model3.grid_scores_, lgb_model3.best_params_, lgb_model3.best_score_"
   ]
  },
  {
   "cell_type": "code",
   "execution_count": 197,
   "metadata": {},
   "outputs": [
    {
     "data": {
      "text/plain": [
       "([mean: 0.86329, std: 0.00706, params: {'max_bin': 10, 'subsample_for_bin': 20},\n",
       "  mean: 0.86329, std: 0.00706, params: {'max_bin': 10, 'subsample_for_bin': 40},\n",
       "  mean: 0.86329, std: 0.00706, params: {'max_bin': 10, 'subsample_for_bin': 60},\n",
       "  mean: 0.86329, std: 0.00706, params: {'max_bin': 10, 'subsample_for_bin': 80},\n",
       "  mean: 0.86329, std: 0.00706, params: {'max_bin': 10, 'subsample_for_bin': 100},\n",
       "  mean: 0.86834, std: 0.00695, params: {'max_bin': 20, 'subsample_for_bin': 20},\n",
       "  mean: 0.86834, std: 0.00695, params: {'max_bin': 20, 'subsample_for_bin': 40},\n",
       "  mean: 0.86834, std: 0.00695, params: {'max_bin': 20, 'subsample_for_bin': 60},\n",
       "  mean: 0.86834, std: 0.00695, params: {'max_bin': 20, 'subsample_for_bin': 80},\n",
       "  mean: 0.86834, std: 0.00695, params: {'max_bin': 20, 'subsample_for_bin': 100},\n",
       "  mean: 0.87431, std: 0.00676, params: {'max_bin': 30, 'subsample_for_bin': 20},\n",
       "  mean: 0.87431, std: 0.00676, params: {'max_bin': 30, 'subsample_for_bin': 40},\n",
       "  mean: 0.87431, std: 0.00676, params: {'max_bin': 30, 'subsample_for_bin': 60},\n",
       "  mean: 0.87431, std: 0.00676, params: {'max_bin': 30, 'subsample_for_bin': 80},\n",
       "  mean: 0.87431, std: 0.00676, params: {'max_bin': 30, 'subsample_for_bin': 100},\n",
       "  mean: 0.87468, std: 0.00705, params: {'max_bin': 40, 'subsample_for_bin': 20},\n",
       "  mean: 0.87468, std: 0.00705, params: {'max_bin': 40, 'subsample_for_bin': 40},\n",
       "  mean: 0.87468, std: 0.00705, params: {'max_bin': 40, 'subsample_for_bin': 60},\n",
       "  mean: 0.87468, std: 0.00705, params: {'max_bin': 40, 'subsample_for_bin': 80},\n",
       "  mean: 0.87468, std: 0.00705, params: {'max_bin': 40, 'subsample_for_bin': 100},\n",
       "  mean: 0.87539, std: 0.00713, params: {'max_bin': 50, 'subsample_for_bin': 20},\n",
       "  mean: 0.87539, std: 0.00713, params: {'max_bin': 50, 'subsample_for_bin': 40},\n",
       "  mean: 0.87539, std: 0.00713, params: {'max_bin': 50, 'subsample_for_bin': 60},\n",
       "  mean: 0.87539, std: 0.00713, params: {'max_bin': 50, 'subsample_for_bin': 80},\n",
       "  mean: 0.87539, std: 0.00713, params: {'max_bin': 50, 'subsample_for_bin': 100}],\n",
       " {'max_bin': 50, 'subsample_for_bin': 20},\n",
       " 0.8753941953241245)"
      ]
     },
     "execution_count": 197,
     "metadata": {},
     "output_type": "execute_result"
    }
   ],
   "source": [
    "param_set = {\n",
    " 'max_bin':[10, 20, 30, 40, 50],\n",
    " 'subsample_for_bin':[20, 40, 60, 80, 100]\n",
    "}    \n",
    "    \n",
    "gsearch = GridSearchCV(estimator = LGBMClassifier(boosting_type='gbdt', num_leaves=30, \n",
    " max_depth=5, learning_rate=0.1, n_estimators=100, max_bin=225,\n",
    " subsample_for_bin=5000, min_split_gain=0, min_child_weight=5, \n",
    " min_child_samples=10, subsample=1, subsample_freq=1, colsample_bytree=1, \n",
    " reg_alpha=1, reg_lambda=0, seed=410, nthread=7, silent=True), \n",
    " param_grid = param_set, scoring='roc_auc',n_jobs=1,iid=False, cv=10)\n",
    "\n",
    "lgb_model3 = gsearch.fit(features_train, label_train)\n",
    "lgb_model3.grid_scores_, lgb_model3.best_params_, lgb_model3.best_score_"
   ]
  },
  {
   "cell_type": "code",
   "execution_count": 199,
   "metadata": {},
   "outputs": [
    {
     "name": "stdout",
     "output_type": "stream",
     "text": [
      "\n",
      "Model Report\n",
      "Accuracy : 0.8455\n",
      "AUC Score (Train): 0.885088\n",
      "0:00:00.622074\n",
      "[0 0 0 ..., 0 1 0]\n"
     ]
    },
    {
     "data": {
      "image/png": "[encoded data removed]",
      "text/plain": [
       "<matplotlib.figure.Figure at 0x1121acac8>"
      ]
     },
     "metadata": {},
     "output_type": "display_data"
    }
   ],
   "source": [
    "start=datetime.now()\n",
    "\n",
    "lgb3 = LGBMClassifier(\n",
    " boosting_type='gbdt', \n",
    " num_leaves=30, \n",
    " max_depth=5, \n",
    " learning_rate=0.1, \n",
    " n_estimators=100, \n",
    " max_bin=50,\n",
    " subsample_for_bin=20,\n",
    " min_split_gain=0, \n",
    " min_child_weight=5, \n",
    " min_child_samples=10, \n",
    " subsample=1, subsample_freq=1, colsample_bytree=1, \n",
    " reg_alpha=1, reg_lambda=0, seed=410, nthread=7\n",
    ")\n",
    "\n",
    "lgb_model3 = lgb_model_fit(lgb3, features_train, label_train)\n",
    "\n",
    "stop=datetime.now()\n",
    "execution_time_lgbm = stop-start\n",
    "print(execution_time_lgbm)        # 0:00:00.622074\n",
    "\n",
    "ypred = lgb_model3.predict(features_test) \n",
    "print(ypred)"
   ]
  },
  {
   "cell_type": "code",
   "execution_count": 201,
   "metadata": {},
   "outputs": [
    {
     "name": "stdout",
     "output_type": "stream",
     "text": [
      "accuracy:  0.847988535162\n",
      "AUC:  0.719704880201\n",
      "Precision:  0.96084458105\n",
      "Specificity:  0.788752703677\n",
      "Recall:  0.85779050346\n"
     ]
    }
   ],
   "source": [
    "ypred3=lgb_model3.predict(features_test)\n",
    "\n",
    "cm = confusion_matrix(label_test, ypred3)\n",
    "TP = cm[0][0]\n",
    "FP = cm[0][1]\n",
    "FN = cm[1][0]\n",
    "TN = cm[1][1]\n",
    "\n",
    "accuracy_lgb = (TP + TN)/(TP+FP+FN+TN)   \n",
    "auc_score_lgb = roc_auc_score(label_test, ypred)   \n",
    "precision_lgb = TP/(TP+FP)   \n",
    "specificity_lgb = TN/(TN+FP)  \n",
    "recall_lgb = TP/(TP+FN)   \n",
    "print(\"accuracy: \", accuracy_lgb)\n",
    "print(\"AUC: \", auc_score_lgb)\n",
    "print(\"Precision: \", precision_lgb)\n",
    "print(\"Specificity: \", specificity_lgb)\n",
    "print(\"Recall: \", recall_lgb)\n",
    "\n",
    "# the results here didn't really improve, maybe because of overfitting"
   ]
  },
  {
   "cell_type": "code",
   "execution_count": 14,
   "metadata": {},
   "outputs": [
    {
     "name": "stdout",
     "output_type": "stream",
     "text": [
      "\n",
      "Model Report\n",
      "Accuracy : 0.8777\n",
      "AUC Score (Train): 0.935886\n",
      "0:00:00.835169\n",
      "[1 0 0 ..., 0 1 0]\n"
     ]
    },
    {
     "data": {
      "image/png": "[encoded data removed]",
      "text/plain": [
       "<matplotlib.figure.Figure at 0x10e1ab390>"
      ]
     },
     "metadata": {},
     "output_type": "display_data"
    }
   ],
   "source": [
    "start=datetime.now()\n",
    "\n",
    "lgb3 = LGBMClassifier(\n",
    " boosting_type='gbdt', \n",
    " num_leaves=30, \n",
    " max_depth=5, \n",
    " learning_rate=0.1, \n",
    " n_estimators=100, \n",
    " max_bin=50,\n",
    " subsample_for_bin=5000,\n",
    " min_split_gain=0, \n",
    " min_child_weight=5, \n",
    " min_child_samples=10, \n",
    " subsample=1, subsample_freq=1, colsample_bytree=1, \n",
    " reg_alpha=1, reg_lambda=0, seed=410, nthread=7\n",
    ")\n",
    "\n",
    "lgb_model3 = lgb_model_fit(lgb3, features_train, label_train)\n",
    "\n",
    "stop=datetime.now()\n",
    "execution_time_lgbm = stop-start\n",
    "print(execution_time_lgbm)        # 0:00:00.622074\n",
    "\n",
    "ypred = lgb_model3.predict(features_test) \n",
    "print(ypred)"
   ]
  },
  {
   "cell_type": "code",
   "execution_count": 15,
   "metadata": {},
   "outputs": [
    {
     "name": "stdout",
     "output_type": "stream",
     "text": [
      "accuracy:  0.870406387552\n",
      "AUC:  0.786565544728\n",
      "Precision:  0.947382586462\n",
      "Specificity:  0.789104638619\n",
      "Recall:  0.889450410613\n"
     ]
    }
   ],
   "source": [
    "ypred3=lgb_model3.predict(features_test)\n",
    "\n",
    "cm = confusion_matrix(label_test, ypred3)\n",
    "TP = cm[0][0]\n",
    "FP = cm[0][1]\n",
    "FN = cm[1][0]\n",
    "TN = cm[1][1]\n",
    "\n",
    "accuracy_lgb = (TP + TN)/(TP+FP+FN+TN)   \n",
    "auc_score_lgb = roc_auc_score(label_test, ypred)   \n",
    "precision_lgb = TP/(TP+FP)   \n",
    "specificity_lgb = TN/(TN+FP)  \n",
    "recall_lgb = TP/(TP+FN)   \n",
    "print(\"accuracy: \", accuracy_lgb)\n",
    "print(\"AUC: \", auc_score_lgb)\n",
    "print(\"Precision: \", precision_lgb)\n",
    "print(\"Specificity: \", specificity_lgb)\n",
    "print(\"Recall: \", recall_lgb)"
   ]
  },
  {
   "cell_type": "code",
   "execution_count": 16,
   "metadata": {},
   "outputs": [
    {
     "data": {
      "text/plain": [
       "([mean: 0.91795, std: 0.00419, params: {'colsample_bytree': 0.2, 'min_child_weight': 3, 'subsample': 0.2},\n",
       "  mean: 0.92079, std: 0.00417, params: {'colsample_bytree': 0.2, 'min_child_weight': 3, 'subsample': 0.4},\n",
       "  mean: 0.92196, std: 0.00429, params: {'colsample_bytree': 0.2, 'min_child_weight': 3, 'subsample': 0.6},\n",
       "  mean: 0.92262, std: 0.00427, params: {'colsample_bytree': 0.2, 'min_child_weight': 3, 'subsample': 0.8},\n",
       "  mean: 0.92315, std: 0.00449, params: {'colsample_bytree': 0.2, 'min_child_weight': 3, 'subsample': 1},\n",
       "  mean: 0.91624, std: 0.00422, params: {'colsample_bytree': 0.2, 'min_child_weight': 5, 'subsample': 0.2},\n",
       "  mean: 0.91949, std: 0.00443, params: {'colsample_bytree': 0.2, 'min_child_weight': 5, 'subsample': 0.4},\n",
       "  mean: 0.92113, std: 0.00423, params: {'colsample_bytree': 0.2, 'min_child_weight': 5, 'subsample': 0.6},\n",
       "  mean: 0.92187, std: 0.00428, params: {'colsample_bytree': 0.2, 'min_child_weight': 5, 'subsample': 0.8},\n",
       "  mean: 0.92222, std: 0.00430, params: {'colsample_bytree': 0.2, 'min_child_weight': 5, 'subsample': 1},\n",
       "  mean: 0.91493, std: 0.00443, params: {'colsample_bytree': 0.2, 'min_child_weight': 7, 'subsample': 0.2},\n",
       "  mean: 0.91795, std: 0.00434, params: {'colsample_bytree': 0.2, 'min_child_weight': 7, 'subsample': 0.4},\n",
       "  mean: 0.91992, std: 0.00423, params: {'colsample_bytree': 0.2, 'min_child_weight': 7, 'subsample': 0.6},\n",
       "  mean: 0.92143, std: 0.00430, params: {'colsample_bytree': 0.2, 'min_child_weight': 7, 'subsample': 0.8},\n",
       "  mean: 0.92175, std: 0.00450, params: {'colsample_bytree': 0.2, 'min_child_weight': 7, 'subsample': 1},\n",
       "  mean: 0.91433, std: 0.00447, params: {'colsample_bytree': 0.2, 'min_child_weight': 9, 'subsample': 0.2},\n",
       "  mean: 0.91687, std: 0.00444, params: {'colsample_bytree': 0.2, 'min_child_weight': 9, 'subsample': 0.4},\n",
       "  mean: 0.91865, std: 0.00423, params: {'colsample_bytree': 0.2, 'min_child_weight': 9, 'subsample': 0.6},\n",
       "  mean: 0.92061, std: 0.00434, params: {'colsample_bytree': 0.2, 'min_child_weight': 9, 'subsample': 0.8},\n",
       "  mean: 0.92130, std: 0.00437, params: {'colsample_bytree': 0.2, 'min_child_weight': 9, 'subsample': 1},\n",
       "  mean: 0.87789, std: 0.00479, params: {'colsample_bytree': 0.4, 'min_child_weight': 3, 'subsample': 0.2},\n",
       "  mean: 0.87828, std: 0.00479, params: {'colsample_bytree': 0.4, 'min_child_weight': 3, 'subsample': 0.4},\n",
       "  mean: 0.87857, std: 0.00469, params: {'colsample_bytree': 0.4, 'min_child_weight': 3, 'subsample': 0.6},\n",
       "  mean: 0.87855, std: 0.00479, params: {'colsample_bytree': 0.4, 'min_child_weight': 3, 'subsample': 0.8},\n",
       "  mean: 0.87855, std: 0.00495, params: {'colsample_bytree': 0.4, 'min_child_weight': 3, 'subsample': 1},\n",
       "  mean: 0.87715, std: 0.00497, params: {'colsample_bytree': 0.4, 'min_child_weight': 5, 'subsample': 0.2},\n",
       "  mean: 0.87832, std: 0.00483, params: {'colsample_bytree': 0.4, 'min_child_weight': 5, 'subsample': 0.4},\n",
       "  mean: 0.87824, std: 0.00477, params: {'colsample_bytree': 0.4, 'min_child_weight': 5, 'subsample': 0.6},\n",
       "  mean: 0.87861, std: 0.00476, params: {'colsample_bytree': 0.4, 'min_child_weight': 5, 'subsample': 0.8},\n",
       "  mean: 0.87865, std: 0.00490, params: {'colsample_bytree': 0.4, 'min_child_weight': 5, 'subsample': 1},\n",
       "  mean: 0.87647, std: 0.00511, params: {'colsample_bytree': 0.4, 'min_child_weight': 7, 'subsample': 0.2},\n",
       "  mean: 0.87791, std: 0.00470, params: {'colsample_bytree': 0.4, 'min_child_weight': 7, 'subsample': 0.4},\n",
       "  mean: 0.87816, std: 0.00483, params: {'colsample_bytree': 0.4, 'min_child_weight': 7, 'subsample': 0.6},\n",
       "  mean: 0.87860, std: 0.00493, params: {'colsample_bytree': 0.4, 'min_child_weight': 7, 'subsample': 0.8},\n",
       "  mean: 0.87861, std: 0.00476, params: {'colsample_bytree': 0.4, 'min_child_weight': 7, 'subsample': 1},\n",
       "  mean: 0.87538, std: 0.00534, params: {'colsample_bytree': 0.4, 'min_child_weight': 9, 'subsample': 0.2},\n",
       "  mean: 0.87738, std: 0.00495, params: {'colsample_bytree': 0.4, 'min_child_weight': 9, 'subsample': 0.4},\n",
       "  mean: 0.87804, std: 0.00484, params: {'colsample_bytree': 0.4, 'min_child_weight': 9, 'subsample': 0.6},\n",
       "  mean: 0.87829, std: 0.00481, params: {'colsample_bytree': 0.4, 'min_child_weight': 9, 'subsample': 0.8},\n",
       "  mean: 0.87865, std: 0.00480, params: {'colsample_bytree': 0.4, 'min_child_weight': 9, 'subsample': 1},\n",
       "  mean: 0.92224, std: 0.00382, params: {'colsample_bytree': 0.6, 'min_child_weight': 3, 'subsample': 0.2},\n",
       "  mean: 0.92557, std: 0.00464, params: {'colsample_bytree': 0.6, 'min_child_weight': 3, 'subsample': 0.4},\n",
       "  mean: 0.92628, std: 0.00473, params: {'colsample_bytree': 0.6, 'min_child_weight': 3, 'subsample': 0.6},\n",
       "  mean: 0.92649, std: 0.00482, params: {'colsample_bytree': 0.6, 'min_child_weight': 3, 'subsample': 0.8},\n",
       "  mean: 0.92691, std: 0.00472, params: {'colsample_bytree': 0.6, 'min_child_weight': 3, 'subsample': 1},\n",
       "  mean: 0.92021, std: 0.00460, params: {'colsample_bytree': 0.6, 'min_child_weight': 5, 'subsample': 0.2},\n",
       "  mean: 0.92454, std: 0.00458, params: {'colsample_bytree': 0.6, 'min_child_weight': 5, 'subsample': 0.4},\n",
       "  mean: 0.92552, std: 0.00462, params: {'colsample_bytree': 0.6, 'min_child_weight': 5, 'subsample': 0.6},\n",
       "  mean: 0.92576, std: 0.00479, params: {'colsample_bytree': 0.6, 'min_child_weight': 5, 'subsample': 0.8},\n",
       "  mean: 0.92631, std: 0.00486, params: {'colsample_bytree': 0.6, 'min_child_weight': 5, 'subsample': 1},\n",
       "  mean: 0.91876, std: 0.00508, params: {'colsample_bytree': 0.6, 'min_child_weight': 7, 'subsample': 0.2},\n",
       "  mean: 0.92328, std: 0.00485, params: {'colsample_bytree': 0.6, 'min_child_weight': 7, 'subsample': 0.4},\n",
       "  mean: 0.92478, std: 0.00482, params: {'colsample_bytree': 0.6, 'min_child_weight': 7, 'subsample': 0.6},\n",
       "  mean: 0.92544, std: 0.00479, params: {'colsample_bytree': 0.6, 'min_child_weight': 7, 'subsample': 0.8},\n",
       "  mean: 0.92557, std: 0.00477, params: {'colsample_bytree': 0.6, 'min_child_weight': 7, 'subsample': 1},\n",
       "  mean: 0.91800, std: 0.00498, params: {'colsample_bytree': 0.6, 'min_child_weight': 9, 'subsample': 0.2},\n",
       "  mean: 0.92179, std: 0.00475, params: {'colsample_bytree': 0.6, 'min_child_weight': 9, 'subsample': 0.4},\n",
       "  mean: 0.92420, std: 0.00471, params: {'colsample_bytree': 0.6, 'min_child_weight': 9, 'subsample': 0.6},\n",
       "  mean: 0.92485, std: 0.00451, params: {'colsample_bytree': 0.6, 'min_child_weight': 9, 'subsample': 0.8},\n",
       "  mean: 0.92541, std: 0.00486, params: {'colsample_bytree': 0.6, 'min_child_weight': 9, 'subsample': 1},\n",
       "  mean: 0.92224, std: 0.00417, params: {'colsample_bytree': 0.8, 'min_child_weight': 3, 'subsample': 0.2},\n",
       "  mean: 0.92560, std: 0.00477, params: {'colsample_bytree': 0.8, 'min_child_weight': 3, 'subsample': 0.4},\n",
       "  mean: 0.92621, std: 0.00490, params: {'colsample_bytree': 0.8, 'min_child_weight': 3, 'subsample': 0.6},\n",
       "  mean: 0.92632, std: 0.00495, params: {'colsample_bytree': 0.8, 'min_child_weight': 3, 'subsample': 0.8},\n",
       "  mean: 0.92678, std: 0.00511, params: {'colsample_bytree': 0.8, 'min_child_weight': 3, 'subsample': 1},\n",
       "  mean: 0.92001, std: 0.00469, params: {'colsample_bytree': 0.8, 'min_child_weight': 5, 'subsample': 0.2},\n",
       "  mean: 0.92452, std: 0.00495, params: {'colsample_bytree': 0.8, 'min_child_weight': 5, 'subsample': 0.4},\n",
       "  mean: 0.92532, std: 0.00506, params: {'colsample_bytree': 0.8, 'min_child_weight': 5, 'subsample': 0.6},\n",
       "  mean: 0.92594, std: 0.00517, params: {'colsample_bytree': 0.8, 'min_child_weight': 5, 'subsample': 0.8},\n",
       "  mean: 0.92609, std: 0.00516, params: {'colsample_bytree': 0.8, 'min_child_weight': 5, 'subsample': 1},\n",
       "  mean: 0.91897, std: 0.00451, params: {'colsample_bytree': 0.8, 'min_child_weight': 7, 'subsample': 0.2},\n",
       "  mean: 0.92321, std: 0.00482, params: {'colsample_bytree': 0.8, 'min_child_weight': 7, 'subsample': 0.4},\n",
       "  mean: 0.92487, std: 0.00495, params: {'colsample_bytree': 0.8, 'min_child_weight': 7, 'subsample': 0.6},\n",
       "  mean: 0.92525, std: 0.00497, params: {'colsample_bytree': 0.8, 'min_child_weight': 7, 'subsample': 0.8},\n",
       "  mean: 0.92557, std: 0.00504, params: {'colsample_bytree': 0.8, 'min_child_weight': 7, 'subsample': 1},\n",
       "  mean: 0.91823, std: 0.00447, params: {'colsample_bytree': 0.8, 'min_child_weight': 9, 'subsample': 0.2},\n",
       "  mean: 0.92194, std: 0.00487, params: {'colsample_bytree': 0.8, 'min_child_weight': 9, 'subsample': 0.4},\n",
       "  mean: 0.92407, std: 0.00500, params: {'colsample_bytree': 0.8, 'min_child_weight': 9, 'subsample': 0.6},\n",
       "  mean: 0.92502, std: 0.00505, params: {'colsample_bytree': 0.8, 'min_child_weight': 9, 'subsample': 0.8},\n",
       "  mean: 0.92527, std: 0.00501, params: {'colsample_bytree': 0.8, 'min_child_weight': 9, 'subsample': 1},\n",
       "  mean: 0.92265, std: 0.00410, params: {'colsample_bytree': 1, 'min_child_weight': 3, 'subsample': 0.2},\n",
       "  mean: 0.92533, std: 0.00497, params: {'colsample_bytree': 1, 'min_child_weight': 3, 'subsample': 0.4},\n",
       "  mean: 0.92597, std: 0.00523, params: {'colsample_bytree': 1, 'min_child_weight': 3, 'subsample': 0.6},\n",
       "  mean: 0.92657, std: 0.00447, params: {'colsample_bytree': 1, 'min_child_weight': 3, 'subsample': 0.8},\n",
       "  mean: 0.92649, std: 0.00518, params: {'colsample_bytree': 1, 'min_child_weight': 3, 'subsample': 1},\n",
       "  mean: 0.91987, std: 0.00498, params: {'colsample_bytree': 1, 'min_child_weight': 5, 'subsample': 0.2},\n",
       "  mean: 0.92447, std: 0.00475, params: {'colsample_bytree': 1, 'min_child_weight': 5, 'subsample': 0.4},\n",
       "  mean: 0.92555, std: 0.00495, params: {'colsample_bytree': 1, 'min_child_weight': 5, 'subsample': 0.6},\n",
       "  mean: 0.92611, std: 0.00478, params: {'colsample_bytree': 1, 'min_child_weight': 5, 'subsample': 0.8},\n",
       "  mean: 0.92601, std: 0.00488, params: {'colsample_bytree': 1, 'min_child_weight': 5, 'subsample': 1},\n",
       "  mean: 0.91827, std: 0.00489, params: {'colsample_bytree': 1, 'min_child_weight': 7, 'subsample': 0.2},\n",
       "  mean: 0.92298, std: 0.00492, params: {'colsample_bytree': 1, 'min_child_weight': 7, 'subsample': 0.4},\n",
       "  mean: 0.92464, std: 0.00484, params: {'colsample_bytree': 1, 'min_child_weight': 7, 'subsample': 0.6},\n",
       "  mean: 0.92534, std: 0.00468, params: {'colsample_bytree': 1, 'min_child_weight': 7, 'subsample': 0.8},\n",
       "  mean: 0.92559, std: 0.00498, params: {'colsample_bytree': 1, 'min_child_weight': 7, 'subsample': 1},\n",
       "  mean: 0.91767, std: 0.00479, params: {'colsample_bytree': 1, 'min_child_weight': 9, 'subsample': 0.2},\n",
       "  mean: 0.92188, std: 0.00475, params: {'colsample_bytree': 1, 'min_child_weight': 9, 'subsample': 0.4},\n",
       "  mean: 0.92393, std: 0.00481, params: {'colsample_bytree': 1, 'min_child_weight': 9, 'subsample': 0.6},\n",
       "  mean: 0.92482, std: 0.00482, params: {'colsample_bytree': 1, 'min_child_weight': 9, 'subsample': 0.8},\n",
       "  mean: 0.92530, std: 0.00488, params: {'colsample_bytree': 1, 'min_child_weight': 9, 'subsample': 1}],\n",
       " {'colsample_bytree': 0.6, 'min_child_weight': 3, 'subsample': 1},\n",
       " 0.9269104641265964)"
      ]
     },
     "execution_count": 16,
     "metadata": {},
     "output_type": "execute_result"
    }
   ],
   "source": [
    "param_set = {\n",
    " 'min_child_weight':[3, 5, 7, 9],\n",
    " 'colsample_bytree':[0.2, 0.4, 0.6, 0.8, 1],\n",
    " 'subsample':[0.2, 0.4, 0.6, 0.8, 1]\n",
    "}    \n",
    "    \n",
    "gsearch = GridSearchCV(estimator = LGBMClassifier(boosting_type='gbdt', num_leaves=30, \n",
    " max_depth=5, learning_rate=0.1, n_estimators=100, max_bin=50,\n",
    " subsample_for_bin=5000, min_split_gain=0, min_child_weight=5, \n",
    " min_child_samples=10, subsample=1, subsample_freq=1, colsample_bytree=1, \n",
    " reg_alpha=1, reg_lambda=0, seed=410, nthread=7), \n",
    " param_grid = param_set, scoring='roc_auc',n_jobs=1,iid=False, cv=10)\n",
    "\n",
    "lgb_model4 = gsearch.fit(features_train, label_train)\n",
    "lgb_model4.grid_scores_, lgb_model4.best_params_, lgb_model4.best_score_"
   ]
  },
  {
   "cell_type": "code",
   "execution_count": 19,
   "metadata": {},
   "outputs": [
    {
     "data": {
      "text/plain": [
       "([mean: 0.92680, std: 0.00506, params: {'min_child_weight': 1},\n",
       "  mean: 0.92686, std: 0.00489, params: {'min_child_weight': 2},\n",
       "  mean: 0.92649, std: 0.00518, params: {'min_child_weight': 3},\n",
       "  mean: 0.92628, std: 0.00488, params: {'min_child_weight': 4}],\n",
       " {'min_child_weight': 2},\n",
       " 0.9268573610867094)"
      ]
     },
     "execution_count": 19,
     "metadata": {},
     "output_type": "execute_result"
    }
   ],
   "source": [
    "param_set = {\n",
    " 'min_child_weight':[1,2,3,4]\n",
    "}    \n",
    "    \n",
    "gsearch = GridSearchCV(estimator = LGBMClassifier(boosting_type='gbdt', num_leaves=30, \n",
    " max_depth=5, learning_rate=0.1, n_estimators=100, max_bin=50,\n",
    " subsample_for_bin=5000, min_split_gain=0, min_child_weight=5, \n",
    " min_child_samples=10, subsample=1, subsample_freq=1, colsample_bytree=1, \n",
    " reg_alpha=1, reg_lambda=0, seed=410, nthread=7), \n",
    " param_grid = param_set, scoring='roc_auc',n_jobs=1,iid=False, cv=10)\n",
    "\n",
    "lgb_model4 = gsearch.fit(features_train, label_train)\n",
    "lgb_model4.grid_scores_, lgb_model4.best_params_, lgb_model4.best_score_"
   ]
  },
  {
   "cell_type": "code",
   "execution_count": 22,
   "metadata": {},
   "outputs": [
    {
     "name": "stdout",
     "output_type": "stream",
     "text": [
      "\n",
      "Model Report\n",
      "Accuracy : 0.8771\n",
      "AUC Score (Train): 0.935860\n",
      "0:00:00.881916\n",
      "[1 0 0 ..., 0 1 0]\n"
     ]
    },
    {
     "data": {
      "image/png": "[encoded data removed]",
      "text/plain": [
       "<matplotlib.figure.Figure at 0x10d9b2908>"
      ]
     },
     "metadata": {},
     "output_type": "display_data"
    }
   ],
   "source": [
    "start=datetime.now()\n",
    "\n",
    "lgb4 = LGBMClassifier(\n",
    " boosting_type='gbdt', \n",
    " num_leaves=30, \n",
    " max_depth=5, \n",
    " learning_rate=0.1, \n",
    " n_estimators=100, \n",
    " max_bin=50,\n",
    " subsample_for_bin=5000,\n",
    " min_split_gain=0, \n",
    " min_child_weight=3, \n",
    " min_child_samples=10, \n",
    " subsample=1, subsample_freq=1, colsample_bytree=0.6, \n",
    " reg_alpha=1, reg_lambda=0, seed=410, nthread=7\n",
    ")\n",
    "\n",
    "lgb_model4 = lgb_model_fit(lgb4, features_train, label_train)\n",
    "\n",
    "stop=datetime.now()\n",
    "execution_time_lgbm = stop-start\n",
    "print(execution_time_lgbm)        # 0:00:00.622074\n",
    "\n",
    "ypred = lgb_model4.predict(features_test) \n",
    "print(ypred)"
   ]
  },
  {
   "cell_type": "code",
   "execution_count": 23,
   "metadata": {},
   "outputs": [
    {
     "name": "stdout",
     "output_type": "stream",
     "text": [
      "accuracy:  0.87143003378\n",
      "AUC:  0.787238401679\n",
      "Precision:  0.948728300363\n",
      "Specificity:  0.793383947939\n",
      "Recall:  0.889589905363\n"
     ]
    }
   ],
   "source": [
    "ypred4=lgb_model4.predict(features_test)\n",
    "\n",
    "cm = confusion_matrix(label_test, ypred4)\n",
    "TP = cm[0][0]\n",
    "FP = cm[0][1]\n",
    "FN = cm[1][0]\n",
    "TN = cm[1][1]\n",
    "\n",
    "accuracy_lgb = (TP + TN)/(TP+FP+FN+TN)   \n",
    "auc_score_lgb = roc_auc_score(label_test, ypred)   \n",
    "precision_lgb = TP/(TP+FP)   \n",
    "specificity_lgb = TN/(TN+FP)  \n",
    "recall_lgb = TP/(TP+FN)   \n",
    "print(\"accuracy: \", accuracy_lgb)\n",
    "print(\"AUC: \", auc_score_lgb)\n",
    "print(\"Precision: \", precision_lgb)\n",
    "print(\"Specificity: \", specificity_lgb)\n",
    "print(\"Recall: \", recall_lgb)"
   ]
  },
  {
   "cell_type": "code",
   "execution_count": 24,
   "metadata": {},
   "outputs": [
    {
     "name": "stdout",
     "output_type": "stream",
     "text": [
      "\n",
      "Model Report\n",
      "Accuracy : 0.8782\n",
      "AUC Score (Train): 0.936438\n",
      "0:00:00.886732\n",
      "[1 0 0 ..., 0 1 0]\n"
     ]
    },
    {
     "data": {
      "image/png": "[encoded data removed]",
      "text/plain": [
       "<matplotlib.figure.Figure at 0x10e4d4518>"
      ]
     },
     "metadata": {},
     "output_type": "display_data"
    }
   ],
   "source": [
    "start=datetime.now()\n",
    "\n",
    "lgb4 = LGBMClassifier(\n",
    " boosting_type='gbdt', \n",
    " num_leaves=30, \n",
    " max_depth=5, \n",
    " learning_rate=0.1, \n",
    " n_estimators=100, \n",
    " max_bin=50,\n",
    " subsample_for_bin=5000,\n",
    " min_split_gain=0, \n",
    " min_child_weight=2, \n",
    " min_child_samples=10, \n",
    " subsample=1, subsample_freq=1, colsample_bytree=0.6, \n",
    " reg_alpha=1, reg_lambda=0, seed=410, nthread=7\n",
    ")\n",
    "\n",
    "lgb_model4 = lgb_model_fit(lgb4, features_train, label_train)\n",
    "\n",
    "stop=datetime.now()\n",
    "execution_time_lgbm = stop-start\n",
    "print(execution_time_lgbm)        # 0:00:00.886732\n",
    "\n",
    "ypred = lgb_model4.predict(features_test) \n",
    "print(ypred)"
   ]
  },
  {
   "cell_type": "code",
   "execution_count": 25,
   "metadata": {},
   "outputs": [
    {
     "name": "stdout",
     "output_type": "stream",
     "text": [
      "accuracy:  0.871122939912\n",
      "AUC:  0.787036544593\n",
      "Precision:  0.948324586193\n",
      "Specificity:  0.792095289659\n",
      "Recall:  0.889548093916\n"
     ]
    }
   ],
   "source": [
    "ypred4=lgb_model4.predict(features_test)\n",
    "\n",
    "cm = confusion_matrix(label_test, ypred4)\n",
    "TP = cm[0][0]\n",
    "FP = cm[0][1]\n",
    "FN = cm[1][0]\n",
    "TN = cm[1][1]\n",
    "\n",
    "accuracy_lgb = (TP + TN)/(TP+FP+FN+TN)   \n",
    "auc_score_lgb = roc_auc_score(label_test, ypred)   \n",
    "precision_lgb = TP/(TP+FP)   \n",
    "specificity_lgb = TN/(TN+FP)  \n",
    "recall_lgb = TP/(TP+FN)   \n",
    "print(\"accuracy: \", accuracy_lgb)\n",
    "print(\"AUC: \", auc_score_lgb)\n",
    "print(\"Precision: \", precision_lgb)\n",
    "print(\"Specificity: \", specificity_lgb)\n",
    "print(\"Recall: \", recall_lgb)\n",
    "\n",
    "# overfit"
   ]
  },
  {
   "cell_type": "code",
   "execution_count": 26,
   "metadata": {},
   "outputs": [
    {
     "data": {
      "text/plain": [
       "([mean: 0.91058, std: 0.00572, params: {'learning_rate': 0.01},\n",
       "  mean: 0.92155, std: 0.00528, params: {'learning_rate': 0.05},\n",
       "  mean: 0.92691, std: 0.00472, params: {'learning_rate': 0.1},\n",
       "  mean: 0.92854, std: 0.00452, params: {'learning_rate': 0.2}],\n",
       " {'learning_rate': 0.2},\n",
       " 0.9285375090265123)"
      ]
     },
     "execution_count": 26,
     "metadata": {},
     "output_type": "execute_result"
    }
   ],
   "source": [
    "param_set = {\n",
    " 'learning_rate':[0.01, 0.05, 0.1, 0.2]\n",
    "}    \n",
    "    \n",
    "gsearch = GridSearchCV(estimator = LGBMClassifier(boosting_type='gbdt', num_leaves=30, \n",
    " max_depth=5, learning_rate=0.1, n_estimators=100, max_bin=50,\n",
    " subsample_for_bin=5000, min_split_gain=0, min_child_weight=3, \n",
    " min_child_samples=10, subsample=1, subsample_freq=1, colsample_bytree=0.6, \n",
    " reg_alpha=1, reg_lambda=0, seed=410, nthread=7), \n",
    " param_grid = param_set, scoring='roc_auc',n_jobs=1,iid=False, cv=10)\n",
    "\n",
    "lgb_model5 = gsearch.fit(features_train, label_train)\n",
    "lgb_model5.grid_scores_, lgb_model5.best_params_, lgb_model5.best_score_"
   ]
  },
  {
   "cell_type": "code",
   "execution_count": 27,
   "metadata": {},
   "outputs": [
    {
     "data": {
      "text/plain": [
       "([mean: 0.92854, std: 0.00452, params: {'learning_rate': 0.2},\n",
       "  mean: 0.92729, std: 0.00488, params: {'learning_rate': 0.3},\n",
       "  mean: 0.92626, std: 0.00466, params: {'learning_rate': 0.4},\n",
       "  mean: 0.92397, std: 0.00423, params: {'learning_rate': 0.5}],\n",
       " {'learning_rate': 0.2},\n",
       " 0.9285375090265123)"
      ]
     },
     "execution_count": 27,
     "metadata": {},
     "output_type": "execute_result"
    }
   ],
   "source": [
    "param_set = {\n",
    " 'learning_rate':[0.2, 0.3, 0.4, 0.5]\n",
    "}    \n",
    "    \n",
    "gsearch = GridSearchCV(estimator = LGBMClassifier(boosting_type='gbdt', num_leaves=30, \n",
    " max_depth=5, learning_rate=0.1, n_estimators=100, max_bin=50,\n",
    " subsample_for_bin=5000, min_split_gain=0, min_child_weight=3, \n",
    " min_child_samples=10, subsample=1, subsample_freq=1, colsample_bytree=0.6, \n",
    " reg_alpha=1, reg_lambda=0, seed=410, nthread=7), \n",
    " param_grid = param_set, scoring='roc_auc',n_jobs=1,iid=False, cv=10)\n",
    "\n",
    "lgb_model5 = gsearch.fit(features_train, label_train)\n",
    "lgb_model5.grid_scores_, lgb_model5.best_params_, lgb_model5.best_score_"
   ]
  },
  {
   "cell_type": "code",
   "execution_count": 28,
   "metadata": {},
   "outputs": [
    {
     "name": "stdout",
     "output_type": "stream",
     "text": [
      "\n",
      "Model Report\n",
      "Accuracy : 0.8854\n",
      "AUC Score (Train): 0.943116\n",
      "0:00:00.843361\n",
      "[1 0 0 ..., 0 1 0]\n"
     ]
    },
    {
     "data": {
      "image/png": "[encoded data removed]",
      "text/plain": [
       "<matplotlib.figure.Figure at 0x10e3f4eb8>"
      ]
     },
     "metadata": {},
     "output_type": "display_data"
    }
   ],
   "source": [
    "start=datetime.now()\n",
    "\n",
    "lgb5 = LGBMClassifier(\n",
    " boosting_type='gbdt', \n",
    " num_leaves=30, \n",
    " max_depth=5, \n",
    " learning_rate=0.2, \n",
    " n_estimators=100, \n",
    " max_bin=50,\n",
    " subsample_for_bin=5000,\n",
    " min_split_gain=0, \n",
    " min_child_weight=3, \n",
    " min_child_samples=10, \n",
    " subsample=1, subsample_freq=1, colsample_bytree=0.6, \n",
    " reg_alpha=1, reg_lambda=0, seed=410, nthread=7\n",
    ")\n",
    "\n",
    "lgb_model5 = lgb_model_fit(lgb5, features_train, label_train)\n",
    "\n",
    "stop=datetime.now()\n",
    "execution_time_lgbm = stop-start\n",
    "print(execution_time_lgbm)        # 0:00:00.843361\n",
    "\n",
    "ypred = lgb_model5.predict(features_test) \n",
    "print(ypred)"
   ]
  },
  {
   "cell_type": "code",
   "execution_count": 29,
   "metadata": {},
   "outputs": [
    {
     "name": "stdout",
     "output_type": "stream",
     "text": [
      "accuracy:  0.87143003378\n",
      "AUC:  0.79456701684\n",
      "Precision:  0.941999730857\n",
      "Specificity:  0.77829218107\n",
      "Recall:  0.894568690096\n"
     ]
    }
   ],
   "source": [
    "ypred5=lgb_model5.predict(features_test)\n",
    "\n",
    "cm = confusion_matrix(label_test, ypred5)\n",
    "TP = cm[0][0]\n",
    "FP = cm[0][1]\n",
    "FN = cm[1][0]\n",
    "TN = cm[1][1]\n",
    "\n",
    "accuracy_lgb = (TP + TN)/(TP+FP+FN+TN)   \n",
    "auc_score_lgb = roc_auc_score(label_test, ypred)   \n",
    "precision_lgb = TP/(TP+FP)   \n",
    "specificity_lgb = TN/(TN+FP)  \n",
    "recall_lgb = TP/(TP+FN)   \n",
    "print(\"accuracy: \", accuracy_lgb)\n",
    "print(\"AUC: \", auc_score_lgb)\n",
    "print(\"Precision: \", precision_lgb)\n",
    "print(\"Specificity: \", specificity_lgb)\n",
    "print(\"Recall: \", recall_lgb)"
   ]
  },
  {
   "cell_type": "code",
   "execution_count": 30,
   "metadata": {},
   "outputs": [
    {
     "name": "stdout",
     "output_type": "stream",
     "text": [
      "\n",
      "Model Report\n",
      "Accuracy : 0.8874\n",
      "AUC Score (Train): 0.943892\n",
      "0:00:00.764053\n",
      "[1 0 0 ..., 0 1 0]\n"
     ]
    },
    {
     "data": {
      "image/png": "[encoded data removed]",
      "text/plain": [
       "<matplotlib.figure.Figure at 0x10fe14198>"
      ]
     },
     "metadata": {},
     "output_type": "display_data"
    }
   ],
   "source": [
    "# try L2 regularization\n",
    "\n",
    "start=datetime.now()\n",
    "\n",
    "lgb6 = LGBMClassifier(\n",
    " boosting_type='gbdt', \n",
    " num_leaves=30, \n",
    " max_depth=5, \n",
    " learning_rate=0.2, \n",
    " n_estimators=100, \n",
    " max_bin=50,\n",
    " subsample_for_bin=5000,\n",
    " min_split_gain=0, \n",
    " min_child_weight=3, \n",
    " min_child_samples=10, \n",
    " subsample=1, subsample_freq=1, colsample_bytree=0.6, \n",
    " reg_alpha=0, reg_lambda=1, seed=410, nthread=7\n",
    ")\n",
    "\n",
    "lgb_model6 = lgb_model_fit(lgb6, features_train, label_train)\n",
    "\n",
    "stop=datetime.now()\n",
    "execution_time_lgbm = stop-start\n",
    "print(execution_time_lgbm)        # 0:00:00.764053\n",
    "\n",
    "ypred = lgb_model6.predict(features_test) \n",
    "print(ypred)"
   ]
  },
  {
   "cell_type": "code",
   "execution_count": 31,
   "metadata": {},
   "outputs": [
    {
     "name": "stdout",
     "output_type": "stream",
     "text": [
      "accuracy:  0.87143003378\n",
      "AUC:  0.79412729993\n",
      "Precision:  0.942403445028\n",
      "Specificity:  0.77915376677\n",
      "Recall:  0.894266377219\n"
     ]
    }
   ],
   "source": [
    "ypred6=lgb_model6.predict(features_test)\n",
    "\n",
    "cm = confusion_matrix(label_test, ypred6)\n",
    "TP = cm[0][0]\n",
    "FP = cm[0][1]\n",
    "FN = cm[1][0]\n",
    "TN = cm[1][1]\n",
    "\n",
    "accuracy_lgb = (TP + TN)/(TP+FP+FN+TN)   \n",
    "auc_score_lgb = roc_auc_score(label_test, ypred)   \n",
    "precision_lgb = TP/(TP+FP)   \n",
    "specificity_lgb = TN/(TN+FP)  \n",
    "recall_lgb = TP/(TP+FN)   \n",
    "print(\"accuracy: \", accuracy_lgb)\n",
    "print(\"AUC: \", auc_score_lgb)\n",
    "print(\"Precision: \", precision_lgb)\n",
    "print(\"Specificity: \", specificity_lgb)\n",
    "print(\"Recall: \", recall_lgb)\n",
    "\n",
    "# L1 works better in this case"
   ]
  }
 ],
 "metadata": {
  "kernelspec": {
   "display_name": "Python 3",
   "language": "python",
   "name": "python3"
  },
  "language_info": {
   "codemirror_mode": {
    "name": "ipython",
    "version": 3
   },
   "file_extension": ".py",
   "mimetype": "text/x-python",
   "name": "python",
   "nbconvert_exporter": "python",
   "pygments_lexer": "ipython3",
   "version": "3.6.1"
  }
 },
 "nbformat": 4,
 "nbformat_minor": 2
}
