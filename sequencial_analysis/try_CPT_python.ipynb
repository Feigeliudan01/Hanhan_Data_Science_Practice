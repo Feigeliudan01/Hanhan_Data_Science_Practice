{
 "cells": [
  {
   "cell_type": "markdown",
   "metadata": {},
   "source": [
    "## Python CPT\n",
    "\n",
    "* Find the open source code here: https://github.com/NeerajSarwan/CPT\n",
    "* To install\n",
    "  * Type in terminal at the folder you want to save this library: `git clone https://github.com/NeerajSarwan/CPT.git`\n",
    "  * Then type `cd CPT`\n",
    "  * Now you can write python code as following"
   ]
  },
  {
   "cell_type": "code",
   "execution_count": 2,
   "metadata": {
    "collapsed": true
   },
   "outputs": [],
   "source": [
    "from CPT import *\n",
    "import pandas as pd"
   ]
  },
  {
   "cell_type": "code",
   "execution_count": 5,
   "metadata": {},
   "outputs": [
    {
     "data": {
      "text/html": [
       "<div>\n",
       "<style>\n",
       "    .dataframe thead tr:only-child th {\n",
       "        text-align: right;\n",
       "    }\n",
       "\n",
       "    .dataframe thead th {\n",
       "        text-align: left;\n",
       "    }\n",
       "\n",
       "    .dataframe tbody tr th {\n",
       "        vertical-align: top;\n",
       "    }\n",
       "</style>\n",
       "<table border=\"1\" class=\"dataframe\">\n",
       "  <thead>\n",
       "    <tr style=\"text-align: right;\">\n",
       "      <th></th>\n",
       "      <th>1</th>\n",
       "      <th>2</th>\n",
       "      <th>3</th>\n",
       "      <th>4</th>\n",
       "      <th>5</th>\n",
       "      <th>6</th>\n",
       "      <th>7</th>\n",
       "      <th>9</th>\n",
       "    </tr>\n",
       "  </thead>\n",
       "  <tbody>\n",
       "    <tr>\n",
       "      <th>'A'</th>\n",
       "      <td>'B'</td>\n",
       "      <td>'C'</td>\n",
       "      <td>'D'</td>\n",
       "      <td>'E'</td>\n",
       "      <td>'F'</td>\n",
       "      <td>'G'</td>\n",
       "      <td>'H'</td>\n",
       "      <td>'I'</td>\n",
       "    </tr>\n",
       "    <tr>\n",
       "      <th>'A'</th>\n",
       "      <td>'B'</td>\n",
       "      <td>'C'</td>\n",
       "      <td>'D'</td>\n",
       "      <td>'E'</td>\n",
       "      <td>'F'</td>\n",
       "      <td>'X'</td>\n",
       "      <td>'Y'</td>\n",
       "      <td>'Z'</td>\n",
       "    </tr>\n",
       "    <tr>\n",
       "      <th>'A'</th>\n",
       "      <td>'B'</td>\n",
       "      <td>'C'</td>\n",
       "      <td>'D'</td>\n",
       "      <td>'E'</td>\n",
       "      <td>'F'</td>\n",
       "      <td>'M'</td>\n",
       "      <td>'N'</td>\n",
       "      <td>'O'</td>\n",
       "    </tr>\n",
       "    <tr>\n",
       "      <th>'A'</th>\n",
       "      <td>'B'</td>\n",
       "      <td>'C'</td>\n",
       "      <td>'D'</td>\n",
       "      <td>'E'</td>\n",
       "      <td>'F'</td>\n",
       "      <td>'G'</td>\n",
       "      <td>'H'</td>\n",
       "      <td>'Y'</td>\n",
       "    </tr>\n",
       "    <tr>\n",
       "      <th>'A'</th>\n",
       "      <td>'B'</td>\n",
       "      <td>'C'</td>\n",
       "      <td>'D'</td>\n",
       "      <td>'E'</td>\n",
       "      <td>'F'</td>\n",
       "      <td>'G'</td>\n",
       "      <td>'H'</td>\n",
       "      <td>'X'</td>\n",
       "    </tr>\n",
       "    <tr>\n",
       "      <th>'E'</th>\n",
       "      <td>'F'</td>\n",
       "      <td>'S'</td>\n",
       "      <td>'M'</td>\n",
       "      <td>'I'</td>\n",
       "      <td>'L'</td>\n",
       "      <td>'I'</td>\n",
       "      <td>'N'</td>\n",
       "      <td>'G'</td>\n",
       "    </tr>\n",
       "    <tr>\n",
       "      <th>'S'</th>\n",
       "      <td>'M'</td>\n",
       "      <td>'I'</td>\n",
       "      <td>'L'</td>\n",
       "      <td>'I'</td>\n",
       "      <td>'N'</td>\n",
       "      <td>'G'</td>\n",
       "      <td>'E'</td>\n",
       "      <td>'F'</td>\n",
       "    </tr>\n",
       "    <tr>\n",
       "      <th>'S'</th>\n",
       "      <td>'M'</td>\n",
       "      <td>'I'</td>\n",
       "      <td>'L'</td>\n",
       "      <td>'E'</td>\n",
       "      <td>'B'</td>\n",
       "      <td>'A'</td>\n",
       "      <td>'T'</td>\n",
       "      <td>'F'</td>\n",
       "    </tr>\n",
       "  </tbody>\n",
       "</table>\n",
       "</div>"
      ],
      "text/plain": [
       "       1    2    3    4    5    6    7    9\n",
       "'A'  'B'  'C'  'D'  'E'  'F'  'G'  'H'  'I'\n",
       "'A'  'B'  'C'  'D'  'E'  'F'  'X'  'Y'  'Z'\n",
       "'A'  'B'  'C'  'D'  'E'  'F'  'M'  'N'  'O'\n",
       "'A'  'B'  'C'  'D'  'E'  'F'  'G'  'H'  'Y'\n",
       "'A'  'B'  'C'  'D'  'E'  'F'  'G'  'H'  'X'\n",
       "'E'  'F'  'S'  'M'  'I'  'L'  'I'  'N'  'G'\n",
       "'S'  'M'  'I'  'L'  'I'  'N'  'G'  'E'  'F'\n",
       "'S'  'M'  'I'  'L'  'E'  'B'  'A'  'T'  'F'"
      ]
     },
     "execution_count": 5,
     "metadata": {},
     "output_type": "execute_result"
    }
   ],
   "source": [
    "train_df = pd.read_csv(\"train.csv\")\n",
    "train_df"
   ]
  },
  {
   "cell_type": "code",
   "execution_count": 6,
   "metadata": {},
   "outputs": [
    {
     "data": {
      "text/html": [
       "<div>\n",
       "<style>\n",
       "    .dataframe thead tr:only-child th {\n",
       "        text-align: right;\n",
       "    }\n",
       "\n",
       "    .dataframe thead th {\n",
       "        text-align: left;\n",
       "    }\n",
       "\n",
       "    .dataframe tbody tr th {\n",
       "        vertical-align: top;\n",
       "    }\n",
       "</style>\n",
       "<table border=\"1\" class=\"dataframe\">\n",
       "  <thead>\n",
       "    <tr style=\"text-align: right;\">\n",
       "      <th></th>\n",
       "      <th>1</th>\n",
       "      <th>2</th>\n",
       "      <th>3</th>\n",
       "    </tr>\n",
       "  </thead>\n",
       "  <tbody>\n",
       "    <tr>\n",
       "      <th>0</th>\n",
       "      <td>'A'</td>\n",
       "      <td>'B'</td>\n",
       "      <td>'C'</td>\n",
       "    </tr>\n",
       "    <tr>\n",
       "      <th>1</th>\n",
       "      <td>'S'</td>\n",
       "      <td>'M'</td>\n",
       "      <td>'I'</td>\n",
       "    </tr>\n",
       "    <tr>\n",
       "      <th>2</th>\n",
       "      <td>'X'</td>\n",
       "      <td>'A'</td>\n",
       "      <td>'Z'</td>\n",
       "    </tr>\n",
       "  </tbody>\n",
       "</table>\n",
       "</div>"
      ],
      "text/plain": [
       "     1    2    3\n",
       "0  'A'  'B'  'C'\n",
       "1  'S'  'M'  'I'\n",
       "2  'X'  'A'  'Z'"
      ]
     },
     "execution_count": 6,
     "metadata": {},
     "output_type": "execute_result"
    }
   ],
   "source": [
    "test_df = pd.read_csv(\"test.csv\")\n",
    "test_df"
   ]
  },
  {
   "cell_type": "code",
   "execution_count": 7,
   "metadata": {},
   "outputs": [
    {
     "data": {
      "text/plain": [
       "True"
      ]
     },
     "execution_count": 7,
     "metadata": {},
     "output_type": "execute_result"
    }
   ],
   "source": [
    "model = CPT()\n",
    "train, test = model.load_files(\"train.csv\", \"test.csv\")\n",
    "model.train(train)"
   ]
  },
  {
   "cell_type": "code",
   "execution_count": 8,
   "metadata": {},
   "outputs": [
    {
     "name": "stderr",
     "output_type": "stream",
     "text": [
      "100%|██████████| 3/3 [00:00<00:00, 2702.52it/s]\n"
     ]
    }
   ],
   "source": [
    "predictions = model.predict(train,test,2,1)"
   ]
  },
  {
   "cell_type": "code",
   "execution_count": 9,
   "metadata": {},
   "outputs": [
    {
     "data": {
      "text/plain": [
       "[[\"'D'\"], [\"'N'\"], []]"
      ]
     },
     "execution_count": 9,
     "metadata": {},
     "output_type": "execute_result"
    }
   ],
   "source": [
    "predictions"
   ]
  }
 ],
 "metadata": {
  "kernelspec": {
   "display_name": "Python 2",
   "language": "python",
   "name": "python2"
  },
  "language_info": {
   "codemirror_mode": {
    "name": "ipython",
    "version": 2
   },
   "file_extension": ".py",
   "mimetype": "text/x-python",
   "name": "python",
   "nbconvert_exporter": "python",
   "pygments_lexer": "ipython2",
   "version": "2.7.13"
  }
 },
 "nbformat": 4,
 "nbformat_minor": 2
}
