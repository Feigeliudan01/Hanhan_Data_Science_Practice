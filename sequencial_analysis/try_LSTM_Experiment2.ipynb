{
 "cells": [
  {
   "cell_type": "code",
   "execution_count": 2,
   "metadata": {},
   "outputs": [],
   "source": [
    "import numpy as np\n",
    "import matplotlib.pyplot as plt\n",
    "import pandas as pd\n",
    "import math\n",
    "from keras.models import Sequential\n",
    "from keras.layers import Dense\n",
    "from keras.layers import LSTM\n",
    "from sklearn.preprocessing import MinMaxScaler\n",
    "from sklearn.metrics import mean_squared_error\n",
    "\n",
    "# download the dataset here: \n",
    "## https://datamarket.com/data/set/22u3/international-airline-passengers-monthly-totals-in-thousands-jan-49-dec-60#!ds=22u3&display=line "
   ]
  },
  {
   "cell_type": "code",
   "execution_count": 3,
   "metadata": {
    "collapsed": true
   },
   "outputs": [],
   "source": [
    "np.random.seed(410)"
   ]
  },
  {
   "cell_type": "code",
   "execution_count": 4,
   "metadata": {},
   "outputs": [
    {
     "data": {
      "image/png": "[encoded data removed]",
      "text/plain": [
       "<matplotlib.figure.Figure at 0x1081cd9d0>"
      ]
     },
     "metadata": {},
     "output_type": "display_data"
    }
   ],
   "source": [
    "series = pd.read_csv('international-airline-passengers.csv', header=0, parse_dates=[0], index_col=0, squeeze=True)\n",
    "plt.plot(series)\n",
    "plt.show()"
   ]
  },
  {
   "cell_type": "code",
   "execution_count": 5,
   "metadata": {},
   "outputs": [
    {
     "data": {
      "text/plain": [
       "Month\n",
       "1949-01-01    112\n",
       "1949-02-01    118\n",
       "1949-03-01    132\n",
       "1949-04-01    129\n",
       "1949-05-01    121\n",
       "Name: International airline passengers: monthly totals in thousands. Jan 49 ? Dec 60, dtype: int64"
      ]
     },
     "execution_count": 5,
     "metadata": {},
     "output_type": "execute_result"
    }
   ],
   "source": [
    "series.head()"
   ]
  },
  {
   "cell_type": "code",
   "execution_count": 9,
   "metadata": {},
   "outputs": [
    {
     "data": {
      "text/plain": [
       "array([[ 0.03281853],\n",
       "       [ 0.05984557],\n",
       "       [ 0.08494207],\n",
       "       [ 0.08494207],\n",
       "       [ 0.06177607],\n",
       "       [ 0.02895753]], dtype=float32)"
      ]
     },
     "execution_count": 9,
     "metadata": {},
     "output_type": "execute_result"
    }
   ],
   "source": [
    "origin_values = series.values.astype('float32')\n",
    "\n",
    "# normalize the values\n",
    "scaler = MinMaxScaler(feature_range=(0,1))\n",
    "origin_values = scaler.fit_transform(origin_values.reshape(-1,1))   # reshape(-1,1) here is important\n",
    "origin_values[4:10]"
   ]
  },
  {
   "cell_type": "code",
   "execution_count": 10,
   "metadata": {},
   "outputs": [
    {
     "name": "stdout",
     "output_type": "stream",
     "text": [
      "96 48\n",
      "[[ 0.03281853]\n",
      " [ 0.05984557]\n",
      " [ 0.08494207]\n",
      " [ 0.08494207]\n",
      " [ 0.06177607]\n",
      " [ 0.02895753]]\n"
     ]
    }
   ],
   "source": [
    "train_size = int(len(origin_values)*0.67)\n",
    "train, test = origin_values[0:train_size,:], origin_values[train_size:len(origin_values),:]\n",
    "print len(train), len(test)\n",
    "print train[4:10]"
   ]
  },
  {
   "cell_type": "code",
   "execution_count": 22,
   "metadata": {
    "collapsed": true
   },
   "outputs": [],
   "source": [
    "# dataX indicates time t, while dataY indicates time t+1\n",
    "def shift_time(dataset, time_step):\n",
    "    dataX = []\n",
    "    dataY = []\n",
    "    for i in range(len(dataset)-time_step):\n",
    "        dataX.append(dataset[i:(i+time_step),0])\n",
    "        dataY.append(dataset[i+time_step:(i+time_step*2),0])\n",
    "    return np.array(dataX), np.array(dataY)"
   ]
  },
  {
   "cell_type": "code",
   "execution_count": 25,
   "metadata": {},
   "outputs": [
    {
     "name": "stdout",
     "output_type": "stream",
     "text": [
      "[[ 0.03281853]\n",
      " [ 0.05984557]\n",
      " [ 0.08494207]\n",
      " [ 0.08494207]\n",
      " [ 0.06177607]\n",
      " [ 0.02895753]]\n",
      "[[ 0.05984557]\n",
      " [ 0.08494207]\n",
      " [ 0.08494207]\n",
      " [ 0.06177607]\n",
      " [ 0.02895753]\n",
      " [ 0.        ]]\n",
      "(95, 1)\n"
     ]
    }
   ],
   "source": [
    "time_step = 1\n",
    "trainX, trainY = shift_time(train, time_step)\n",
    "testX, testY = shift_time(test, time_step)\n",
    "\n",
    "print trainX[4:10]\n",
    "print trainY[4:10]\n",
    "print trainX.shape"
   ]
  },
  {
   "cell_type": "code",
   "execution_count": 26,
   "metadata": {
    "collapsed": true
   },
   "outputs": [],
   "source": [
    "# reshape data into [samples, time_step, dimension], so that LSTM can read\n",
    "## In this case, X, Y should be the same dimension, since Y is the sequence you want to predict from X\n",
    "\n",
    "trainX = np.reshape(trainX, (trainX.shape[0], time_step, trainX.shape[1]))\n",
    "testX = np.reshape(testX, (testX.shape[0], time_step, testX.shape[1]))"
   ]
  },
  {
   "cell_type": "code",
   "execution_count": 28,
   "metadata": {},
   "outputs": [
    {
     "name": "stdout",
     "output_type": "stream",
     "text": [
      "[[[ 0.03281853]]\n",
      "\n",
      " [[ 0.05984557]]\n",
      "\n",
      " [[ 0.08494207]]\n",
      "\n",
      " [[ 0.08494207]]\n",
      "\n",
      " [[ 0.06177607]]\n",
      "\n",
      " [[ 0.02895753]]]\n",
      "[[[ 0.48455599]]\n",
      "\n",
      " [[ 0.61389959]]\n",
      "\n",
      " [[ 0.69691122]]\n",
      "\n",
      " [[ 0.70077217]]\n",
      "\n",
      " [[ 0.57915056]]\n",
      "\n",
      " [[ 0.46911195]]]\n"
     ]
    }
   ],
   "source": [
    "print trainX[4:10]\n",
    "print testX[4:10]"
   ]
  },
  {
   "cell_type": "code",
   "execution_count": 31,
   "metadata": {},
   "outputs": [
    {
     "data": {
      "text/plain": [
       "(1, 1)"
      ]
     },
     "execution_count": 31,
     "metadata": {},
     "output_type": "execute_result"
    }
   ],
   "source": [
    "trainX.shape[1:]"
   ]
  },
  {
   "cell_type": "code",
   "execution_count": 32,
   "metadata": {},
   "outputs": [
    {
     "name": "stdout",
     "output_type": "stream",
     "text": [
      "Train on 95 samples, validate on 47 samples\n",
      "Epoch 1/100\n",
      "1s - loss: 0.0328 - val_loss: 0.1836\n",
      "Epoch 2/100\n",
      "0s - loss: 0.0150 - val_loss: 0.1219\n",
      "Epoch 3/100\n",
      "0s - loss: 0.0123 - val_loss: 0.1048\n",
      "Epoch 4/100\n",
      "0s - loss: 0.0115 - val_loss: 0.0894\n",
      "Epoch 5/100\n",
      "0s - loss: 0.0107 - val_loss: 0.0869\n",
      "Epoch 6/100\n",
      "0s - loss: 0.0100 - val_loss: 0.0771\n",
      "Epoch 7/100\n",
      "0s - loss: 0.0091 - val_loss: 0.0699\n",
      "Epoch 8/100\n",
      "0s - loss: 0.0083 - val_loss: 0.0627\n",
      "Epoch 9/100\n",
      "0s - loss: 0.0074 - val_loss: 0.0569\n",
      "Epoch 10/100\n",
      "0s - loss: 0.0066 - val_loss: 0.0438\n",
      "Epoch 11/100\n",
      "0s - loss: 0.0059 - val_loss: 0.0374\n",
      "Epoch 12/100\n",
      "0s - loss: 0.0051 - val_loss: 0.0308\n",
      "Epoch 13/100\n",
      "0s - loss: 0.0045 - val_loss: 0.0297\n",
      "Epoch 14/100\n",
      "0s - loss: 0.0039 - val_loss: 0.0224\n",
      "Epoch 15/100\n",
      "0s - loss: 0.0035 - val_loss: 0.0197\n",
      "Epoch 16/100\n",
      "0s - loss: 0.0031 - val_loss: 0.0159\n",
      "Epoch 17/100\n",
      "0s - loss: 0.0028 - val_loss: 0.0137\n",
      "Epoch 18/100\n",
      "0s - loss: 0.0025 - val_loss: 0.0120\n",
      "Epoch 19/100\n",
      "0s - loss: 0.0024 - val_loss: 0.0116\n",
      "Epoch 20/100\n",
      "0s - loss: 0.0022 - val_loss: 0.0092\n",
      "Epoch 21/100\n",
      "0s - loss: 0.0022 - val_loss: 0.0090\n",
      "Epoch 22/100\n",
      "0s - loss: 0.0022 - val_loss: 0.0088\n",
      "Epoch 23/100\n",
      "0s - loss: 0.0021 - val_loss: 0.0089\n",
      "Epoch 24/100\n",
      "0s - loss: 0.0021 - val_loss: 0.0087\n",
      "Epoch 25/100\n",
      "0s - loss: 0.0021 - val_loss: 0.0089\n",
      "Epoch 26/100\n",
      "0s - loss: 0.0021 - val_loss: 0.0087\n",
      "Epoch 27/100\n",
      "0s - loss: 0.0021 - val_loss: 0.0088\n",
      "Epoch 28/100\n",
      "0s - loss: 0.0021 - val_loss: 0.0087\n",
      "Epoch 29/100\n",
      "0s - loss: 0.0021 - val_loss: 0.0089\n",
      "Epoch 30/100\n",
      "0s - loss: 0.0021 - val_loss: 0.0086\n",
      "Epoch 31/100\n",
      "1s - loss: 0.0021 - val_loss: 0.0087\n",
      "Epoch 32/100\n",
      "0s - loss: 0.0021 - val_loss: 0.0088\n",
      "Epoch 33/100\n",
      "0s - loss: 0.0021 - val_loss: 0.0087\n",
      "Epoch 34/100\n",
      "0s - loss: 0.0021 - val_loss: 0.0085\n",
      "Epoch 35/100\n",
      "0s - loss: 0.0021 - val_loss: 0.0087\n",
      "Epoch 36/100\n",
      "0s - loss: 0.0021 - val_loss: 0.0086\n",
      "Epoch 37/100\n",
      "0s - loss: 0.0021 - val_loss: 0.0085\n",
      "Epoch 38/100\n",
      "0s - loss: 0.0021 - val_loss: 0.0085\n",
      "Epoch 39/100\n",
      "0s - loss: 0.0022 - val_loss: 0.0086\n",
      "Epoch 40/100\n",
      "0s - loss: 0.0021 - val_loss: 0.0088\n",
      "Epoch 41/100\n",
      "0s - loss: 0.0021 - val_loss: 0.0086\n",
      "Epoch 42/100\n",
      "0s - loss: 0.0021 - val_loss: 0.0086\n",
      "Epoch 43/100\n",
      "0s - loss: 0.0020 - val_loss: 0.0085\n",
      "Epoch 44/100\n",
      "0s - loss: 0.0021 - val_loss: 0.0087\n",
      "Epoch 45/100\n",
      "0s - loss: 0.0021 - val_loss: 0.0085\n",
      "Epoch 46/100\n",
      "0s - loss: 0.0021 - val_loss: 0.0084\n",
      "Epoch 47/100\n",
      "0s - loss: 0.0021 - val_loss: 0.0090\n",
      "Epoch 48/100\n",
      "0s - loss: 0.0021 - val_loss: 0.0088\n",
      "Epoch 49/100\n",
      "0s - loss: 0.0020 - val_loss: 0.0086\n",
      "Epoch 50/100\n",
      "0s - loss: 0.0021 - val_loss: 0.0084\n",
      "Epoch 51/100\n",
      "0s - loss: 0.0021 - val_loss: 0.0097\n",
      "Epoch 52/100\n",
      "0s - loss: 0.0021 - val_loss: 0.0086\n",
      "Epoch 53/100\n",
      "0s - loss: 0.0021 - val_loss: 0.0086\n",
      "Epoch 54/100\n",
      "0s - loss: 0.0021 - val_loss: 0.0086\n",
      "Epoch 55/100\n",
      "0s - loss: 0.0021 - val_loss: 0.0086\n",
      "Epoch 56/100\n",
      "0s - loss: 0.0021 - val_loss: 0.0084\n",
      "Epoch 57/100\n",
      "0s - loss: 0.0021 - val_loss: 0.0083\n",
      "Epoch 58/100\n",
      "0s - loss: 0.0022 - val_loss: 0.0087\n",
      "Epoch 59/100\n",
      "0s - loss: 0.0021 - val_loss: 0.0086\n",
      "Epoch 60/100\n",
      "0s - loss: 0.0020 - val_loss: 0.0083\n",
      "Epoch 61/100\n",
      "0s - loss: 0.0021 - val_loss: 0.0085\n",
      "Epoch 62/100\n",
      "0s - loss: 0.0020 - val_loss: 0.0086\n",
      "Epoch 63/100\n",
      "0s - loss: 0.0020 - val_loss: 0.0091\n",
      "Epoch 64/100\n",
      "0s - loss: 0.0020 - val_loss: 0.0088\n",
      "Epoch 65/100\n",
      "0s - loss: 0.0021 - val_loss: 0.0087\n",
      "Epoch 66/100\n",
      "0s - loss: 0.0021 - val_loss: 0.0083\n",
      "Epoch 67/100\n",
      "0s - loss: 0.0021 - val_loss: 0.0085\n",
      "Epoch 68/100\n",
      "0s - loss: 0.0021 - val_loss: 0.0090\n",
      "Epoch 69/100\n",
      "0s - loss: 0.0021 - val_loss: 0.0089\n",
      "Epoch 70/100\n",
      "0s - loss: 0.0021 - val_loss: 0.0091\n",
      "Epoch 71/100\n",
      "0s - loss: 0.0021 - val_loss: 0.0086\n",
      "Epoch 72/100\n",
      "0s - loss: 0.0020 - val_loss: 0.0091\n",
      "Epoch 73/100\n",
      "0s - loss: 0.0021 - val_loss: 0.0088\n",
      "Epoch 74/100\n",
      "0s - loss: 0.0021 - val_loss: 0.0082\n",
      "Epoch 75/100\n",
      "0s - loss: 0.0020 - val_loss: 0.0090\n",
      "Epoch 76/100\n",
      "0s - loss: 0.0020 - val_loss: 0.0082\n",
      "Epoch 77/100\n",
      "0s - loss: 0.0020 - val_loss: 0.0087\n",
      "Epoch 78/100\n",
      "0s - loss: 0.0020 - val_loss: 0.0091\n",
      "Epoch 79/100\n",
      "0s - loss: 0.0021 - val_loss: 0.0090\n",
      "Epoch 80/100\n",
      "0s - loss: 0.0021 - val_loss: 0.0087\n",
      "Epoch 81/100\n",
      "0s - loss: 0.0021 - val_loss: 0.0087\n",
      "Epoch 82/100\n",
      "0s - loss: 0.0021 - val_loss: 0.0090\n",
      "Epoch 83/100\n",
      "0s - loss: 0.0021 - val_loss: 0.0085\n",
      "Epoch 84/100\n",
      "0s - loss: 0.0021 - val_loss: 0.0085\n",
      "Epoch 85/100\n",
      "0s - loss: 0.0020 - val_loss: 0.0082\n",
      "Epoch 86/100\n",
      "0s - loss: 0.0021 - val_loss: 0.0089\n",
      "Epoch 87/100\n",
      "0s - loss: 0.0020 - val_loss: 0.0083\n",
      "Epoch 88/100\n",
      "0s - loss: 0.0020 - val_loss: 0.0086\n",
      "Epoch 89/100\n",
      "0s - loss: 0.0021 - val_loss: 0.0091\n",
      "Epoch 90/100\n",
      "0s - loss: 0.0021 - val_loss: 0.0085\n",
      "Epoch 91/100\n",
      "0s - loss: 0.0021 - val_loss: 0.0088\n",
      "Epoch 92/100\n",
      "0s - loss: 0.0020 - val_loss: 0.0086\n",
      "Epoch 93/100\n",
      "0s - loss: 0.0020 - val_loss: 0.0082\n",
      "Epoch 94/100\n",
      "0s - loss: 0.0021 - val_loss: 0.0085\n",
      "Epoch 95/100\n",
      "0s - loss: 0.0022 - val_loss: 0.0091\n",
      "Epoch 96/100\n",
      "0s - loss: 0.0021 - val_loss: 0.0088\n",
      "Epoch 97/100\n",
      "0s - loss: 0.0021 - val_loss: 0.0090\n",
      "Epoch 98/100\n",
      "0s - loss: 0.0021 - val_loss: 0.0082\n",
      "Epoch 99/100\n",
      "0s - loss: 0.0021 - val_loss: 0.0083\n",
      "Epoch 100/100\n",
      "0s - loss: 0.0020 - val_loss: 0.0092\n"
     ]
    },
    {
     "data": {
      "text/plain": [
       "<keras.callbacks.History at 0x121d911d0>"
      ]
     },
     "execution_count": 32,
     "metadata": {},
     "output_type": "execute_result"
    }
   ],
   "source": [
    "# LSTM model\n",
    "\n",
    "model = Sequential()\n",
    "model.add(LSTM(4, input_shape=trainX.shape[1:]))  # LSTM just want (time_stem, dimension) as input_shape\n",
    "model.add(Dense(1))  # single output\n",
    "model.compile(loss='mean_squared_error', optimizer='adam')\n",
    "model.fit(trainX, trainY, epochs=100, batch_size=1, verbose=2,\n",
    "         validation_data=(testX, testY))"
   ]
  },
  {
   "cell_type": "code",
   "execution_count": 34,
   "metadata": {},
   "outputs": [
    {
     "name": "stdout",
     "output_type": "stream",
     "text": [
      "Train RMSE: 0.0448689\n",
      "Test RMSE: 0.0961093\n"
     ]
    }
   ],
   "source": [
    "# make prediction\n",
    "\n",
    "train_predict = model.predict(trainX)\n",
    "test_predict = model.predict(testX)\n",
    "\n",
    "train_RMSE = math.sqrt(mean_squared_error(trainY[:,0], train_predict[:,0]))\n",
    "print 'Train RMSE: %.7f' % (train_RMSE)\n",
    "test_RMSE = math.sqrt(mean_squared_error(testY[:,0], test_predict[:,0]))\n",
    "print 'Test RMSE: %.7f' % (test_RMSE)"
   ]
  },
  {
   "cell_type": "code",
   "execution_count": 38,
   "metadata": {},
   "outputs": [
    {
     "name": "stdout",
     "output_type": "stream",
     "text": [
      "[[ 0.04352542]\n",
      " [ 0.06731319]\n",
      " [ 0.08974937]\n",
      " [ 0.08974937]\n",
      " [ 0.06902762]\n",
      " [ 0.04016114]]\n",
      "(144, 1)\n",
      "(95, 1)\n",
      "(47, 1)\n"
     ]
    }
   ],
   "source": [
    "print train_predict[4:10]\n",
    "print origin_values.shape\n",
    "print train_predict.shape\n",
    "print test_predict.shape"
   ]
  },
  {
   "cell_type": "code",
   "execution_count": 47,
   "metadata": {},
   "outputs": [
    {
     "data": {
      "image/png": "[encoded data removed]",
      "text/plain": [
       "<matplotlib.figure.Figure at 0x122ddded0>"
      ]
     },
     "metadata": {},
     "output_type": "display_data"
    }
   ],
   "source": [
    "# plot the prediction\n",
    "\n",
    "train_predict_plot = np.empty_like(origin_values)\n",
    "train_predict_plot[:, :] = np.nan\n",
    "train_predict_plot[0:len(train_predict), :] = train_predict\n",
    "\n",
    "test_predict_plot = np.empty_like(origin_values)\n",
    "test_predict_plot[:, :] = np.nan\n",
    "test_predict_plot[len(train_predict)+time_step:len(origin_values)-1, :] = test_predict\n",
    "\n",
    "plt.plot(origin_values)\n",
    "plt.plot(train_predict_plot)\n",
    "plt.plot(test_predict_plot)\n",
    "plt.show()"
   ]
  },
  {
   "cell_type": "code",
   "execution_count": 46,
   "metadata": {},
   "outputs": [
    {
     "data": {
      "text/plain": [
       "array([[ 0.01544401],\n",
       "       [ 0.02702703],\n",
       "       [ 0.05405405],\n",
       "       [ 0.04826255],\n",
       "       [ 0.03281853],\n",
       "       [ 0.05984557],\n",
       "       [ 0.08494207],\n",
       "       [ 0.08494207],\n",
       "       [ 0.06177607],\n",
       "       [ 0.02895753],\n",
       "       [ 0.        ],\n",
       "       [ 0.02702703],\n",
       "       [ 0.02123553],\n",
       "       [ 0.04247104],\n",
       "       [ 0.07142857],\n",
       "       [ 0.05984557],\n",
       "       [ 0.04054055],\n",
       "       [ 0.08687258],\n",
       "       [ 0.12741312],\n",
       "       [ 0.12741312],\n",
       "       [ 0.10424709],\n",
       "       [ 0.05598456],\n",
       "       [ 0.01930502],\n",
       "       [ 0.06949806],\n",
       "       [ 0.07915059],\n",
       "       [ 0.08880308],\n",
       "       [ 0.14285713],\n",
       "       [ 0.11389962],\n",
       "       [ 0.13127413],\n",
       "       [ 0.14285713],\n",
       "       [ 0.18339768],\n",
       "       [ 0.18339768],\n",
       "       [ 0.15444016],\n",
       "       [ 0.11196911],\n",
       "       [ 0.08108109],\n",
       "       [ 0.1196911 ],\n",
       "       [ 0.12934363],\n",
       "       [ 0.14671814],\n",
       "       [ 0.17181468],\n",
       "       [ 0.14864865],\n",
       "       [ 0.15250966],\n",
       "       [ 0.22007722],\n",
       "       [ 0.24324325],\n",
       "       [ 0.26640925],\n",
       "       [ 0.2027027 ],\n",
       "       [ 0.16795367],\n",
       "       [ 0.13127413],\n",
       "       [ 0.17374519],\n",
       "       [ 0.17760617],\n",
       "       [ 0.17760617],\n",
       "       [ 0.25482625],\n",
       "       [ 0.25289574],\n",
       "       [ 0.24131274],\n",
       "       [ 0.26833975],\n",
       "       [ 0.3088803 ],\n",
       "       [ 0.32432434],\n",
       "       [ 0.25675675],\n",
       "       [ 0.20656371],\n",
       "       [ 0.14671814],\n",
       "       [ 0.18725869],\n",
       "       [ 0.19305018],\n",
       "       [ 0.16216215],\n",
       "       [ 0.25289574],\n",
       "       [ 0.23745173],\n",
       "       [ 0.25096524],\n",
       "       [ 0.3088803 ],\n",
       "       [ 0.38223937],\n",
       "       [ 0.36486486],\n",
       "       [ 0.2992278 ],\n",
       "       [ 0.24131274],\n",
       "       [ 0.1911197 ],\n",
       "       [ 0.24131274],\n",
       "       [ 0.26640925],\n",
       "       [ 0.24903473],\n",
       "       [ 0.31467178],\n",
       "       [ 0.31853279],\n",
       "       [ 0.32046333],\n",
       "       [ 0.40733591],\n",
       "       [ 0.50193048],\n",
       "       [ 0.46911195],\n",
       "       [ 0.40154442],\n",
       "       [ 0.32818535],\n",
       "       [ 0.25675675],\n",
       "       [ 0.33590731],\n",
       "       [ 0.34749034],\n",
       "       [ 0.33397684],\n",
       "       [ 0.41119692],\n",
       "       [ 0.4034749 ],\n",
       "       [ 0.41312739],\n",
       "       [ 0.52123547],\n",
       "       [ 0.59652507],\n",
       "       [ 0.58108103],\n",
       "       [ 0.48455599],\n",
       "       [ 0.38996139],\n",
       "       [ 0.3223938 ],\n",
       "       [ 0.38996139],\n",
       "       [ 0.40733591],\n",
       "       [ 0.3803089 ],\n",
       "       [ 0.48648646],\n",
       "       [ 0.47104248],\n",
       "       [ 0.48455599],\n",
       "       [ 0.61389959],\n",
       "       [ 0.69691122],\n",
       "       [ 0.70077217],\n",
       "       [ 0.57915056],\n",
       "       [ 0.46911195],\n",
       "       [ 0.38803086],\n",
       "       [ 0.44787642],\n",
       "       [ 0.45559844],\n",
       "       [ 0.41312739],\n",
       "       [ 0.49806949],\n",
       "       [ 0.47104248],\n",
       "       [ 0.49999997],\n",
       "       [ 0.63899612],\n",
       "       [ 0.74710429],\n",
       "       [ 0.7741313 ],\n",
       "       [ 0.57915056],\n",
       "       [ 0.49227801],\n",
       "       [ 0.39768341],\n",
       "       [ 0.44980696],\n",
       "       [ 0.49420848],\n",
       "       [ 0.45945945],\n",
       "       [ 0.58301163],\n",
       "       [ 0.56370652],\n",
       "       [ 0.61003864],\n",
       "       [ 0.71042466],\n",
       "       [ 0.85714293],\n",
       "       [ 0.87837839],\n",
       "       [ 0.69305015],\n",
       "       [ 0.5849421 ],\n",
       "       [ 0.49806949],\n",
       "       [ 0.58108103],\n",
       "       [ 0.60424709],\n",
       "       [ 0.55405402],\n",
       "       [ 0.60810804],\n",
       "       [ 0.6891892 ],\n",
       "       [ 0.71042466],\n",
       "       [ 0.83204639],\n",
       "       [ 1.        ],\n",
       "       [ 0.96911204],\n",
       "       [ 0.77992272],\n",
       "       [ 0.6891892 ],\n",
       "       [ 0.55212355],\n",
       "       [ 0.63320458]], dtype=float32)"
      ]
     },
     "execution_count": 46,
     "metadata": {},
     "output_type": "execute_result"
    }
   ],
   "source": [
    "origin_values"
   ]
  }
 ],
 "metadata": {
  "kernelspec": {
   "display_name": "Python2 conda_virtualenv",
   "language": "python",
   "name": "testenv"
  },
  "language_info": {
   "codemirror_mode": {
    "name": "ipython",
    "version": 2
   },
   "file_extension": ".py",
   "mimetype": "text/x-python",
   "name": "python",
   "nbconvert_exporter": "python",
   "pygments_lexer": "ipython2",
   "version": "2.7.13"
  }
 },
 "nbformat": 4,
 "nbformat_minor": 2
}
