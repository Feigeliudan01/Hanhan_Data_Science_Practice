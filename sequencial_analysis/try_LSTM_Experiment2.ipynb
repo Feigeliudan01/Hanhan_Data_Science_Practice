{
 "cells": [
  {
   "cell_type": "code",
   "execution_count": 2,
   "metadata": {},
   "outputs": [],
   "source": [
    "import numpy as np\n",
    "import matplotlib.pyplot as plt\n",
    "import pandas as pd\n",
    "import math\n",
    "from keras.models import Sequential\n",
    "from keras.layers import Dense\n",
    "from keras.layers import LSTM\n",
    "from sklearn.preprocessing import MinMaxScaler\n",
    "from sklearn.metrics import mean_squared_error\n",
    "\n",
    "# download the dataset here: \n",
    "## https://datamarket.com/data/set/22u3/international-airline-passengers-monthly-totals-in-thousands-jan-49-dec-60#!ds=22u3&display=line "
   ]
  },
  {
   "cell_type": "code",
   "execution_count": 38,
   "metadata": {
    "collapsed": true
   },
   "outputs": [],
   "source": [
    "# METHOD 1 - time t to predict t+1\n",
    "## look back is 1, time step is 1\n",
    "\n",
    "np.random.seed(410)"
   ]
  },
  {
   "cell_type": "code",
   "execution_count": 39,
   "metadata": {},
   "outputs": [
    {
     "data": {
      "image/png": "[encoded data removed]",
      "text/plain": [
       "<matplotlib.figure.Figure at 0x1264cead0>"
      ]
     },
     "metadata": {},
     "output_type": "display_data"
    }
   ],
   "source": [
    "series = pd.read_csv('international-airline-passengers.csv', header=0, parse_dates=[0], index_col=0, squeeze=True)\n",
    "plt.plot(series)\n",
    "plt.show()"
   ]
  },
  {
   "cell_type": "code",
   "execution_count": 40,
   "metadata": {},
   "outputs": [
    {
     "data": {
      "text/plain": [
       "Month\n",
       "1949-01-01    112\n",
       "1949-02-01    118\n",
       "1949-03-01    132\n",
       "1949-04-01    129\n",
       "1949-05-01    121\n",
       "Name: International airline passengers: monthly totals in thousands. Jan 49 ? Dec 60, dtype: int64"
      ]
     },
     "execution_count": 40,
     "metadata": {},
     "output_type": "execute_result"
    }
   ],
   "source": [
    "series.head()"
   ]
  },
  {
   "cell_type": "code",
   "execution_count": 41,
   "metadata": {},
   "outputs": [
    {
     "data": {
      "text/plain": [
       "array([[ 0.03281853],\n",
       "       [ 0.05984557],\n",
       "       [ 0.08494207],\n",
       "       [ 0.08494207],\n",
       "       [ 0.06177607],\n",
       "       [ 0.02895753]], dtype=float32)"
      ]
     },
     "execution_count": 41,
     "metadata": {},
     "output_type": "execute_result"
    }
   ],
   "source": [
    "origin_values = series.values.astype('float32')\n",
    "\n",
    "# normalize the values\n",
    "scaler = MinMaxScaler(feature_range=(0,1))\n",
    "origin_values = scaler.fit_transform(origin_values.reshape(-1,1))   # reshape(-1,1) here is important\n",
    "origin_values[4:10]"
   ]
  },
  {
   "cell_type": "code",
   "execution_count": 42,
   "metadata": {},
   "outputs": [
    {
     "name": "stdout",
     "output_type": "stream",
     "text": [
      "96 48\n",
      "[[ 0.03281853]\n",
      " [ 0.05984557]\n",
      " [ 0.08494207]\n",
      " [ 0.08494207]\n",
      " [ 0.06177607]\n",
      " [ 0.02895753]]\n"
     ]
    }
   ],
   "source": [
    "train_size = int(len(origin_values)*0.67)\n",
    "train, test = origin_values[0:train_size,:], origin_values[train_size:len(origin_values),:]\n",
    "print len(train), len(test)\n",
    "print train[4:10]"
   ]
  },
  {
   "cell_type": "code",
   "execution_count": 43,
   "metadata": {
    "collapsed": true
   },
   "outputs": [],
   "source": [
    "# dataX indicates time t-look_back+1, while dataY indicates time t+1\n",
    "def shift_time(dataset, look_back):\n",
    "    dataX = []\n",
    "    dataY = []\n",
    "    for i in range(len(dataset)-look_back):\n",
    "        dataX.append(dataset[i:(i+look_back),0])\n",
    "        dataY.append(dataset[i+look_back,0])\n",
    "    return np.array(dataX), np.array(dataY)"
   ]
  },
  {
   "cell_type": "code",
   "execution_count": 44,
   "metadata": {},
   "outputs": [
    {
     "name": "stdout",
     "output_type": "stream",
     "text": [
      "[[ 0.03281853]\n",
      " [ 0.05984557]\n",
      " [ 0.08494207]\n",
      " [ 0.08494207]\n",
      " [ 0.06177607]\n",
      " [ 0.02895753]]\n",
      "[ 0.05984557  0.08494207  0.08494207  0.06177607  0.02895753  0.        ]\n",
      "(95, 1)\n"
     ]
    }
   ],
   "source": [
    "time_step = 1\n",
    "look_back = 1\n",
    "trainX, trainY = shift_time(train, look_back)\n",
    "testX, testY = shift_time(test, look_back)\n",
    "\n",
    "print trainX[4:10]\n",
    "print trainY[4:10]\n",
    "print trainX.shape"
   ]
  },
  {
   "cell_type": "code",
   "execution_count": 45,
   "metadata": {
    "collapsed": true
   },
   "outputs": [],
   "source": [
    "# reshape data into [samples, time_step, dimension], so that LSTM can read\n",
    "## In this case, X, Y should be the same dimension, since Y is the sequence you want to predict from X\n",
    "\n",
    "trainX = np.reshape(trainX, (trainX.shape[0], time_step, trainX.shape[1]))\n",
    "testX = np.reshape(testX, (testX.shape[0], time_step, testX.shape[1]))"
   ]
  },
  {
   "cell_type": "code",
   "execution_count": 46,
   "metadata": {},
   "outputs": [
    {
     "name": "stdout",
     "output_type": "stream",
     "text": [
      "[[[ 0.03281853]]\n",
      "\n",
      " [[ 0.05984557]]\n",
      "\n",
      " [[ 0.08494207]]\n",
      "\n",
      " [[ 0.08494207]]\n",
      "\n",
      " [[ 0.06177607]]\n",
      "\n",
      " [[ 0.02895753]]]\n",
      "[[[ 0.48455599]]\n",
      "\n",
      " [[ 0.61389959]]\n",
      "\n",
      " [[ 0.69691122]]\n",
      "\n",
      " [[ 0.70077217]]\n",
      "\n",
      " [[ 0.57915056]]\n",
      "\n",
      " [[ 0.46911195]]]\n"
     ]
    }
   ],
   "source": [
    "print trainX[4:10]\n",
    "print testX[4:10]"
   ]
  },
  {
   "cell_type": "code",
   "execution_count": 47,
   "metadata": {},
   "outputs": [
    {
     "data": {
      "text/plain": [
       "(1, 1)"
      ]
     },
     "execution_count": 47,
     "metadata": {},
     "output_type": "execute_result"
    }
   ],
   "source": [
    "trainX.shape[1:]"
   ]
  },
  {
   "cell_type": "code",
   "execution_count": 48,
   "metadata": {},
   "outputs": [
    {
     "name": "stdout",
     "output_type": "stream",
     "text": [
      "Train on 95 samples, validate on 47 samples\n",
      "Epoch 1/100\n",
      "1s - loss: 0.0328 - val_loss: 0.1836\n",
      "Epoch 2/100\n",
      "0s - loss: 0.0150 - val_loss: 0.1219\n",
      "Epoch 3/100\n",
      "0s - loss: 0.0123 - val_loss: 0.1048\n",
      "Epoch 4/100\n",
      "0s - loss: 0.0115 - val_loss: 0.0894\n",
      "Epoch 5/100\n",
      "0s - loss: 0.0107 - val_loss: 0.0869\n",
      "Epoch 6/100\n",
      "0s - loss: 0.0100 - val_loss: 0.0771\n",
      "Epoch 7/100\n",
      "0s - loss: 0.0091 - val_loss: 0.0699\n",
      "Epoch 8/100\n",
      "0s - loss: 0.0083 - val_loss: 0.0627\n",
      "Epoch 9/100\n",
      "0s - loss: 0.0074 - val_loss: 0.0569\n",
      "Epoch 10/100\n",
      "0s - loss: 0.0066 - val_loss: 0.0438\n",
      "Epoch 11/100\n",
      "0s - loss: 0.0059 - val_loss: 0.0374\n",
      "Epoch 12/100\n",
      "0s - loss: 0.0051 - val_loss: 0.0308\n",
      "Epoch 13/100\n",
      "0s - loss: 0.0045 - val_loss: 0.0296\n",
      "Epoch 14/100\n",
      "0s - loss: 0.0039 - val_loss: 0.0224\n",
      "Epoch 15/100\n",
      "0s - loss: 0.0035 - val_loss: 0.0197\n",
      "Epoch 16/100\n",
      "0s - loss: 0.0031 - val_loss: 0.0159\n",
      "Epoch 17/100\n",
      "0s - loss: 0.0028 - val_loss: 0.0137\n",
      "Epoch 18/100\n",
      "0s - loss: 0.0025 - val_loss: 0.0120\n",
      "Epoch 19/100\n",
      "0s - loss: 0.0024 - val_loss: 0.0116\n",
      "Epoch 20/100\n",
      "0s - loss: 0.0022 - val_loss: 0.0092\n",
      "Epoch 21/100\n",
      "0s - loss: 0.0022 - val_loss: 0.0090\n",
      "Epoch 22/100\n",
      "0s - loss: 0.0022 - val_loss: 0.0088\n",
      "Epoch 23/100\n",
      "0s - loss: 0.0021 - val_loss: 0.0089\n",
      "Epoch 24/100\n",
      "0s - loss: 0.0021 - val_loss: 0.0087\n",
      "Epoch 25/100\n",
      "0s - loss: 0.0021 - val_loss: 0.0089\n",
      "Epoch 26/100\n",
      "0s - loss: 0.0021 - val_loss: 0.0087\n",
      "Epoch 27/100\n",
      "0s - loss: 0.0021 - val_loss: 0.0088\n",
      "Epoch 28/100\n",
      "0s - loss: 0.0021 - val_loss: 0.0087\n",
      "Epoch 29/100\n",
      "0s - loss: 0.0021 - val_loss: 0.0089\n",
      "Epoch 30/100\n",
      "0s - loss: 0.0021 - val_loss: 0.0086\n",
      "Epoch 31/100\n",
      "0s - loss: 0.0021 - val_loss: 0.0087\n",
      "Epoch 32/100\n",
      "0s - loss: 0.0021 - val_loss: 0.0088\n",
      "Epoch 33/100\n",
      "0s - loss: 0.0021 - val_loss: 0.0087\n",
      "Epoch 34/100\n",
      "0s - loss: 0.0021 - val_loss: 0.0085\n",
      "Epoch 35/100\n",
      "0s - loss: 0.0021 - val_loss: 0.0087\n",
      "Epoch 36/100\n",
      "0s - loss: 0.0021 - val_loss: 0.0086\n",
      "Epoch 37/100\n",
      "0s - loss: 0.0021 - val_loss: 0.0085\n",
      "Epoch 38/100\n",
      "0s - loss: 0.0021 - val_loss: 0.0085\n",
      "Epoch 39/100\n",
      "0s - loss: 0.0022 - val_loss: 0.0086\n",
      "Epoch 40/100\n",
      "0s - loss: 0.0021 - val_loss: 0.0088\n",
      "Epoch 41/100\n",
      "0s - loss: 0.0021 - val_loss: 0.0086\n",
      "Epoch 42/100\n",
      "0s - loss: 0.0021 - val_loss: 0.0086\n",
      "Epoch 43/100\n",
      "0s - loss: 0.0020 - val_loss: 0.0085\n",
      "Epoch 44/100\n",
      "0s - loss: 0.0021 - val_loss: 0.0087\n",
      "Epoch 45/100\n",
      "0s - loss: 0.0021 - val_loss: 0.0085\n",
      "Epoch 46/100\n",
      "0s - loss: 0.0021 - val_loss: 0.0084\n",
      "Epoch 47/100\n",
      "0s - loss: 0.0021 - val_loss: 0.0090\n",
      "Epoch 48/100\n",
      "0s - loss: 0.0021 - val_loss: 0.0088\n",
      "Epoch 49/100\n",
      "0s - loss: 0.0020 - val_loss: 0.0086\n",
      "Epoch 50/100\n",
      "0s - loss: 0.0021 - val_loss: 0.0084\n",
      "Epoch 51/100\n",
      "0s - loss: 0.0021 - val_loss: 0.0097\n",
      "Epoch 52/100\n",
      "0s - loss: 0.0021 - val_loss: 0.0086\n",
      "Epoch 53/100\n",
      "0s - loss: 0.0021 - val_loss: 0.0086\n",
      "Epoch 54/100\n",
      "0s - loss: 0.0021 - val_loss: 0.0086\n",
      "Epoch 55/100\n",
      "0s - loss: 0.0021 - val_loss: 0.0086\n",
      "Epoch 56/100\n",
      "0s - loss: 0.0021 - val_loss: 0.0084\n",
      "Epoch 57/100\n",
      "0s - loss: 0.0021 - val_loss: 0.0083\n",
      "Epoch 58/100\n",
      "0s - loss: 0.0022 - val_loss: 0.0087\n",
      "Epoch 59/100\n",
      "0s - loss: 0.0021 - val_loss: 0.0086\n",
      "Epoch 60/100\n",
      "0s - loss: 0.0020 - val_loss: 0.0083\n",
      "Epoch 61/100\n",
      "0s - loss: 0.0021 - val_loss: 0.0085\n",
      "Epoch 62/100\n",
      "0s - loss: 0.0020 - val_loss: 0.0086\n",
      "Epoch 63/100\n",
      "1s - loss: 0.0020 - val_loss: 0.0091\n",
      "Epoch 64/100\n",
      "0s - loss: 0.0020 - val_loss: 0.0088\n",
      "Epoch 65/100\n",
      "0s - loss: 0.0021 - val_loss: 0.0087\n",
      "Epoch 66/100\n",
      "0s - loss: 0.0021 - val_loss: 0.0083\n",
      "Epoch 67/100\n",
      "0s - loss: 0.0021 - val_loss: 0.0085\n",
      "Epoch 68/100\n",
      "0s - loss: 0.0021 - val_loss: 0.0090\n",
      "Epoch 69/100\n",
      "0s - loss: 0.0021 - val_loss: 0.0089\n",
      "Epoch 70/100\n",
      "0s - loss: 0.0021 - val_loss: 0.0091\n",
      "Epoch 71/100\n",
      "0s - loss: 0.0021 - val_loss: 0.0086\n",
      "Epoch 72/100\n",
      "0s - loss: 0.0020 - val_loss: 0.0091\n",
      "Epoch 73/100\n",
      "0s - loss: 0.0021 - val_loss: 0.0088\n",
      "Epoch 74/100\n",
      "0s - loss: 0.0021 - val_loss: 0.0082\n",
      "Epoch 75/100\n",
      "0s - loss: 0.0020 - val_loss: 0.0090\n",
      "Epoch 76/100\n",
      "0s - loss: 0.0020 - val_loss: 0.0082\n",
      "Epoch 77/100\n",
      "0s - loss: 0.0020 - val_loss: 0.0087\n",
      "Epoch 78/100\n",
      "0s - loss: 0.0020 - val_loss: 0.0091\n",
      "Epoch 79/100\n",
      "0s - loss: 0.0021 - val_loss: 0.0090\n",
      "Epoch 80/100\n",
      "0s - loss: 0.0021 - val_loss: 0.0087\n",
      "Epoch 81/100\n",
      "0s - loss: 0.0021 - val_loss: 0.0087\n",
      "Epoch 82/100\n",
      "0s - loss: 0.0021 - val_loss: 0.0090\n",
      "Epoch 83/100\n",
      "0s - loss: 0.0021 - val_loss: 0.0085\n",
      "Epoch 84/100\n",
      "0s - loss: 0.0021 - val_loss: 0.0085\n",
      "Epoch 85/100\n",
      "0s - loss: 0.0020 - val_loss: 0.0082\n",
      "Epoch 86/100\n",
      "0s - loss: 0.0021 - val_loss: 0.0089\n",
      "Epoch 87/100\n",
      "0s - loss: 0.0020 - val_loss: 0.0083\n",
      "Epoch 88/100\n",
      "0s - loss: 0.0020 - val_loss: 0.0086\n",
      "Epoch 89/100\n",
      "0s - loss: 0.0021 - val_loss: 0.0091\n",
      "Epoch 90/100\n",
      "0s - loss: 0.0021 - val_loss: 0.0085\n",
      "Epoch 91/100\n",
      "0s - loss: 0.0021 - val_loss: 0.0088\n",
      "Epoch 92/100\n",
      "0s - loss: 0.0020 - val_loss: 0.0086\n",
      "Epoch 93/100\n",
      "0s - loss: 0.0020 - val_loss: 0.0082\n",
      "Epoch 94/100\n",
      "0s - loss: 0.0021 - val_loss: 0.0085\n",
      "Epoch 95/100\n",
      "0s - loss: 0.0022 - val_loss: 0.0091\n",
      "Epoch 96/100\n",
      "0s - loss: 0.0021 - val_loss: 0.0088\n",
      "Epoch 97/100\n",
      "0s - loss: 0.0021 - val_loss: 0.0090\n",
      "Epoch 98/100\n",
      "0s - loss: 0.0021 - val_loss: 0.0082\n",
      "Epoch 99/100\n",
      "0s - loss: 0.0021 - val_loss: 0.0083\n",
      "Epoch 100/100\n",
      "0s - loss: 0.0020 - val_loss: 0.0092\n"
     ]
    },
    {
     "data": {
      "text/plain": [
       "<keras.callbacks.History at 0x12779bd90>"
      ]
     },
     "execution_count": 48,
     "metadata": {},
     "output_type": "execute_result"
    }
   ],
   "source": [
    "# LSTM model\n",
    "\n",
    "model = Sequential()\n",
    "model.add(LSTM(4, input_shape=trainX.shape[1:]))  # LSTM just want (time_stem, dimension) as input_shape\n",
    "model.add(Dense(1))  # single output\n",
    "model.compile(loss='mean_squared_error', optimizer='adam')\n",
    "model.fit(trainX, trainY, epochs=100, batch_size=1, verbose=2,\n",
    "         validation_data=(testX, testY))"
   ]
  },
  {
   "cell_type": "code",
   "execution_count": 50,
   "metadata": {},
   "outputs": [
    {
     "name": "stdout",
     "output_type": "stream",
     "text": [
      "Train RMSE: 0.0448690\n",
      "Test RMSE: 0.0961093\n"
     ]
    }
   ],
   "source": [
    "# make prediction\n",
    "\n",
    "train_predict = model.predict(trainX)\n",
    "test_predict = model.predict(testX)\n",
    "\n",
    "train_RMSE = math.sqrt(mean_squared_error(trainY[:], train_predict[:,0]))\n",
    "print 'Train RMSE: %.7f' % (train_RMSE)\n",
    "test_RMSE = math.sqrt(mean_squared_error(testY[:], test_predict[:,0]))\n",
    "print 'Test RMSE: %.7f' % (test_RMSE)"
   ]
  },
  {
   "cell_type": "code",
   "execution_count": 51,
   "metadata": {},
   "outputs": [
    {
     "name": "stdout",
     "output_type": "stream",
     "text": [
      "[[ 0.04352565]\n",
      " [ 0.06731328]\n",
      " [ 0.08974933]\n",
      " [ 0.08974933]\n",
      " [ 0.0690277 ]\n",
      " [ 0.04016139]]\n",
      "(144, 1)\n",
      "(95, 1)\n",
      "(47, 1)\n"
     ]
    }
   ],
   "source": [
    "print train_predict[4:10]\n",
    "print origin_values.shape\n",
    "print train_predict.shape\n",
    "print test_predict.shape"
   ]
  },
  {
   "cell_type": "code",
   "execution_count": 52,
   "metadata": {},
   "outputs": [
    {
     "data": {
      "image/png": "[encoded data removed]",
      "text/plain": [
       "<matplotlib.figure.Figure at 0x127a87c50>"
      ]
     },
     "metadata": {},
     "output_type": "display_data"
    }
   ],
   "source": [
    "# plot the prediction\n",
    "\n",
    "train_predict_plot = np.empty_like(origin_values)\n",
    "train_predict_plot[:, :] = np.nan\n",
    "train_predict_plot[0:len(train_predict), :] = train_predict\n",
    "\n",
    "test_predict_plot = np.empty_like(origin_values)\n",
    "test_predict_plot[:, :] = np.nan\n",
    "test_predict_plot[len(train_predict)+look_back:len(origin_values)-1, :] = test_predict\n",
    "\n",
    "plt.plot(origin_values)\n",
    "plt.plot(train_predict_plot)\n",
    "plt.plot(test_predict_plot)\n",
    "plt.show()"
   ]
  },
  {
   "cell_type": "code",
   "execution_count": 5,
   "metadata": {
    "collapsed": true
   },
   "outputs": [],
   "source": [
    "# LSTM for regression, using WINDOW method\n",
    "\n",
    "import numpy as np\n",
    "import matplotlib.pyplot as plt\n",
    "import pandas as pd\n",
    "import math\n",
    "from keras.models import Sequential\n",
    "from keras.layers import Dense\n",
    "from keras.layers import LSTM\n",
    "from sklearn.preprocessing import MinMaxScaler\n",
    "from sklearn.metrics import mean_squared_error"
   ]
  },
  {
   "cell_type": "code",
   "execution_count": 19,
   "metadata": {},
   "outputs": [
    {
     "name": "stdout",
     "output_type": "stream",
     "text": [
      "96 48\n",
      "[[ 0.03281853]\n",
      " [ 0.05984557]\n",
      " [ 0.08494207]\n",
      " [ 0.08494207]\n",
      " [ 0.06177607]\n",
      " [ 0.02895753]]\n",
      "[[ 0.48455599]\n",
      " [ 0.61389959]\n",
      " [ 0.69691122]\n",
      " [ 0.70077217]\n",
      " [ 0.57915056]\n",
      " [ 0.46911195]]\n"
     ]
    }
   ],
   "source": [
    "# METHOD 2 - WINDOW method\n",
    "## time t-2, t-1, t to predict time t+1\n",
    "\n",
    "np.random.seed(410)\n",
    "series = pd.read_csv('international-airline-passengers.csv', header=0, parse_dates=[0], index_col=0, squeeze=True)\n",
    "\n",
    "origin_values = series.values.astype('float32')\n",
    "\n",
    "# normalize the values\n",
    "scaler = MinMaxScaler(feature_range=(0,1))\n",
    "origin_values = scaler.fit_transform(origin_values.reshape(-1,1))   # reshape(-1,1) here is important\n",
    "\n",
    "train_size = int(len(origin_values)*0.67)\n",
    "train, test = origin_values[0:train_size,:], origin_values[train_size:len(origin_values),:]\n",
    "\n",
    "print len(train), len(test)\n",
    "print train[4:10]\n",
    "print test[4:10]"
   ]
  },
  {
   "cell_type": "code",
   "execution_count": 20,
   "metadata": {
    "collapsed": true
   },
   "outputs": [],
   "source": [
    "# dataX indicates time t-look_back+1, while dataY indicates time t+1\n",
    "def shift_time(dataset, look_back):\n",
    "    dataX = []\n",
    "    dataY = []\n",
    "    for i in range(len(dataset)-look_back):\n",
    "        dataX.append(dataset[i:(i+look_back),0])\n",
    "        dataY.append(dataset[i+look_back,0])\n",
    "    return np.array(dataX), np.array(dataY)"
   ]
  },
  {
   "cell_type": "code",
   "execution_count": 21,
   "metadata": {},
   "outputs": [
    {
     "name": "stdout",
     "output_type": "stream",
     "text": [
      "[[ 0.03281853  0.05984557  0.08494207]\n",
      " [ 0.05984557  0.08494207  0.08494207]\n",
      " [ 0.08494207  0.08494207  0.06177607]\n",
      " [ 0.08494207  0.06177607  0.02895753]\n",
      " [ 0.06177607  0.02895753  0.        ]\n",
      " [ 0.02895753  0.          0.02702703]]\n",
      "[ 0.08494207  0.06177607  0.02895753  0.          0.02702703  0.02123553]\n",
      "(93, 3)\n"
     ]
    }
   ],
   "source": [
    "time_step = 1\n",
    "look_back = 3\n",
    "trainX, trainY = shift_time(train, look_back)\n",
    "testX, testY = shift_time(test, look_back)\n",
    "print trainX[4:10]\n",
    "print trainY[4:10]\n",
    "print trainX.shape"
   ]
  },
  {
   "cell_type": "code",
   "execution_count": 22,
   "metadata": {},
   "outputs": [
    {
     "name": "stdout",
     "output_type": "stream",
     "text": [
      "[[[ 0.03281853  0.05984557  0.08494207]]\n",
      "\n",
      " [[ 0.05984557  0.08494207  0.08494207]]\n",
      "\n",
      " [[ 0.08494207  0.08494207  0.06177607]]\n",
      "\n",
      " [[ 0.08494207  0.06177607  0.02895753]]\n",
      "\n",
      " [[ 0.06177607  0.02895753  0.        ]]\n",
      "\n",
      " [[ 0.02895753  0.          0.02702703]]]\n",
      "[[[ 0.48455599  0.61389959  0.69691122]]\n",
      "\n",
      " [[ 0.61389959  0.69691122  0.70077217]]\n",
      "\n",
      " [[ 0.69691122  0.70077217  0.57915056]]\n",
      "\n",
      " [[ 0.70077217  0.57915056  0.46911195]]\n",
      "\n",
      " [[ 0.57915056  0.46911195  0.38803086]]\n",
      "\n",
      " [[ 0.46911195  0.38803086  0.44787642]]]\n"
     ]
    }
   ],
   "source": [
    "# reshape data into [samples, time_step, dimension], so that LSTM can read\n",
    "## In this case, X, Y should be the same dimension, since Y is the sequence you want to predict from X\n",
    "trainX = np.reshape(trainX, (trainX.shape[0], time_step, trainX.shape[1]))\n",
    "testX = np.reshape(testX, (testX.shape[0], time_step, testX.shape[1]))\n",
    "\n",
    "print trainX[4:10]\n",
    "print testX[4:10]"
   ]
  },
  {
   "cell_type": "code",
   "execution_count": 23,
   "metadata": {},
   "outputs": [
    {
     "name": "stdout",
     "output_type": "stream",
     "text": [
      "Train on 93 samples, validate on 45 samples\n",
      "Epoch 1/100\n",
      "1s - loss: 0.0235 - val_loss: 0.1215\n",
      "Epoch 2/100\n",
      "0s - loss: 0.0097 - val_loss: 0.0744\n",
      "Epoch 3/100\n",
      "0s - loss: 0.0082 - val_loss: 0.0641\n",
      "Epoch 4/100\n",
      "0s - loss: 0.0074 - val_loss: 0.0518\n",
      "Epoch 5/100\n",
      "0s - loss: 0.0066 - val_loss: 0.0435\n",
      "Epoch 6/100\n",
      "0s - loss: 0.0059 - val_loss: 0.0398\n",
      "Epoch 7/100\n",
      "0s - loss: 0.0054 - val_loss: 0.0338\n",
      "Epoch 8/100\n",
      "0s - loss: 0.0051 - val_loss: 0.0284\n",
      "Epoch 9/100\n",
      "0s - loss: 0.0048 - val_loss: 0.0270\n",
      "Epoch 10/100\n",
      "0s - loss: 0.0045 - val_loss: 0.0245\n",
      "Epoch 11/100\n",
      "0s - loss: 0.0044 - val_loss: 0.0248\n",
      "Epoch 12/100\n",
      "0s - loss: 0.0043 - val_loss: 0.0235\n",
      "Epoch 13/100\n",
      "0s - loss: 0.0042 - val_loss: 0.0225\n",
      "Epoch 14/100\n",
      "0s - loss: 0.0041 - val_loss: 0.0201\n",
      "Epoch 15/100\n",
      "0s - loss: 0.0040 - val_loss: 0.0213\n",
      "Epoch 16/100\n",
      "0s - loss: 0.0040 - val_loss: 0.0201\n",
      "Epoch 17/100\n",
      "0s - loss: 0.0039 - val_loss: 0.0196\n",
      "Epoch 18/100\n",
      "0s - loss: 0.0038 - val_loss: 0.0190\n",
      "Epoch 19/100\n",
      "0s - loss: 0.0039 - val_loss: 0.0183\n",
      "Epoch 20/100\n",
      "0s - loss: 0.0039 - val_loss: 0.0205\n",
      "Epoch 21/100\n",
      "0s - loss: 0.0038 - val_loss: 0.0206\n",
      "Epoch 22/100\n",
      "0s - loss: 0.0039 - val_loss: 0.0207\n",
      "Epoch 23/100\n",
      "0s - loss: 0.0037 - val_loss: 0.0186\n",
      "Epoch 24/100\n",
      "0s - loss: 0.0036 - val_loss: 0.0197\n",
      "Epoch 25/100\n",
      "0s - loss: 0.0036 - val_loss: 0.0182\n",
      "Epoch 26/100\n",
      "0s - loss: 0.0036 - val_loss: 0.0193\n",
      "Epoch 27/100\n",
      "0s - loss: 0.0035 - val_loss: 0.0186\n",
      "Epoch 28/100\n",
      "0s - loss: 0.0035 - val_loss: 0.0190\n",
      "Epoch 29/100\n",
      "0s - loss: 0.0035 - val_loss: 0.0167\n",
      "Epoch 30/100\n",
      "0s - loss: 0.0034 - val_loss: 0.0170\n",
      "Epoch 31/100\n",
      "0s - loss: 0.0034 - val_loss: 0.0169\n",
      "Epoch 32/100\n",
      "0s - loss: 0.0034 - val_loss: 0.0167\n",
      "Epoch 33/100\n",
      "0s - loss: 0.0034 - val_loss: 0.0175\n",
      "Epoch 34/100\n",
      "0s - loss: 0.0032 - val_loss: 0.0151\n",
      "Epoch 35/100\n",
      "0s - loss: 0.0033 - val_loss: 0.0164\n",
      "Epoch 36/100\n",
      "0s - loss: 0.0033 - val_loss: 0.0172\n",
      "Epoch 37/100\n",
      "0s - loss: 0.0032 - val_loss: 0.0157\n",
      "Epoch 38/100\n",
      "0s - loss: 0.0031 - val_loss: 0.0156\n",
      "Epoch 39/100\n",
      "0s - loss: 0.0031 - val_loss: 0.0173\n",
      "Epoch 40/100\n",
      "0s - loss: 0.0032 - val_loss: 0.0166\n",
      "Epoch 41/100\n",
      "0s - loss: 0.0031 - val_loss: 0.0169\n",
      "Epoch 42/100\n",
      "0s - loss: 0.0031 - val_loss: 0.0172\n",
      "Epoch 43/100\n",
      "0s - loss: 0.0031 - val_loss: 0.0184\n",
      "Epoch 44/100\n",
      "0s - loss: 0.0031 - val_loss: 0.0156\n",
      "Epoch 45/100\n",
      "0s - loss: 0.0030 - val_loss: 0.0158\n",
      "Epoch 46/100\n",
      "0s - loss: 0.0030 - val_loss: 0.0163\n",
      "Epoch 47/100\n",
      "0s - loss: 0.0030 - val_loss: 0.0155\n",
      "Epoch 48/100\n",
      "0s - loss: 0.0030 - val_loss: 0.0158\n",
      "Epoch 49/100\n",
      "0s - loss: 0.0030 - val_loss: 0.0155\n",
      "Epoch 50/100\n",
      "0s - loss: 0.0029 - val_loss: 0.0147\n",
      "Epoch 51/100\n",
      "0s - loss: 0.0029 - val_loss: 0.0156\n",
      "Epoch 52/100\n",
      "0s - loss: 0.0029 - val_loss: 0.0144\n",
      "Epoch 53/100\n",
      "0s - loss: 0.0028 - val_loss: 0.0134\n",
      "Epoch 54/100\n",
      "0s - loss: 0.0030 - val_loss: 0.0129\n",
      "Epoch 55/100\n",
      "0s - loss: 0.0028 - val_loss: 0.0154\n",
      "Epoch 56/100\n",
      "0s - loss: 0.0028 - val_loss: 0.0165\n",
      "Epoch 57/100\n",
      "0s - loss: 0.0028 - val_loss: 0.0145\n",
      "Epoch 58/100\n",
      "0s - loss: 0.0027 - val_loss: 0.0147\n",
      "Epoch 59/100\n",
      "0s - loss: 0.0027 - val_loss: 0.0174\n",
      "Epoch 60/100\n",
      "0s - loss: 0.0027 - val_loss: 0.0131\n",
      "Epoch 61/100\n",
      "0s - loss: 0.0028 - val_loss: 0.0139\n",
      "Epoch 62/100\n",
      "0s - loss: 0.0027 - val_loss: 0.0157\n",
      "Epoch 63/100\n",
      "0s - loss: 0.0027 - val_loss: 0.0130\n",
      "Epoch 64/100\n",
      "0s - loss: 0.0026 - val_loss: 0.0133\n",
      "Epoch 65/100\n",
      "0s - loss: 0.0026 - val_loss: 0.0142\n",
      "Epoch 66/100\n",
      "0s - loss: 0.0026 - val_loss: 0.0154\n",
      "Epoch 67/100\n",
      "0s - loss: 0.0026 - val_loss: 0.0134\n",
      "Epoch 68/100\n",
      "0s - loss: 0.0025 - val_loss: 0.0136\n",
      "Epoch 69/100\n",
      "0s - loss: 0.0025 - val_loss: 0.0160\n",
      "Epoch 70/100\n",
      "0s - loss: 0.0026 - val_loss: 0.0138\n",
      "Epoch 71/100\n",
      "0s - loss: 0.0024 - val_loss: 0.0130\n",
      "Epoch 72/100\n",
      "0s - loss: 0.0024 - val_loss: 0.0126\n",
      "Epoch 73/100\n",
      "0s - loss: 0.0025 - val_loss: 0.0136\n",
      "Epoch 74/100\n",
      "0s - loss: 0.0024 - val_loss: 0.0153\n",
      "Epoch 75/100\n",
      "0s - loss: 0.0024 - val_loss: 0.0123\n",
      "Epoch 76/100\n",
      "0s - loss: 0.0025 - val_loss: 0.0143\n",
      "Epoch 77/100\n",
      "0s - loss: 0.0024 - val_loss: 0.0128\n",
      "Epoch 78/100\n",
      "0s - loss: 0.0024 - val_loss: 0.0140\n",
      "Epoch 79/100\n",
      "0s - loss: 0.0024 - val_loss: 0.0139\n",
      "Epoch 80/100\n",
      "0s - loss: 0.0024 - val_loss: 0.0132\n",
      "Epoch 81/100\n",
      "0s - loss: 0.0023 - val_loss: 0.0111\n",
      "Epoch 82/100\n",
      "0s - loss: 0.0025 - val_loss: 0.0146\n",
      "Epoch 83/100\n",
      "0s - loss: 0.0024 - val_loss: 0.0120\n",
      "Epoch 84/100\n",
      "0s - loss: 0.0023 - val_loss: 0.0133\n",
      "Epoch 85/100\n",
      "0s - loss: 0.0023 - val_loss: 0.0117\n",
      "Epoch 86/100\n",
      "0s - loss: 0.0023 - val_loss: 0.0123\n",
      "Epoch 87/100\n",
      "0s - loss: 0.0023 - val_loss: 0.0111\n",
      "Epoch 88/100\n",
      "0s - loss: 0.0024 - val_loss: 0.0130\n",
      "Epoch 89/100\n",
      "0s - loss: 0.0023 - val_loss: 0.0131\n",
      "Epoch 90/100\n",
      "0s - loss: 0.0023 - val_loss: 0.0134\n",
      "Epoch 91/100\n",
      "0s - loss: 0.0023 - val_loss: 0.0139\n",
      "Epoch 92/100\n",
      "0s - loss: 0.0022 - val_loss: 0.0125\n",
      "Epoch 93/100\n",
      "0s - loss: 0.0023 - val_loss: 0.0121\n",
      "Epoch 94/100\n",
      "0s - loss: 0.0022 - val_loss: 0.0110\n",
      "Epoch 95/100\n",
      "0s - loss: 0.0023 - val_loss: 0.0138\n",
      "Epoch 96/100\n",
      "0s - loss: 0.0022 - val_loss: 0.0142\n",
      "Epoch 97/100\n",
      "0s - loss: 0.0022 - val_loss: 0.0114\n",
      "Epoch 98/100\n",
      "0s - loss: 0.0023 - val_loss: 0.0135\n",
      "Epoch 99/100\n",
      "0s - loss: 0.0022 - val_loss: 0.0132\n",
      "Epoch 100/100\n",
      "0s - loss: 0.0022 - val_loss: 0.0128\n"
     ]
    },
    {
     "data": {
      "text/plain": [
       "<keras.callbacks.History at 0x10abd2c10>"
      ]
     },
     "execution_count": 23,
     "metadata": {},
     "output_type": "execute_result"
    }
   ],
   "source": [
    "# LSTM model\n",
    "\n",
    "model = Sequential()\n",
    "model.add(LSTM(4, input_shape=trainX.shape[1:]))  # LSTM just want (time_stem, dimension) as input_shape\n",
    "model.add(Dense(1))  # single output\n",
    "model.compile(loss='mean_squared_error', optimizer='adam')\n",
    "model.fit(trainX, trainY, epochs=100, batch_size=1, verbose=2,\n",
    "         validation_data=(testX, testY))"
   ]
  },
  {
   "cell_type": "code",
   "execution_count": 28,
   "metadata": {},
   "outputs": [
    {
     "data": {
      "text/plain": [
       "array([ 0.05818623,  0.06104316,  0.04777452,  0.06384151,  0.09034148,\n",
       "        0.09654538,  0.07851405,  0.04817338,  0.01881138,  0.03071859,\n",
       "        0.03383828,  0.0478808 ,  0.075477  ,  0.07420158,  0.05635069,\n",
       "        0.08626433,  0.1303622 ,  0.13968305,  0.1205259 ,  0.07824928,\n",
       "        0.03945486,  0.06741805,  0.08869442,  0.0977933 ,  0.14204778,\n",
       "        0.13304453,  0.13751143,  0.15184857,  0.18600462,  0.19534291,\n",
       "        0.17076336,  0.13110436,  0.09828418,  0.1211239 ,  0.13938776,\n",
       "        0.15418816,  0.17787465,  0.1651074 ,  0.16148564,  0.21677776,\n",
       "        0.25090307,  0.2704823 ,  0.22384968,  0.18143386,  0.1483217 ,\n",
       "        0.17407438,  0.18896435,  0.18797235,  0.24904077,  0.26492617,\n",
       "        0.25049731,  0.26948929,  0.30795106,  0.32627723,  0.27336895,\n",
       "        0.21941262,  0.16643195,  0.18673758,  0.20371024,  0.17886181,\n",
       "        0.24313076,  0.25319162,  0.2549316 ,  0.3046146 ,  0.37269625,\n",
       "        0.36812726,  0.30800304,  0.25202858,  0.20583917,  0.2378609 ,\n",
       "        0.27184686,  0.26034576,  0.30684134,  0.32430938,  0.3215614 ,\n",
       "        0.38908455,  0.474278  ,  0.45624447,  0.39208177,  0.32875726,\n",
       "        0.26660424,  0.32071462,  0.35040763,  0.33576733,  0.39208791,\n",
       "        0.40037331,  0.39954463,  0.48222804,  0.54836059,  0.53597748,\n",
       "        0.45847705,  0.37734446,  0.32086879], dtype=float32)"
      ]
     },
     "execution_count": 28,
     "metadata": {},
     "output_type": "execute_result"
    }
   ],
   "source": [
    "train_predict[:,0]"
   ]
  },
  {
   "cell_type": "code",
   "execution_count": 29,
   "metadata": {},
   "outputs": [
    {
     "name": "stdout",
     "output_type": "stream",
     "text": [
      "Train RMSE: 0.0459457\n",
      "Test RMSE: 0.1132370\n"
     ]
    }
   ],
   "source": [
    "# make prediction\n",
    "\n",
    "train_predict = model.predict(trainX)\n",
    "test_predict = model.predict(testX)\n",
    "\n",
    "train_RMSE = math.sqrt(mean_squared_error(trainY, train_predict[:,0]))\n",
    "print 'Train RMSE: %.7f' % (train_RMSE)\n",
    "test_RMSE = math.sqrt(mean_squared_error(testY, test_predict[:,0]))\n",
    "print 'Test RMSE: %.7f' % (test_RMSE)"
   ]
  },
  {
   "cell_type": "code",
   "execution_count": 37,
   "metadata": {},
   "outputs": [
    {
     "data": {
      "image/png": "[encoded data removed]",
      "text/plain": [
       "<matplotlib.figure.Figure at 0x1259d69d0>"
      ]
     },
     "metadata": {},
     "output_type": "display_data"
    }
   ],
   "source": [
    "# plot the prediction\n",
    "\n",
    "train_predict_plot = np.empty_like(origin_values)\n",
    "train_predict_plot[:, :] = np.nan\n",
    "train_predict_plot[0:len(train_predict), :] = train_predict\n",
    "\n",
    "test_predict_plot = np.empty_like(origin_values)\n",
    "test_predict_plot[:, :] = np.nan\n",
    "test_predict_plot[len(train_predict)+look_back*2-1:len(origin_values)-1, :] = test_predict\n",
    "\n",
    "plt.plot(origin_values)\n",
    "plt.plot(train_predict_plot)\n",
    "plt.plot(test_predict_plot)\n",
    "plt.show()"
   ]
  }
 ],
 "metadata": {
  "kernelspec": {
   "display_name": "Python2 conda_virtualenv",
   "language": "python",
   "name": "testenv"
  },
  "language_info": {
   "codemirror_mode": {
    "name": "ipython",
    "version": 2
   },
   "file_extension": ".py",
   "mimetype": "text/x-python",
   "name": "python",
   "nbconvert_exporter": "python",
   "pygments_lexer": "ipython2",
   "version": "2.7.13"
  }
 },
 "nbformat": 4,
 "nbformat_minor": 2
}
