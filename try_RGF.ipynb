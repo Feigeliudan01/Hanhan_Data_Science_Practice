{
 "cells": [
  {
   "cell_type": "code",
   "execution_count": 8,
   "metadata": {},
   "outputs": [],
   "source": [
    "# Get data here: https://datahack.analyticsvidhya.com/contest/practice-problem-big-mart-sales-iii/\n",
    "import pandas as pd\n",
    "import numpy as np\n",
    "from rgf.sklearn import RGFRegressor\n",
    "from sklearn.model_selection import GridSearchCV"
   ]
  },
  {
   "cell_type": "code",
   "execution_count": 2,
   "metadata": {
    "collapsed": true
   },
   "outputs": [],
   "source": [
    "train = pd.read_csv(\"Big_Mart_Train.csv\")\n",
    "test = pd.read_csv(\"Big_Mart_Test.csv\")"
   ]
  },
  {
   "cell_type": "code",
   "execution_count": 3,
   "metadata": {
    "collapsed": true
   },
   "outputs": [],
   "source": [
    "train.Item_Weight = train.Item_Weight.fillna(np.nanmedian(train.Item_Weight))\n",
    "test.Item_Weight = test.Item_Weight.fillna(np.nanmedian(test.Item_Weight))"
   ]
  },
  {
   "cell_type": "code",
   "execution_count": 4,
   "metadata": {
    "collapsed": true
   },
   "outputs": [],
   "source": [
    "train.Outlet_Size = train.Outlet_Size.fillna(train.Outlet_Size.mode().iloc[0])\n",
    "test.Outlet_Size = test.Outlet_Size.fillna(train.Outlet_Size.mode().iloc[0])"
   ]
  },
  {
   "cell_type": "code",
   "execution_count": 5,
   "metadata": {
    "collapsed": true
   },
   "outputs": [],
   "source": [
    "train.Item_Fat_Content = train.Item_Fat_Content.replace(['low fat', 'LF'], ['Low Fat', 'Low Fat'])\n",
    "test.Item_Fat_Content = test.Item_Fat_Content.replace(['low fat', 'LF'], ['Low Fat', 'Low Fat'])\n",
    "train.Item_Fat_Content = train.Item_Fat_Content.replace(['reg'], ['Regular'])\n",
    "test.Item_Fat_Content = test.Item_Fat_Content.replace(['reg'], ['Regular'])"
   ]
  },
  {
   "cell_type": "code",
   "execution_count": 6,
   "metadata": {
    "collapsed": true
   },
   "outputs": [],
   "source": [
    "from sklearn.model_selection import train_test_split\n",
    "\n",
    "train = train.drop('Item_Identifier',axis=1)\n",
    "test = test.drop('Item_Identifier',axis=1)\n",
    "\n",
    "y = train.Item_Outlet_Sales\n",
    "X = train.drop(['Item_Outlet_Sales'], axis=1)\n",
    "\n",
    "X_train, X_validation, y_train, y_validation = train_test_split(X, y, train_size=0.7, test_size=0.3, random_state=410)"
   ]
  },
  {
   "cell_type": "code",
   "execution_count": 10,
   "metadata": {},
   "outputs": [],
   "source": [
    "parameters = {'max_leaf':[1000,1200,1300,1400,1500,1600,1700,1800,1900,2000],\n",
    "              'l2':[0.1,0.2,0.3],\n",
    "              'min_samples_leaf':[4,10]}\n",
    "clf = GridSearchCV(estimator='rgf',\n",
    "                   param_grid=parameters,\n",
    "                   scoring='neg_mean_squared_error',\n",
    "                   n_jobs = -1,\n",
    "                   cv = 3)"
   ]
  }
 ],
 "metadata": {
  "kernelspec": {
   "display_name": "Python 2",
   "language": "python",
   "name": "python2"
  },
  "language_info": {
   "codemirror_mode": {
    "name": "ipython",
    "version": 2
   },
   "file_extension": ".py",
   "mimetype": "text/x-python",
   "name": "python",
   "nbconvert_exporter": "python",
   "pygments_lexer": "ipython2",
   "version": "2.7.13"
  }
 },
 "nbformat": 4,
 "nbformat_minor": 2
}
