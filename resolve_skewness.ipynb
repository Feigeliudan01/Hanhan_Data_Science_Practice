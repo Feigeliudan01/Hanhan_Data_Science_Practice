{
 "cells": [
  {
   "cell_type": "code",
   "execution_count": 3,
   "metadata": {
    "collapsed": true
   },
   "outputs": [],
   "source": [
    "import pandas as pd\n",
    "import matplotlib.pylab as plt\n",
    "from sklearn import preprocessing\n",
    "from scipy.stats import skew\n",
    "\n",
    "\n",
    "data = pd.read_csv('168866123_T_ONTIME.csv') "
   ]
  },
  {
   "cell_type": "code",
   "execution_count": 11,
   "metadata": {
    "collapsed": false
   },
   "outputs": [],
   "source": [
    "data.drop(['Unnamed: 7'], axis = 1 , inplace= True,errors= 'ignore')"
   ]
  },
  {
   "cell_type": "code",
   "execution_count": 12,
   "metadata": {
    "collapsed": false
   },
   "outputs": [
    {
     "name": "stdout",
     "output_type": "stream",
     "text": [
      "   ORIGIN_AIRPORT_ID  ORIGIN_AIRPORT_SEQ_ID  ORIGIN_CITY_MARKET_ID  \\\n",
      "0              10135                1013503                  30135   \n",
      "1              10135                1013503                  30135   \n",
      "2              10135                1013503                  30135   \n",
      "3              10135                1013503                  30135   \n",
      "4              10135                1013503                  30135   \n",
      "\n",
      "   DEST_AIRPORT_ID  DEST_AIRPORT_SEQ_ID  DEST_CITY_MARKET_ID  AIR_TIME  \n",
      "0            10397              1039705                30397     121.0  \n",
      "1            10397              1039705                30397     115.0  \n",
      "2            10397              1039705                30397     108.0  \n",
      "3            10397              1039705                30397     102.0  \n",
      "4            10397              1039705                30397     104.0  \n"
     ]
    }
   ],
   "source": [
    "print data.head()"
   ]
  },
  {
   "cell_type": "code",
   "execution_count": 14,
   "metadata": {
    "collapsed": false
   },
   "outputs": [],
   "source": [
    "#Replace Missing Values with zero\n",
    "data['AIR_TIME'].fillna(0,inplace=True)"
   ]
  },
  {
   "cell_type": "code",
   "execution_count": 15,
   "metadata": {
    "collapsed": true
   },
   "outputs": [],
   "source": [
    "\n",
    "#Uses scale method from scikit-learn to transform the distribution \n",
    "#This will not impact Skewness Statistic calculation\n",
    "\n",
    "AirTime = preprocessing.scale(data['AIR_TIME'])"
   ]
  },
  {
   "cell_type": "code",
   "execution_count": 16,
   "metadata": {
    "collapsed": true
   },
   "outputs": [],
   "source": [
    "#Next We calculate Skewness using skew in spicy.stats\n",
    "skness = skew(AirTime)"
   ]
  },
  {
   "cell_type": "code",
   "execution_count": 50,
   "metadata": {
    "collapsed": false
   },
   "outputs": [
    {
     "data": {
      "image/png": "[encoded data removed]",
      "text/plain": [
       "<matplotlib.figure.Figure at 0x112384210>"
      ]
     },
     "metadata": {},
     "output_type": "display_data"
    }
   ],
   "source": [
    "%matplotlib inline\n",
    "\n",
    "#Draw the histograms \n",
    "figure = plt.figure()\n",
    "figure.add_subplot(121)   \n",
    "plt.hist(AirTime,facecolor='blue',alpha=0.75) \n",
    "plt.xlabel(\"AirTime - Transformed\") \n",
    "plt.title(\"Histogram\") \n",
    "plt.text(2,100000,\"Skewness: {0:.2f}\".format(skness)) \n",
    "\n",
    "figure.add_subplot(122) \n",
    "plt.boxplot(AirTime)\n",
    "plt.title(\"Plotbox\")\n",
    "plt.show()"
   ]
  },
  {
   "cell_type": "code",
   "execution_count": 52,
   "metadata": {
    "collapsed": false
   },
   "outputs": [],
   "source": [
    "import numpy as np\n",
    "from scipy.stats import boxcox\n",
    "\n",
    "#Change to process the square roots instead of actuals\n",
    "AirTime = preprocessing.scale(np.sqrt(data['AIR_TIME'])) \n",
    "\n",
    "#Shift the values by 1 to get rid of zeros\n",
    "AirTimeBoxCox = preprocessing.scale(boxcox(data['AIR_TIME']+1)[0])\n",
    "AirTimeOrig = preprocessing.scale(data['AIR_TIME'])\n",
    "\n",
    "#Next We calculate Skewness using skew in spicy.stats\n",
    "skness = skew(AirTime)\n",
    "sknessBoxCox = skew(AirTimeBoxCox)\n",
    "sknessOrig = skew(AirTimeOrig)"
   ]
  },
  {
   "cell_type": "code",
   "execution_count": 60,
   "metadata": {
    "collapsed": false
   },
   "outputs": [
    {
     "data": {
      "image/png": "[encoded data removed]",
      "text/plain": [
       "<matplotlib.figure.Figure at 0x10ec73750>"
      ]
     },
     "metadata": {},
     "output_type": "display_data"
    }
   ],
   "source": [
    "#We draw the histograms \n",
    "figure = plt.figure()\n",
    "figure.add_subplot(131)   \n",
    "plt.hist(AirTime,facecolor='red',alpha=0.75) \n",
    "plt.title(\"Sqrt\") \n",
    "plt.xlabel(\"Skewness: {0:.2f}\".format(skness)) \n",
    "\n",
    "figure.add_subplot(132) \n",
    "plt.hist(AirTimeBoxCox,facecolor='blue',alpha=0.75) \n",
    "plt.title(\"BoxCox\") \n",
    "plt.xlabel(\"Skewness: {0:.2f}\".format(sknessBoxCox))\n",
    "\n",
    "figure.add_subplot(133) \n",
    "plt.hist(AirTimeOrig,facecolor='green',alpha=0.75) \n",
    "plt.title(\"Original\") \n",
    "plt.xlabel(\"Skewness: {0:.2f}\".format(sknessOrig))\n",
    "\n",
    "plt.show()"
   ]
  },
  {
   "cell_type": "code",
   "execution_count": null,
   "metadata": {
    "collapsed": true
   },
   "outputs": [],
   "source": [
    "'''\n",
    "Lower Skewness better\n",
    "It seems that in this case, sqrt the data gets better results than Boxcox\n",
    "I am trying to check whether this os because of outlisers below... But it seems that not\n",
    "'''"
   ]
  },
  {
   "cell_type": "code",
   "execution_count": 61,
   "metadata": {
    "collapsed": false
   },
   "outputs": [
    {
     "data": {
      "image/png": "[encoded data removed]",
      "text/plain": [
       "<matplotlib.figure.Figure at 0x10e836090>"
      ]
     },
     "metadata": {},
     "output_type": "display_data"
    }
   ],
   "source": [
    "figure = plt.figure()\n",
    "plt.boxplot(AirTimeBoxCox)\n",
    "plt.title(\"Plotbox\")\n",
    "plt.show()"
   ]
  },
  {
   "cell_type": "code",
   "execution_count": 62,
   "metadata": {
    "collapsed": false
   },
   "outputs": [
    {
     "data": {
      "image/png": "[encoded data removed]",
      "text/plain": [
       "<matplotlib.figure.Figure at 0x10e6344d0>"
      ]
     },
     "metadata": {},
     "output_type": "display_data"
    }
   ],
   "source": [
    "figure = plt.figure()\n",
    "plt.boxplot(AirTime)\n",
    "plt.title(\"Plotbox\")\n",
    "plt.show()"
   ]
  },
  {
   "cell_type": "code",
   "execution_count": null,
   "metadata": {
    "collapsed": true
   },
   "outputs": [],
   "source": []
  }
 ],
 "metadata": {
  "kernelspec": {
   "display_name": "Python 2",
   "language": "python",
   "name": "python2"
  },
  "language_info": {
   "codemirror_mode": {
    "name": "ipython",
    "version": 2
   },
   "file_extension": ".py",
   "mimetype": "text/x-python",
   "name": "python",
   "nbconvert_exporter": "python",
   "pygments_lexer": "ipython2",
   "version": "2.7.10"
  }
 },
 "nbformat": 4,
 "nbformat_minor": 0
}
