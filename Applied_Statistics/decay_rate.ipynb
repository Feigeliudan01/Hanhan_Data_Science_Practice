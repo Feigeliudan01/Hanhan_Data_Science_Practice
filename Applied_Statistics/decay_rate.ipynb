{
 "cells": [
  {
   "cell_type": "code",
   "execution_count": 1,
   "metadata": {
    "collapsed": true
   },
   "outputs": [],
   "source": [
    "from scipy.optimize import curve_fit\n",
    "import numpy as np\n",
    "import matplotlib.pyplot as plt\n",
    "%matplotlib inline"
   ]
  },
  {
   "cell_type": "code",
   "execution_count": 2,
   "metadata": {
    "collapsed": true
   },
   "outputs": [],
   "source": [
    "def mean_time_decay(x, a, k, b):\n",
    "    return a * np.exp(-k*x) + b\n",
    "\n",
    "def half_life_decay(x, a, k, b):\n",
    "    return a * pow(2, -k*x) + b"
   ]
  },
  {
   "cell_type": "code",
   "execution_count": 3,
   "metadata": {
    "collapsed": true
   },
   "outputs": [],
   "source": [
    "x = np.array([399.75, 989.25, 1578.75, 2168.25, 2757.75, 3347.25, 3936.75, 4526.25, 5115.75, 5705.25])\n",
    "y = np.array([109,62,39,13,10,4,2,0,1,2])"
   ]
  },
  {
   "cell_type": "code",
   "execution_count": 20,
   "metadata": {},
   "outputs": [
    {
     "name": "stdout",
     "output_type": "stream",
     "text": [
      "Mean Time Decay\n"
     ]
    },
    {
     "data": {
      "image/png": "[encoded data removed]",
      "text/plain": [
       "<matplotlib.figure.Figure at 0x10d2c7a10>"
      ]
     },
     "metadata": {},
     "output_type": "display_data"
    }
   ],
   "source": [
    "print \"Mean Time Decay\"\n",
    "p0 = (1.,1.e-5,1.) # starting search koefs\n",
    "opt, pcov = curve_fit(mean_time_decay, x, y, p0)\n",
    "a, k, b = opt\n",
    "# test result\n",
    "x2 = np.linspace(250, 6000)  # with x2 here, it's making the curve smooth\n",
    "y2 = mean_time_decay(x2, a, k, b)\n",
    "fig, ax = plt.subplots()\n",
    "ax.plot(x2, y2, color='r', label='Fit. func: $f(x) = %.3f e^{-%.3f x} %+.3f$' % (a,k,b))\n",
    "ax.plot(x, y, 'bo', label='data with noise')\n",
    "ax.legend(loc='best')\n",
    "plt.show()"
   ]
  },
  {
   "cell_type": "code",
   "execution_count": 21,
   "metadata": {},
   "outputs": [
    {
     "name": "stdout",
     "output_type": "stream",
     "text": [
      "Mean Time Decay\n"
     ]
    },
    {
     "data": {
      "image/png": "[encoded data removed]",
      "text/plain": [
       "<matplotlib.figure.Figure at 0x10d21fb10>"
      ]
     },
     "metadata": {},
     "output_type": "display_data"
    }
   ],
   "source": [
    "print \"Mean Time Decay\"\n",
    "p0 = (1.,1.e-5,1.) # starting search koefs\n",
    "opt, pcov = curve_fit(half_life_decay, x, y, p0)\n",
    "a, k, b = opt\n",
    "# test result\n",
    "x2 = np.linspace(250, 6000)  # with x2 here, it's making the curve smooth\n",
    "y2 = half_life_decay(x2, a, k, b)\n",
    "fig, ax = plt.subplots()\n",
    "ax.plot(x2, y2, color='r', label='Fit. func: $f(x) = %.3f*2^{-%.3f x} %+.3f$' % (a,k,b))\n",
    "ax.plot(x, y, 'bo', label='data with noise')\n",
    "ax.legend(loc='best')\n",
    "plt.show()"
   ]
  },
  {
   "cell_type": "code",
   "execution_count": 16,
   "metadata": {
    "collapsed": true
   },
   "outputs": [],
   "source": [
    "import math\n",
    "\n",
    "def mean_time_decay_x(y, a, k, b):\n",
    "    return math.log((y-b)/a)/(-k)\n",
    "\n",
    "def half_life_decay_x(y, a, k, b):\n",
    "    return math.log((y-b)/a, 2)/(-k)"
   ]
  },
  {
   "cell_type": "code",
   "execution_count": 34,
   "metadata": {},
   "outputs": [
    {
     "name": "stdout",
     "output_type": "stream",
     "text": [
      "Given half-life population, calculate the time and decay rate\n",
      "half_life population 54\n",
      "half_life time 1567.90787369\n",
      "decay rate 0.00044208412509\n"
     ]
    }
   ],
   "source": [
    "a = 163.562\n",
    "b = -1.169\n",
    "k= 0.001\n",
    "\n",
    "print \"Given half-life population, calculate the time and decay rate\"\n",
    "y_half_life = max(y)/2\n",
    "x_half_life = half_life_decay_x(y_half_life, a, k, b)\n",
    "decay_rate = math.log(2)/x_half_life\n",
    "print \"half_life population\", y_half_life\n",
    "print \"half_life time\", x_half_life\n",
    "print \"decay rate\", decay_rate"
   ]
  },
  {
   "cell_type": "code",
   "execution_count": 35,
   "metadata": {},
   "outputs": [
    {
     "name": "stdout",
     "output_type": "stream",
     "text": [
      "Given mena_time population, calculate the time and decay rate\n",
      "mean_time population 40.0988590877\n",
      "mean_time time 1377.10815668\n",
      "decay rate 0.000726159376187\n"
     ]
    }
   ],
   "source": [
    "a = 163.562\n",
    "b = -1.169\n",
    "k= 0.001\n",
    "\n",
    "print \"Given mena_time population, calculate the time and decay rate\"\n",
    "y_mean_time = max(y)/math.e\n",
    "x_mean_time = mean_time_decay_x(y_mean_time, a, k, b)\n",
    "decay_rate = 1/x_mean_time\n",
    "print \"mean_time population\", y_mean_time\n",
    "print \"mean_time time\", x_mean_time\n",
    "print \"decay rate\", decay_rate"
   ]
  },
  {
   "cell_type": "code",
   "execution_count": null,
   "metadata": {
    "collapsed": true
   },
   "outputs": [],
   "source": []
  }
 ],
 "metadata": {
  "kernelspec": {
   "display_name": "Python 2",
   "language": "python",
   "name": "python2"
  },
  "language_info": {
   "codemirror_mode": {
    "name": "ipython",
    "version": 2
   },
   "file_extension": ".py",
   "mimetype": "text/x-python",
   "name": "python",
   "nbconvert_exporter": "python",
   "pygments_lexer": "ipython2",
   "version": "2.7.13"
  }
 },
 "nbformat": 4,
 "nbformat_minor": 2
}
