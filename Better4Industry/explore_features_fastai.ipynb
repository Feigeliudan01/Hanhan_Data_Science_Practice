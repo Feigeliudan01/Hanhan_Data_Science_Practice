{
 "cells": [
  {
   "cell_type": "markdown",
   "metadata": {},
   "source": [
    "## Try FastAI in Feature Exploration\n",
    "\n",
    "* Confidence of prediction variance\n",
    "  * It checks the average and the variance of predictions from trees (estimators) in random forests\n",
    "* Feature Importance\n",
    "  * importance plot\n",
    "  * out of bag score\n",
    "* Visualize Feature Correlation\n",
    "* Tree Inpertrepter\n",
    "  * Checks the contribution of each column to the prediction for each row\n",
    "\n",
    "\n",
    "* Data can be down loaded here (need sign in): https://datahack.analyticsvidhya.com/contest/practice-problem-big-mart-sales-iii/\n",
    "* Reference: https://github.com/fastai/fastai/blob/master/courses/ml1/lesson2-rf_interpretation.ipynb"
   ]
  },
  {
   "cell_type": "code",
   "execution_count": 2,
   "metadata": {},
   "outputs": [],
   "source": [
    "%matplotlib inline\n",
    "\n",
    "from fastai.imports import *\n",
    "from fastai.structured import *\n",
    "from pandas_summary import DataFrameSummary\n",
    "from sklearn.ensemble import RandomForestRegressor, RandomForestClassifier\n",
    "from IPython.display import display\n",
    "from sklearn import metrics\n",
    "from sklearn.preprocessing import LabelEncoder\n",
    "from sklearn.model_selection import train_test_split\n",
    "\n",
    "import warnings\n",
    "warnings.filterwarnings(\"ignore\", category=DeprecationWarning)"
   ]
  },
  {
   "cell_type": "code",
   "execution_count": 3,
   "metadata": {},
   "outputs": [
    {
     "data": {
      "text/html": [
       "<div>\n",
       "<style scoped>\n",
       "    .dataframe tbody tr th:only-of-type {\n",
       "        vertical-align: middle;\n",
       "    }\n",
       "\n",
       "    .dataframe tbody tr th {\n",
       "        vertical-align: top;\n",
       "    }\n",
       "\n",
       "    .dataframe thead th {\n",
       "        text-align: right;\n",
       "    }\n",
       "</style>\n",
       "<table border=\"1\" class=\"dataframe\">\n",
       "  <thead>\n",
       "    <tr style=\"text-align: right;\">\n",
       "      <th></th>\n",
       "      <th>Item_Identifier</th>\n",
       "      <th>Item_Weight</th>\n",
       "      <th>Item_Fat_Content</th>\n",
       "      <th>Item_Visibility</th>\n",
       "      <th>Item_Type</th>\n",
       "      <th>Item_MRP</th>\n",
       "      <th>Outlet_Identifier</th>\n",
       "      <th>Outlet_Establishment_Year</th>\n",
       "      <th>Outlet_Size</th>\n",
       "      <th>Outlet_Location_Type</th>\n",
       "      <th>Outlet_Type</th>\n",
       "      <th>Item_Outlet_Sales</th>\n",
       "    </tr>\n",
       "  </thead>\n",
       "  <tbody>\n",
       "    <tr>\n",
       "      <th>0</th>\n",
       "      <td>FDA15</td>\n",
       "      <td>9.30</td>\n",
       "      <td>Low Fat</td>\n",
       "      <td>0.016047</td>\n",
       "      <td>Dairy</td>\n",
       "      <td>249.8092</td>\n",
       "      <td>OUT049</td>\n",
       "      <td>1999</td>\n",
       "      <td>Medium</td>\n",
       "      <td>Tier 1</td>\n",
       "      <td>Supermarket Type1</td>\n",
       "      <td>3735.1380</td>\n",
       "    </tr>\n",
       "    <tr>\n",
       "      <th>1</th>\n",
       "      <td>DRC01</td>\n",
       "      <td>5.92</td>\n",
       "      <td>Regular</td>\n",
       "      <td>0.019278</td>\n",
       "      <td>Soft Drinks</td>\n",
       "      <td>48.2692</td>\n",
       "      <td>OUT018</td>\n",
       "      <td>2009</td>\n",
       "      <td>Medium</td>\n",
       "      <td>Tier 3</td>\n",
       "      <td>Supermarket Type2</td>\n",
       "      <td>443.4228</td>\n",
       "    </tr>\n",
       "    <tr>\n",
       "      <th>2</th>\n",
       "      <td>FDN15</td>\n",
       "      <td>17.50</td>\n",
       "      <td>Low Fat</td>\n",
       "      <td>0.016760</td>\n",
       "      <td>Meat</td>\n",
       "      <td>141.6180</td>\n",
       "      <td>OUT049</td>\n",
       "      <td>1999</td>\n",
       "      <td>Medium</td>\n",
       "      <td>Tier 1</td>\n",
       "      <td>Supermarket Type1</td>\n",
       "      <td>2097.2700</td>\n",
       "    </tr>\n",
       "    <tr>\n",
       "      <th>3</th>\n",
       "      <td>FDX07</td>\n",
       "      <td>19.20</td>\n",
       "      <td>Regular</td>\n",
       "      <td>0.000000</td>\n",
       "      <td>Fruits and Vegetables</td>\n",
       "      <td>182.0950</td>\n",
       "      <td>OUT010</td>\n",
       "      <td>1998</td>\n",
       "      <td>NaN</td>\n",
       "      <td>Tier 3</td>\n",
       "      <td>Grocery Store</td>\n",
       "      <td>732.3800</td>\n",
       "    </tr>\n",
       "    <tr>\n",
       "      <th>4</th>\n",
       "      <td>NCD19</td>\n",
       "      <td>8.93</td>\n",
       "      <td>Low Fat</td>\n",
       "      <td>0.000000</td>\n",
       "      <td>Household</td>\n",
       "      <td>53.8614</td>\n",
       "      <td>OUT013</td>\n",
       "      <td>1987</td>\n",
       "      <td>High</td>\n",
       "      <td>Tier 3</td>\n",
       "      <td>Supermarket Type1</td>\n",
       "      <td>994.7052</td>\n",
       "    </tr>\n",
       "  </tbody>\n",
       "</table>\n",
       "</div>"
      ],
      "text/plain": [
       "  Item_Identifier  Item_Weight Item_Fat_Content  Item_Visibility  \\\n",
       "0           FDA15         9.30          Low Fat         0.016047   \n",
       "1           DRC01         5.92          Regular         0.019278   \n",
       "2           FDN15        17.50          Low Fat         0.016760   \n",
       "3           FDX07        19.20          Regular         0.000000   \n",
       "4           NCD19         8.93          Low Fat         0.000000   \n",
       "\n",
       "               Item_Type  Item_MRP Outlet_Identifier  \\\n",
       "0                  Dairy  249.8092            OUT049   \n",
       "1            Soft Drinks   48.2692            OUT018   \n",
       "2                   Meat  141.6180            OUT049   \n",
       "3  Fruits and Vegetables  182.0950            OUT010   \n",
       "4              Household   53.8614            OUT013   \n",
       "\n",
       "   Outlet_Establishment_Year Outlet_Size Outlet_Location_Type  \\\n",
       "0                       1999      Medium               Tier 1   \n",
       "1                       2009      Medium               Tier 3   \n",
       "2                       1999      Medium               Tier 1   \n",
       "3                       1998         NaN               Tier 3   \n",
       "4                       1987        High               Tier 3   \n",
       "\n",
       "         Outlet_Type  Item_Outlet_Sales  \n",
       "0  Supermarket Type1          3735.1380  \n",
       "1  Supermarket Type2           443.4228  \n",
       "2  Supermarket Type1          2097.2700  \n",
       "3      Grocery Store           732.3800  \n",
       "4  Supermarket Type1           994.7052  "
      ]
     },
     "execution_count": 3,
     "metadata": {},
     "output_type": "execute_result"
    }
   ],
   "source": [
    "df = pd.read_csv(\"Big_Mart_Train.csv\")\n",
    "df.head()"
   ]
  },
  {
   "cell_type": "code",
   "execution_count": 4,
   "metadata": {},
   "outputs": [
    {
     "data": {
      "text/html": [
       "<div>\n",
       "<style scoped>\n",
       "    .dataframe tbody tr th:only-of-type {\n",
       "        vertical-align: middle;\n",
       "    }\n",
       "\n",
       "    .dataframe tbody tr th {\n",
       "        vertical-align: top;\n",
       "    }\n",
       "\n",
       "    .dataframe thead th {\n",
       "        text-align: right;\n",
       "    }\n",
       "</style>\n",
       "<table border=\"1\" class=\"dataframe\">\n",
       "  <thead>\n",
       "    <tr style=\"text-align: right;\">\n",
       "      <th></th>\n",
       "      <th>Item_Weight</th>\n",
       "      <th>Item_Fat_Content</th>\n",
       "      <th>Item_Visibility</th>\n",
       "      <th>Item_Type</th>\n",
       "      <th>Item_MRP</th>\n",
       "      <th>Outlet_Identifier</th>\n",
       "      <th>Outlet_Establishment_Year</th>\n",
       "      <th>Outlet_Size</th>\n",
       "      <th>Outlet_Location_Type</th>\n",
       "      <th>Outlet_Type</th>\n",
       "    </tr>\n",
       "  </thead>\n",
       "  <tbody>\n",
       "    <tr>\n",
       "      <th>0</th>\n",
       "      <td>9.30</td>\n",
       "      <td>0</td>\n",
       "      <td>0.016047</td>\n",
       "      <td>4</td>\n",
       "      <td>249.8092</td>\n",
       "      <td>9</td>\n",
       "      <td>18</td>\n",
       "      <td>1</td>\n",
       "      <td>0</td>\n",
       "      <td>1</td>\n",
       "    </tr>\n",
       "    <tr>\n",
       "      <th>1</th>\n",
       "      <td>5.92</td>\n",
       "      <td>1</td>\n",
       "      <td>0.019278</td>\n",
       "      <td>14</td>\n",
       "      <td>48.2692</td>\n",
       "      <td>3</td>\n",
       "      <td>8</td>\n",
       "      <td>1</td>\n",
       "      <td>2</td>\n",
       "      <td>2</td>\n",
       "    </tr>\n",
       "    <tr>\n",
       "      <th>2</th>\n",
       "      <td>17.50</td>\n",
       "      <td>0</td>\n",
       "      <td>0.016760</td>\n",
       "      <td>10</td>\n",
       "      <td>141.6180</td>\n",
       "      <td>9</td>\n",
       "      <td>18</td>\n",
       "      <td>1</td>\n",
       "      <td>0</td>\n",
       "      <td>1</td>\n",
       "    </tr>\n",
       "    <tr>\n",
       "      <th>3</th>\n",
       "      <td>19.20</td>\n",
       "      <td>1</td>\n",
       "      <td>0.000000</td>\n",
       "      <td>6</td>\n",
       "      <td>182.0950</td>\n",
       "      <td>0</td>\n",
       "      <td>19</td>\n",
       "      <td>1</td>\n",
       "      <td>2</td>\n",
       "      <td>0</td>\n",
       "    </tr>\n",
       "    <tr>\n",
       "      <th>4</th>\n",
       "      <td>8.93</td>\n",
       "      <td>0</td>\n",
       "      <td>0.000000</td>\n",
       "      <td>9</td>\n",
       "      <td>53.8614</td>\n",
       "      <td>1</td>\n",
       "      <td>30</td>\n",
       "      <td>0</td>\n",
       "      <td>2</td>\n",
       "      <td>1</td>\n",
       "    </tr>\n",
       "  </tbody>\n",
       "</table>\n",
       "</div>"
      ],
      "text/plain": [
       "   Item_Weight Item_Fat_Content  Item_Visibility Item_Type  Item_MRP  \\\n",
       "0         9.30                0         0.016047         4  249.8092   \n",
       "1         5.92                1         0.019278        14   48.2692   \n",
       "2        17.50                0         0.016760        10  141.6180   \n",
       "3        19.20                1         0.000000         6  182.0950   \n",
       "4         8.93                0         0.000000         9   53.8614   \n",
       "\n",
       "  Outlet_Identifier  Outlet_Establishment_Year Outlet_Size  \\\n",
       "0                 9                         18           1   \n",
       "1                 3                          8           1   \n",
       "2                 9                         18           1   \n",
       "3                 0                         19           1   \n",
       "4                 1                         30           0   \n",
       "\n",
       "  Outlet_Location_Type Outlet_Type  \n",
       "0                    0           1  \n",
       "1                    2           2  \n",
       "2                    0           1  \n",
       "3                    2           0  \n",
       "4                    2           1  "
      ]
     },
     "execution_count": 4,
     "metadata": {},
     "output_type": "execute_result"
    }
   ],
   "source": [
    "# Preprocessing\n",
    "\n",
    "## fill NA\n",
    "df.Item_Weight = df.Item_Weight.fillna(np.nanmedian(df.Item_Weight))\n",
    "df.Outlet_Size = df.Outlet_Size.fillna(df.Outlet_Size.mode().iloc[0])\n",
    "\n",
    "## standardize values\n",
    "df.Item_Fat_Content = df.Item_Fat_Content.replace(['low fat', 'LF'], ['Low Fat', 'Low Fat'])\n",
    "df.Item_Fat_Content = df.Item_Fat_Content.replace(['reg'], ['Regular'])\n",
    "\n",
    "df.Outlet_Establishment_Year = 2017 - df.Outlet_Establishment_Year\n",
    "\n",
    "## drop ids\n",
    "df.drop('Item_Identifier',axis=1, inplace=True)\n",
    "\n",
    "## label encoding on categorical data\n",
    "le = LabelEncoder()\n",
    "for i in df.columns:\n",
    "    if (df[i].dtype == 'object'):\n",
    "        df[i] = le.fit_transform(df[i].astype('str'))\n",
    "        df[i] = df[i].astype('object')\n",
    "\n",
    "## save target\n",
    "target_reg = df['Item_Outlet_Sales']  # regression target\n",
    "def reg2clf(v, threshold):\n",
    "    if v > threshold:\n",
    "        return 1\n",
    "    return 0\n",
    "target_clf = df['Item_Outlet_Sales'].apply(lambda r: reg2clf(r, df['Item_Outlet_Sales'].median()))  # classification target\n",
    "df.drop('Item_Outlet_Sales',axis=1, inplace=True)\n",
    "\n",
    "df.head()"
   ]
  },
  {
   "cell_type": "markdown",
   "metadata": {},
   "source": [
    "### Part 1 - Regression Problem\n",
    "\n",
    "`Item_Outlet_Sales` as the target, predict its value"
   ]
  },
  {
   "cell_type": "code",
   "execution_count": 5,
   "metadata": {},
   "outputs": [],
   "source": [
    "X_train, X_test, y_train, y_test = train_test_split(df, target_reg, train_size=0.75, test_size=0.25)"
   ]
  },
  {
   "cell_type": "code",
   "execution_count": 6,
   "metadata": {},
   "outputs": [
    {
     "data": {
      "text/plain": [
       "RandomForestRegressor(bootstrap=True, criterion='mse', max_depth=None,\n",
       "           max_features=0.5, max_leaf_nodes=None,\n",
       "           min_impurity_decrease=0.0, min_impurity_split=None,\n",
       "           min_samples_leaf=3, min_samples_split=2,\n",
       "           min_weight_fraction_leaf=0.0, n_estimators=40, n_jobs=-1,\n",
       "           oob_score=True, random_state=None, verbose=0, warm_start=False)"
      ]
     },
     "execution_count": 6,
     "metadata": {},
     "output_type": "execute_result"
    }
   ],
   "source": [
    "m = RandomForestRegressor(n_estimators=40, min_samples_leaf=3, max_features=0.5, n_jobs=-1, oob_score=True)\n",
    "m.fit(X_train, y_train)"
   ]
  },
  {
   "cell_type": "markdown",
   "metadata": {},
   "source": [
    "#### Confidence based on tree variance\n",
    "\n",
    "* Average of the prediction values\n",
    "* Variance of the tree predictions"
   ]
  },
  {
   "cell_type": "code",
   "execution_count": 12,
   "metadata": {},
   "outputs": [
    {
     "name": "stdout",
     "output_type": "stream",
     "text": [
      "Wall time: 0 ns\n"
     ]
    },
    {
     "data": {
      "text/plain": [
       "(404.1183472202381, 163.0359701742273)"
      ]
     },
     "execution_count": 12,
     "metadata": {},
     "output_type": "execute_result"
    }
   ],
   "source": [
    "%time \n",
    "preds = np.stack([t.predict(X_test) for t in m.estimators_])\n",
    "np.mean(preds[:,0]), np.std(preds[:,0])"
   ]
  },
  {
   "cell_type": "markdown",
   "metadata": {},
   "source": [
    "#### Plot Feature Confidence\n",
    "\n",
    "* It's in fact using pandas plot, you just need the feature importance is a dataframe.\n",
    "* Sklearn randomforest can generate feature importance and do the same plot if it's dataframe"
   ]
  },
  {
   "cell_type": "code",
   "execution_count": 26,
   "metadata": {},
   "outputs": [
    {
     "data": {
      "text/html": [
       "<div>\n",
       "<style scoped>\n",
       "    .dataframe tbody tr th:only-of-type {\n",
       "        vertical-align: middle;\n",
       "    }\n",
       "\n",
       "    .dataframe tbody tr th {\n",
       "        vertical-align: top;\n",
       "    }\n",
       "\n",
       "    .dataframe thead th {\n",
       "        text-align: right;\n",
       "    }\n",
       "</style>\n",
       "<table border=\"1\" class=\"dataframe\">\n",
       "  <thead>\n",
       "    <tr style=\"text-align: right;\">\n",
       "      <th></th>\n",
       "      <th>cols</th>\n",
       "      <th>imp</th>\n",
       "    </tr>\n",
       "  </thead>\n",
       "  <tbody>\n",
       "    <tr>\n",
       "      <th>4</th>\n",
       "      <td>Item_MRP</td>\n",
       "      <td>0.477698</td>\n",
       "    </tr>\n",
       "    <tr>\n",
       "      <th>9</th>\n",
       "      <td>Outlet_Type</td>\n",
       "      <td>0.224329</td>\n",
       "    </tr>\n",
       "    <tr>\n",
       "      <th>2</th>\n",
       "      <td>Item_Visibility</td>\n",
       "      <td>0.084507</td>\n",
       "    </tr>\n",
       "    <tr>\n",
       "      <th>6</th>\n",
       "      <td>Outlet_Establishment_Year</td>\n",
       "      <td>0.052244</td>\n",
       "    </tr>\n",
       "    <tr>\n",
       "      <th>0</th>\n",
       "      <td>Item_Weight</td>\n",
       "      <td>0.048596</td>\n",
       "    </tr>\n",
       "    <tr>\n",
       "      <th>5</th>\n",
       "      <td>Outlet_Identifier</td>\n",
       "      <td>0.044298</td>\n",
       "    </tr>\n",
       "    <tr>\n",
       "      <th>3</th>\n",
       "      <td>Item_Type</td>\n",
       "      <td>0.039882</td>\n",
       "    </tr>\n",
       "    <tr>\n",
       "      <th>7</th>\n",
       "      <td>Outlet_Size</td>\n",
       "      <td>0.009944</td>\n",
       "    </tr>\n",
       "    <tr>\n",
       "      <th>8</th>\n",
       "      <td>Outlet_Location_Type</td>\n",
       "      <td>0.009899</td>\n",
       "    </tr>\n",
       "    <tr>\n",
       "      <th>1</th>\n",
       "      <td>Item_Fat_Content</td>\n",
       "      <td>0.008603</td>\n",
       "    </tr>\n",
       "  </tbody>\n",
       "</table>\n",
       "</div>"
      ],
      "text/plain": [
       "                        cols       imp\n",
       "4                   Item_MRP  0.477698\n",
       "9                Outlet_Type  0.224329\n",
       "2            Item_Visibility  0.084507\n",
       "6  Outlet_Establishment_Year  0.052244\n",
       "0                Item_Weight  0.048596\n",
       "5          Outlet_Identifier  0.044298\n",
       "3                  Item_Type  0.039882\n",
       "7                Outlet_Size  0.009944\n",
       "8       Outlet_Location_Type  0.009899\n",
       "1           Item_Fat_Content  0.008603"
      ]
     },
     "execution_count": 26,
     "metadata": {},
     "output_type": "execute_result"
    }
   ],
   "source": [
    "fi = rf_feat_importance(m, X_train)\n",
    "fi"
   ]
  },
  {
   "cell_type": "code",
   "execution_count": 27,
   "metadata": {},
   "outputs": [],
   "source": [
    "def plot_fi(fi): \n",
    "    return fi.plot('cols', 'imp', 'barh', figsize=(12,7), legend=False, color='g')"
   ]
  },
  {
   "cell_type": "code",
   "execution_count": 28,
   "metadata": {},
   "outputs": [
    {
     "data": {
      "text/plain": [
       "<matplotlib.axes._subplots.AxesSubplot at 0x1df0cc4e9e8>"
      ]
     },
     "execution_count": 28,
     "metadata": {},
     "output_type": "execute_result"
    },
    {
     "data": {
      "image/png": "[encoded data removed]",
      "text/plain": [
       "<Figure size 864x504 with 1 Axes>"
      ]
     },
     "metadata": {},
     "output_type": "display_data"
    }
   ],
   "source": [
    "plot_fi(fi)"
   ]
  },
  {
   "cell_type": "markdown",
   "metadata": {},
   "source": [
    "#### Visualize Feature Correlation\n",
    "\n",
    "* Closer the clsuters are, higher correlation the features are\n",
    "* This method can help you understand feature correlation from an overall view, instead of just set thresholds and remove features that exceed the correlation thresholds"
   ]
  },
  {
   "cell_type": "code",
   "execution_count": 25,
   "metadata": {},
   "outputs": [
    {
     "data": {
      "image/png": "[encoded data removed]",
      "text/plain": [
       "<Figure size 1152x720 with 1 Axes>"
      ]
     },
     "metadata": {},
     "output_type": "display_data"
    }
   ],
   "source": [
    "from scipy.cluster import hierarchy as hc\n",
    "\n",
    "corr = np.round(scipy.stats.spearmanr(df).correlation, 4)  # spearman correlation method\n",
    "corr_condensed = hc.distance.squareform(1-corr)\n",
    "z = hc.linkage(corr_condensed, method='average')\n",
    "fig = plt.figure(figsize=(16,10))\n",
    "dendrogram = hc.dendrogram(z, labels=df.columns, orientation='left', leaf_font_size=16)\n",
    "plt.show()"
   ]
  },
  {
   "cell_type": "markdown",
   "metadata": {},
   "source": [
    "#### Out Of Bag Score (OOB Score)\n",
    "\n",
    "* The idea for OOB score is to calculate error on the training set, but only include the trees in the calculation of a row's error where that row was not included in training that tree. This allows us to see whether the model is over-fitting, without needing a separate validation set.\n",
    "* The result here can also indicate that Item_MRP is very important to the prediction, because if we remove this feature, the OOB score dropped dramatically"
   ]
  },
  {
   "cell_type": "code",
   "execution_count": 32,
   "metadata": {},
   "outputs": [],
   "source": [
    "def split_vals(a,n): \n",
    "    return a[:n], a[n:]\n",
    "\n",
    "def get_oob(df, n_trn, y_train):\n",
    "    m = RandomForestRegressor(n_estimators=30, min_samples_leaf=5, max_features=0.6, n_jobs=-1, oob_score=True)\n",
    "    x, _ = split_vals(df, n_trn)\n",
    "    m.fit(x, y_train)\n",
    "    return m.oob_score_"
   ]
  },
  {
   "cell_type": "code",
   "execution_count": 43,
   "metadata": {},
   "outputs": [
    {
     "data": {
      "text/plain": [
       "0.5677299442004444"
      ]
     },
     "execution_count": 43,
     "metadata": {},
     "output_type": "execute_result"
    }
   ],
   "source": [
    "get_oob(X_train, len(X_train), y_train)"
   ]
  },
  {
   "cell_type": "code",
   "execution_count": 49,
   "metadata": {},
   "outputs": [
    {
     "name": "stdout",
     "output_type": "stream",
     "text": [
      "Item_Weight 0.5713917784613173\n",
      "Item_Fat_Content 0.5677198129328864\n",
      "Item_Visibility 0.566943607174956\n",
      "Item_Type 0.5689845284652515\n",
      "Item_MRP 0.24178487639603063\n",
      "Outlet_Identifier 0.5687845260441176\n",
      "Outlet_Establishment_Year 0.5669838849327572\n",
      "Outlet_Size 0.5623689968537583\n",
      "Outlet_Location_Type 0.566531219484439\n",
      "Outlet_Type 0.570907042245696\n"
     ]
    }
   ],
   "source": [
    "# remove each feature and check oob score\n",
    "\n",
    "for col in X_train.columns:\n",
    "    print(col, get_oob(X_train.drop(col, axis=1), len(X_train), y_train))"
   ]
  },
  {
   "cell_type": "markdown",
   "metadata": {},
   "source": [
    "#### Tree Interpreter\n",
    "\n",
    "* Predictions are the values predicted by the random forest model\n",
    "* Bias is the average value of the target variable for the dataset\n",
    "* Contributions are the amount by which the predicted value was changed by each column. Negative value means negative impact on the prediction."
   ]
  },
  {
   "cell_type": "code",
   "execution_count": 76,
   "metadata": {},
   "outputs": [
    {
     "name": "stdout",
     "output_type": "stream",
     "text": [
      "True Value: 372.848\n",
      "Prediction [404.11835]\n",
      "Average of the Prediction [2164.10692]\n",
      "Contribution: [('Item_Weight', 10.695, -40.597745470328526), ('Item_Fat_Content', 0, 0.15675811624203034), ('Item_Visibility', 0.06402288099999999, 3.007057924733971), ('Item_Type', 9, 18.886169172169662), ('Item_MRP', 36.0848, -1659.9895762705426), ('Outlet_Identifier', 3, -46.62306022149405), ('Outlet_Establishment_Year', 8, -84.79638989009132), ('Outlet_Size', 1, -4.23117432936547), ('Outlet_Location_Type', 2, -21.038678096079508), ('Outlet_Type', 2, 75.23806685601942)]\n"
     ]
    }
   ],
   "source": [
    "from treeinterpreter import treeinterpreter as ti\n",
    "\n",
    "X_test.reset_index(drop=True, inplace=True)\n",
    "y_test.reset_index(drop=True, inplace=True)\n",
    "\n",
    "\n",
    "check_idx = 0\n",
    "for i in range(len(X_test)):\n",
    "    if i == check_idx:\n",
    "        r = X_test.values[None,i]\n",
    "        print('True Value:', y_test.values[i])\n",
    "        prediction, bias, contributions = ti.predict(m, r)\n",
    "        print('Prediction', prediction)\n",
    "        print('Average of the Prediction', bias)\n",
    "        print('Contribution:', [elem for elem in zip(X_test.columns, X_test.iloc[0], contributions[0])])\n",
    "        break"
   ]
  },
  {
   "cell_type": "code",
   "execution_count": 83,
   "metadata": {},
   "outputs": [
    {
     "data": {
      "text/html": [
       "<div>\n",
       "<style scoped>\n",
       "    .dataframe tbody tr th:only-of-type {\n",
       "        vertical-align: middle;\n",
       "    }\n",
       "\n",
       "    .dataframe tbody tr th {\n",
       "        vertical-align: top;\n",
       "    }\n",
       "\n",
       "    .dataframe thead th {\n",
       "        text-align: right;\n",
       "    }\n",
       "</style>\n",
       "<table border=\"1\" class=\"dataframe\">\n",
       "  <thead>\n",
       "    <tr style=\"text-align: right;\">\n",
       "      <th></th>\n",
       "      <th>Item_Fat_Content</th>\n",
       "      <th>Item_MRP</th>\n",
       "      <th>Item_Type</th>\n",
       "      <th>Item_Visibility</th>\n",
       "      <th>Item_Weight</th>\n",
       "      <th>Outlet_Establishment_Year</th>\n",
       "      <th>Outlet_Identifier</th>\n",
       "      <th>Outlet_Location_Type</th>\n",
       "      <th>Outlet_Size</th>\n",
       "      <th>Outlet_Type</th>\n",
       "    </tr>\n",
       "  </thead>\n",
       "  <tbody>\n",
       "    <tr>\n",
       "      <th>0</th>\n",
       "      <td>0.156758</td>\n",
       "      <td>-1659.989576</td>\n",
       "      <td>18.886169</td>\n",
       "      <td>3.007058</td>\n",
       "      <td>-40.597745</td>\n",
       "      <td>-84.796390</td>\n",
       "      <td>-46.623060</td>\n",
       "      <td>-21.038678</td>\n",
       "      <td>-4.231174</td>\n",
       "      <td>75.238067</td>\n",
       "    </tr>\n",
       "    <tr>\n",
       "      <th>1</th>\n",
       "      <td>14.595376</td>\n",
       "      <td>2163.373917</td>\n",
       "      <td>181.788079</td>\n",
       "      <td>410.623988</td>\n",
       "      <td>174.517728</td>\n",
       "      <td>-106.209749</td>\n",
       "      <td>264.838217</td>\n",
       "      <td>38.568468</td>\n",
       "      <td>154.803769</td>\n",
       "      <td>181.276358</td>\n",
       "    </tr>\n",
       "    <tr>\n",
       "      <th>2</th>\n",
       "      <td>10.856253</td>\n",
       "      <td>-231.523207</td>\n",
       "      <td>-23.413883</td>\n",
       "      <td>-117.870821</td>\n",
       "      <td>2.321033</td>\n",
       "      <td>-90.857276</td>\n",
       "      <td>-24.716869</td>\n",
       "      <td>-3.992019</td>\n",
       "      <td>-6.461920</td>\n",
       "      <td>97.165480</td>\n",
       "    </tr>\n",
       "    <tr>\n",
       "      <th>3</th>\n",
       "      <td>-4.150171</td>\n",
       "      <td>-431.116316</td>\n",
       "      <td>-56.032272</td>\n",
       "      <td>-38.624663</td>\n",
       "      <td>44.665567</td>\n",
       "      <td>-132.963183</td>\n",
       "      <td>-24.746570</td>\n",
       "      <td>-36.007996</td>\n",
       "      <td>-3.515600</td>\n",
       "      <td>49.179011</td>\n",
       "    </tr>\n",
       "    <tr>\n",
       "      <th>4</th>\n",
       "      <td>-5.051825</td>\n",
       "      <td>-1242.257340</td>\n",
       "      <td>-20.511018</td>\n",
       "      <td>68.938286</td>\n",
       "      <td>10.999551</td>\n",
       "      <td>-25.449231</td>\n",
       "      <td>75.226096</td>\n",
       "      <td>8.447235</td>\n",
       "      <td>33.234749</td>\n",
       "      <td>111.425028</td>\n",
       "    </tr>\n",
       "  </tbody>\n",
       "</table>\n",
       "</div>"
      ],
      "text/plain": [
       "   Item_Fat_Content     Item_MRP   Item_Type  Item_Visibility  Item_Weight  \\\n",
       "0          0.156758 -1659.989576   18.886169         3.007058   -40.597745   \n",
       "1         14.595376  2163.373917  181.788079       410.623988   174.517728   \n",
       "2         10.856253  -231.523207  -23.413883      -117.870821     2.321033   \n",
       "3         -4.150171  -431.116316  -56.032272       -38.624663    44.665567   \n",
       "4         -5.051825 -1242.257340  -20.511018        68.938286    10.999551   \n",
       "\n",
       "   Outlet_Establishment_Year  Outlet_Identifier  Outlet_Location_Type  \\\n",
       "0                 -84.796390         -46.623060            -21.038678   \n",
       "1                -106.209749         264.838217             38.568468   \n",
       "2                 -90.857276         -24.716869             -3.992019   \n",
       "3                -132.963183         -24.746570            -36.007996   \n",
       "4                 -25.449231          75.226096              8.447235   \n",
       "\n",
       "   Outlet_Size  Outlet_Type  \n",
       "0    -4.231174    75.238067  \n",
       "1   154.803769   181.276358  \n",
       "2    -6.461920    97.165480  \n",
       "3    -3.515600    49.179011  \n",
       "4    33.234749   111.425028  "
      ]
     },
     "execution_count": 83,
     "metadata": {},
     "output_type": "execute_result"
    }
   ],
   "source": [
    "contribution_dct = {}\n",
    "for i in range(len(X_test)):\n",
    "    if i == 10:\n",
    "        break\n",
    "    r = X_test.values[None,i]\n",
    "    prediction, bias, contributions = ti.predict(m, r)\n",
    "    contribution_dct[i] = dict(zip(X_test.columns, contributions[0]))\n",
    "    \n",
    "contribution_df = pd.DataFrame(contribution_dct).T\n",
    "contribution_df.head()"
   ]
  },
  {
   "cell_type": "code",
   "execution_count": 87,
   "metadata": {},
   "outputs": [
    {
     "data": {
      "text/plain": [
       "Item_Fat_Content               4.896886\n",
       "Item_MRP                    -138.811393\n",
       "Item_Type                     -0.216692\n",
       "Item_Visibility               41.417366\n",
       "Item_Weight                   46.718464\n",
       "Outlet_Establishment_Year    -72.415547\n",
       "Outlet_Identifier             47.938049\n",
       "Outlet_Location_Type         -10.002663\n",
       "Outlet_Size                   22.709071\n",
       "Outlet_Type                  -84.221599\n",
       "dtype: float64"
      ]
     },
     "execution_count": 87,
     "metadata": {},
     "output_type": "execute_result"
    }
   ],
   "source": [
    "avg_contribution = contribution_df.apply(np.mean)\n",
    "avg_contribution"
   ]
  },
  {
   "cell_type": "markdown",
   "metadata": {},
   "source": [
    "## Part 2 - Classification Problem"
   ]
  },
  {
   "cell_type": "code",
   "execution_count": 88,
   "metadata": {},
   "outputs": [],
   "source": [
    "X_train, X_test, y_train, y_test = train_test_split(df, target_clf, train_size=0.75, test_size=0.25)"
   ]
  },
  {
   "cell_type": "code",
   "execution_count": 89,
   "metadata": {},
   "outputs": [
    {
     "data": {
      "text/plain": [
       "RandomForestClassifier(bootstrap=True, class_weight=None, criterion='gini',\n",
       "            max_depth=None, max_features=0.5, max_leaf_nodes=None,\n",
       "            min_impurity_decrease=0.0, min_impurity_split=None,\n",
       "            min_samples_leaf=3, min_samples_split=2,\n",
       "            min_weight_fraction_leaf=0.0, n_estimators=40, n_jobs=-1,\n",
       "            oob_score=True, random_state=None, verbose=0, warm_start=False)"
      ]
     },
     "execution_count": 89,
     "metadata": {},
     "output_type": "execute_result"
    }
   ],
   "source": [
    "m = RandomForestClassifier(n_estimators=40, min_samples_leaf=3, max_features=0.5, n_jobs=-1, oob_score=True)\n",
    "m.fit(X_train, y_train)"
   ]
  },
  {
   "cell_type": "markdown",
   "metadata": {},
   "source": [
    "#### Confidence of tree variance\n",
    "\n",
    "* average of predicion value\n",
    "* variance"
   ]
  },
  {
   "cell_type": "code",
   "execution_count": 91,
   "metadata": {},
   "outputs": [
    {
     "name": "stdout",
     "output_type": "stream",
     "text": [
      "Wall time: 0 ns\n",
      "[[0. 1. 1. ... 0. 0. 0.]\n",
      " [0. 1. 1. ... 0. 0. 1.]\n",
      " [0. 1. 1. ... 0. 0. 1.]\n",
      " ...\n",
      " [1. 1. 1. ... 0. 0. 1.]\n",
      " [0. 1. 1. ... 0. 0. 1.]\n",
      " [0. 0. 1. ... 0. 0. 1.]]\n"
     ]
    },
    {
     "data": {
      "text/plain": [
       "(0.175, 0.3799671038392666)"
      ]
     },
     "execution_count": 91,
     "metadata": {},
     "output_type": "execute_result"
    }
   ],
   "source": [
    "%time \n",
    "preds = np.stack([t.predict(X_test) for t in m.estimators_])  # each estimator is a tre\n",
    "print(preds)\n",
    "np.mean(preds[:,0]), np.std(preds[:,0])"
   ]
  },
  {
   "cell_type": "markdown",
   "metadata": {},
   "source": [
    "#### Tree Interpreter"
   ]
  },
  {
   "cell_type": "code",
   "execution_count": 93,
   "metadata": {},
   "outputs": [
    {
     "name": "stdout",
     "output_type": "stream",
     "text": [
      "True Value: 0\n",
      "Prediction [[0.78033 0.21967]]\n",
      "Average of the Prediction [[0.5013 0.4987]]\n",
      "Contribution: [('Item_Weight', 18.0, array([-0.02467,  0.02467])), ('Item_Fat_Content', 1, array([-0.00761,  0.00761])), ('Item_Visibility', 0.142688846, array([-0.01207,  0.01207])), ('Item_Type', 6, array([ 0.00942, -0.00942])), ('Item_MRP', 88.5514, array([ 0.3259, -0.3259])), ('Outlet_Identifier', 8, array([-0.01055,  0.01055])), ('Outlet_Establishment_Year', 20, array([ 0.01162, -0.01162])), ('Outlet_Size', 2, array([-0.00119,  0.00119])), ('Outlet_Location_Type', 0, array([ 0.00531, -0.00531])), ('Outlet_Type', 1, array([-0.01713,  0.01713]))]\n"
     ]
    }
   ],
   "source": [
    "from treeinterpreter import treeinterpreter as ti\n",
    "\n",
    "X_test.reset_index(drop=True, inplace=True)\n",
    "y_test.reset_index(drop=True, inplace=True)\n",
    "\n",
    "\n",
    "check_idx = 0\n",
    "for i in range(len(X_test)):\n",
    "    if i == check_idx:\n",
    "        r = X_test.values[None,i]\n",
    "        print('True Value:', y_test.values[i])\n",
    "        prediction, bias, contributions = ti.predict(m, r)  # it predicts probability\n",
    "        print('Prediction', prediction)\n",
    "        print('Average of the Prediction', bias)\n",
    "        print('Contribution:', [elem for elem in zip(X_test.columns, X_test.iloc[0], contributions[0])])\n",
    "        break"
   ]
  },
  {
   "cell_type": "markdown",
   "metadata": {},
   "source": [
    "## Summary\n",
    "\n",
    "* It took me so much time to install FastAI, but it seems that functions I need here do not have to use FastAI\n",
    "* In tree interpreter, `predict()` is predicting probability, which is good\n",
    "* `treeinterpreter` is a bit slow, about 1 second per row, it can be used in eyeballing method when you don't have much records to check"
   ]
  }
 ],
 "metadata": {
  "kernelspec": {
   "display_name": "Python 3",
   "language": "python",
   "name": "python3"
  },
  "language_info": {
   "codemirror_mode": {
    "name": "ipython",
    "version": 3
   },
   "file_extension": ".py",
   "mimetype": "text/x-python",
   "name": "python",
   "nbconvert_exporter": "python",
   "pygments_lexer": "ipython3",
   "version": "3.6.5"
  }
 },
 "nbformat": 4,
 "nbformat_minor": 2
}
