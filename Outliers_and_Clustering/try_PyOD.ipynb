{
 "cells": [
  {
   "cell_type": "markdown",
   "metadata": {},
   "source": [
    "## Try PyOD\n",
    "\n",
    "* Basic check to see how PyOD detect anomalies"
   ]
  },
  {
   "cell_type": "code",
   "execution_count": 31,
   "metadata": {
    "collapsed": true
   },
   "outputs": [],
   "source": [
    "import pandas as pd\n",
    "import numpy as np\n",
    "import matplotlib.pyplot as plt\n",
    "from scipy import stats\n",
    "import matplotlib.font_manager"
   ]
  },
  {
   "cell_type": "markdown",
   "metadata": {},
   "source": [
    "### Test on Simulated Data"
   ]
  },
  {
   "cell_type": "code",
   "execution_count": 6,
   "metadata": {},
   "outputs": [
    {
     "name": "stdout",
     "output_type": "stream",
     "text": [
      "(190, 10)\n"
     ]
    }
   ],
   "source": [
    "from pyod.utils.data import generate_data, get_outliers_inliers\n",
    "\n",
    "outlier_fraction = 0.05\n",
    "total_records = 200\n",
    "\n",
    "# 5% outliers, better to set random_state, otherwise it's difficult to differentiate inliners and outliers in plot\n",
    "X_train, y_train = generate_data(n_train=total_records,train_only=True, n_features=2, contamination=outlier_fraction,\n",
    "                                 random_state = 10)\n",
    "x_outliers, x_inliers = get_outliers_inliers(X_train, y_train)\n",
    "\n",
    "n_inliers = len(x_inliers)\n",
    "n_outliers = len(x_outliers)\n",
    "\n",
    "print(n_inliers, n_outliers)"
   ]
  },
  {
   "cell_type": "code",
   "execution_count": 7,
   "metadata": {},
   "outputs": [
    {
     "name": "stdout",
     "output_type": "stream",
     "text": [
      "[[ 8.12134237  8.91658164]\n",
      " [ 9.08988677  9.35806311]\n",
      " [ 8.72853316  8.73078769]\n",
      " [ 9.13545602  8.74236303]\n",
      " [ 8.83968938  9.30961464]\n",
      " [ 8.95916181  9.0528698 ]\n",
      " [ 9.09318097  9.51839971]\n",
      " [ 8.9278589   8.69203977]\n",
      " [ 9.12710325  9.42224982]\n",
      " [ 9.13189251  8.87163196]]\n",
      "[ 0.  0.  0.  0.  0.  0.  0.  0.  0.  0.]\n",
      "(array([ 0.,  1.]), array([190,  10]))\n"
     ]
    }
   ],
   "source": [
    "print(X_train[:10])\n",
    "print(y_train[:10])\n",
    "print(np.unique(y_train, return_counts=True))"
   ]
  },
  {
   "cell_type": "code",
   "execution_count": 8,
   "metadata": {
    "collapsed": true
   },
   "outputs": [],
   "source": [
    "# 1 features\n",
    "f1 = X_train[:,[0]]\n",
    "f2 = X_train[:,[1]]"
   ]
  },
  {
   "cell_type": "code",
   "execution_count": 9,
   "metadata": {},
   "outputs": [
    {
     "data": {
      "image/png": "[encoded data removed]",
      "text/plain": [
       "<Figure size 432x288 with 1 Axes>"
      ]
     },
     "metadata": {},
     "output_type": "display_data"
    }
   ],
   "source": [
    "# The cluster at top right corner is inliners, others (10 points) are outliers\n",
    "plt.scatter(f1,f2)\n",
    "plt.xlabel('Feature1')\n",
    "plt.ylabel('Feature2') \n",
    "plt.show()"
   ]
  },
  {
   "cell_type": "code",
   "execution_count": 12,
   "metadata": {},
   "outputs": [
    {
     "data": {
      "text/plain": [
       "array([[-10.        ,  -9.89949749,  -9.79899497, ...,   9.79899497,\n",
       "          9.89949749,  10.        ],\n",
       "       [-10.        ,  -9.89949749,  -9.79899497, ...,   9.79899497,\n",
       "          9.89949749,  10.        ],\n",
       "       [-10.        ,  -9.89949749,  -9.79899497, ...,   9.79899497,\n",
       "          9.89949749,  10.        ],\n",
       "       ..., \n",
       "       [-10.        ,  -9.89949749,  -9.79899497, ...,   9.79899497,\n",
       "          9.89949749,  10.        ],\n",
       "       [-10.        ,  -9.89949749,  -9.79899497, ...,   9.79899497,\n",
       "          9.89949749,  10.        ],\n",
       "       [-10.        ,  -9.89949749,  -9.79899497, ...,   9.79899497,\n",
       "          9.89949749,  10.        ]])"
      ]
     },
     "execution_count": 12,
     "metadata": {},
     "output_type": "execute_result"
    }
   ],
   "source": [
    "# create a meshgrid \n",
    "## 200 points, the ploted meshgrid has both x-axis, y-axis in [-10, 10] range\n",
    "xx , yy = np.meshgrid(np.linspace(-10, 10, 200), np.linspace(-10, 10, 200))\n",
    "xx"
   ]
  },
  {
   "cell_type": "code",
   "execution_count": 18,
   "metadata": {},
   "outputs": [
    {
     "name": "stdout",
     "output_type": "stream",
     "text": [
      "(200, 200)\n",
      "(40000,)\n"
     ]
    },
    {
     "data": {
      "text/plain": [
       "array([-10.        ,  -9.89949749,  -9.79899497, ...,   9.79899497,\n",
       "         9.89949749,  10.        ])"
      ]
     },
     "execution_count": 18,
     "metadata": {},
     "output_type": "execute_result"
    }
   ],
   "source": [
    "# check some data structures used below\n",
    "print(xx.shape)\n",
    "print(xx.ravel().shape)  # ravel() method convert 200*200 matrix into a 40000 list\n",
    "xx.ravel()"
   ]
  },
  {
   "cell_type": "code",
   "execution_count": 28,
   "metadata": {},
   "outputs": [
    {
     "name": "stdout",
     "output_type": "stream",
     "text": [
      "(40000, 2)\n"
     ]
    },
    {
     "data": {
      "text/plain": [
       "array([[-10.        , -10.        ],\n",
       "       [ -9.89949749, -10.        ],\n",
       "       [ -9.79899497, -10.        ],\n",
       "       ..., \n",
       "       [  9.79899497,  10.        ],\n",
       "       [  9.89949749,  10.        ],\n",
       "       [ 10.        ,  10.        ]])"
      ]
     },
     "execution_count": 28,
     "metadata": {},
     "output_type": "execute_result"
    }
   ],
   "source": [
    "# check some data structures used below\n",
    "print(np.c_[xx.ravel(), yy.ravel()].shape)\n",
    "np.c_[xx.ravel(), yy.ravel()]"
   ]
  },
  {
   "cell_type": "code",
   "execution_count": 25,
   "metadata": {},
   "outputs": [],
   "source": [
    "# import models \n",
    "from pyod.models.ocsvm import OCSVM\n",
    "from pyod.models.loci import LOCI\n",
    "from pyod.models.sos import SOS\n",
    "from pyod.models.lscp import LSCP\n",
    "\n",
    "random_state = 10\n",
    "\n",
    "# initialize a set of detectors for LSCP\n",
    "detector_list = [LOF(n_neighbors=5), LOF(n_neighbors=10), LOF(n_neighbors=15),\n",
    "                 LOF(n_neighbors=20), LOF(n_neighbors=25), LOF(n_neighbors=30),\n",
    "                 LOF(n_neighbors=35), LOF(n_neighbors=40), LOF(n_neighbors=45),\n",
    "                 LOF(n_neighbors=50)]\n",
    "\n",
    "classifiers = {'One-class SVM (OCSVM)': OCSVM(contamination=outlier_fraction, random_state=random_state),\n",
    "              'Local Correlation Integral (LOCI)': LOCI(contamination=outlier_fraction),\n",
    "              'Stochastic Outlier Selection (SOS)': SOS(contamination=outlier_fraction),\n",
    "              'Locally Selective Combination (LSCP)': LSCP(detector_list, contamination=outlier_fraction,\n",
    "                                                        random_state=random_state)}"
   ]
  },
  {
   "cell_type": "code",
   "execution_count": null,
   "metadata": {},
   "outputs": [
    {
     "name": "stdout",
     "output_type": "stream",
     "text": [
      "\n",
      "(1, 'fitting', 'Local Correlation Integral (LOCI)')\n",
      "('Number of Errors : ', 'Local Correlation Integral (LOCI)', 12)\n"
     ]
    }
   ],
   "source": [
    "# Fit the model\n",
    "plt.figure(figsize=(10, 10))\n",
    "for i, (clf_name, clf) in enumerate(classifiers.items()):\n",
    "    print\n",
    "    print(i + 1, 'fitting', clf_name)\n",
    "    # fit the data and tag outliers\n",
    "    clf.fit(X_train)\n",
    "    scores_pred = clf.decision_function(X_train) * -1  # predicted anomaly score\n",
    "    y_pred = clf.predict(X_train)  # predict whether inliner or outlier\n",
    "    # threshold is the specified percentile (100 * outlier_fraction) at a list of scores_pred\n",
    "    threshold = stats.scoreatpercentile(scores_pred, 100 * outlier_fraction)\n",
    "    n_errors = (y_pred != y_train).sum()\n",
    "    print('Number of Errors : ', clf_name, n_errors, 'Percentage of Errors: ' n_errors*100.0/total_records)\n",
    "\n",
    "    # plot the results\n",
    "    Z = clf.decision_function(np.c_[xx.ravel(), yy.ravel()]) * -1  # predicted anomaly score for each (x,y) point\n",
    "    Z = Z.reshape(xx.shape)\n",
    "    subplot = plt.subplot(1, 2, i + 1)\n",
    "    \n",
    "    # fill blue colormap from minimum anomaly score to threshold value\n",
    "    subplot.contourf(xx, yy, Z, levels=np.linspace(Z.min(), threshold, 7),\n",
    "                         cmap=plt.cm.Blues_r)\n",
    "    # draw red contour line where anomaly score is equal to threshold\n",
    "    a = subplot.contour(xx, yy, Z, levels=[threshold],\n",
    "                            linewidths=2, colors='red')\n",
    "    # fill orange contour lines where range of anomaly score is from threshold to maximum anomaly score\n",
    "    subplot.contourf(xx, yy, Z, levels=[threshold, Z.max()], colors='orange')\n",
    "    # inliner white dots; outlier black dots\n",
    "    b = subplot.scatter(X[:-n_outliers, 0], X[:-n_outliers, 1], c='white', s=20, edgecolor='k')\n",
    "    c = subplot.scatter(X[-n_outliers:, 0], X[-n_outliers:, 1], c='black', s=20, edgecolor='k')\n",
    "    subplot.axis('tight')\n",
    "    subplot.legend(\n",
    "            [a.collections[0], b, c],\n",
    "            ['learned decision function', 'true inliers', 'true outliers'],\n",
    "            prop=matplotlib.font_manager.FontProperties(size=10),\n",
    "            loc='lower right')\n",
    "    subplot.set_xlabel(\"%d. %s (errors: %d)\" % (i + 1, clf_name, n_errors))\n",
    "    subplot.set_xlim((-7, 7))\n",
    "    subplot.set_ylim((-7, 7))\n",
    "plt.subplots_adjust(0.04, 0.1, 0.96, 0.94, 0.1, 0.26)\n",
    "plt.suptitle(\"Outlier detection\")\n",
    "# plt.savefig('ALL.png', dpi=300)\n",
    "plt.show()"
   ]
  },
  {
   "cell_type": "code",
   "execution_count": null,
   "metadata": {
    "collapsed": true
   },
   "outputs": [],
   "source": []
  }
 ],
 "metadata": {
  "kernelspec": {
   "display_name": "Python 2",
   "language": "python",
   "name": "python2"
  },
  "language_info": {
   "codemirror_mode": {
    "name": "ipython",
    "version": 2
   },
   "file_extension": ".py",
   "mimetype": "text/x-python",
   "name": "python",
   "nbconvert_exporter": "python",
   "pygments_lexer": "ipython2",
   "version": "2.7.6"
  }
 },
 "nbformat": 4,
 "nbformat_minor": 2
}
